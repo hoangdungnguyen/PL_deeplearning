{
  "nbformat": 4,
  "nbformat_minor": 0,
  "metadata": {
    "kernelspec": {
      "name": "python3",
      "display_name": "Python 3"
    },
    "language_info": {
      "codemirror_mode": {
        "name": "ipython",
        "version": 3
      },
      "file_extension": ".py",
      "mimetype": "text/x-python",
      "name": "python",
      "nbconvert_exporter": "python",
      "pygments_lexer": "ipython3",
      "version": "3.7.3"
    },
    "colab": {
      "name": "NNdropout_PL.ipynb",
      "provenance": [],
      "collapsed_sections": [],
      "include_colab_link": true
    },
    "accelerator": "GPU",
    "widgets": {
      "application/vnd.jupyter.widget-state+json": {
        "97100d42046245578a13c1bfe55c6314": {
          "model_module": "@jupyter-widgets/controls",
          "model_name": "HBoxModel",
          "state": {
            "_view_name": "HBoxView",
            "_dom_classes": [],
            "_model_name": "HBoxModel",
            "_view_module": "@jupyter-widgets/controls",
            "_model_module_version": "1.5.0",
            "_view_count": null,
            "_view_module_version": "1.5.0",
            "box_style": "",
            "layout": "IPY_MODEL_41d0ce57a01a4c329f6c4b214c6b2f99",
            "_model_module": "@jupyter-widgets/controls",
            "children": [
              "IPY_MODEL_ea533086c43e476b92fd5ef35582a2ea",
              "IPY_MODEL_12cf5fd1016b41609883295fc4614e82"
            ]
          }
        },
        "41d0ce57a01a4c329f6c4b214c6b2f99": {
          "model_module": "@jupyter-widgets/base",
          "model_name": "LayoutModel",
          "state": {
            "_view_name": "LayoutView",
            "grid_template_rows": null,
            "right": null,
            "justify_content": null,
            "_view_module": "@jupyter-widgets/base",
            "overflow": null,
            "_model_module_version": "1.2.0",
            "_view_count": null,
            "flex_flow": null,
            "width": null,
            "min_width": null,
            "border": null,
            "align_items": null,
            "bottom": null,
            "_model_module": "@jupyter-widgets/base",
            "top": null,
            "grid_column": null,
            "overflow_y": null,
            "overflow_x": null,
            "grid_auto_flow": null,
            "grid_area": null,
            "grid_template_columns": null,
            "flex": null,
            "_model_name": "LayoutModel",
            "justify_items": null,
            "grid_row": null,
            "max_height": null,
            "align_content": null,
            "visibility": null,
            "align_self": null,
            "height": null,
            "min_height": null,
            "padding": null,
            "grid_auto_rows": null,
            "grid_gap": null,
            "max_width": null,
            "order": null,
            "_view_module_version": "1.2.0",
            "grid_template_areas": null,
            "object_position": null,
            "object_fit": null,
            "grid_auto_columns": null,
            "margin": null,
            "display": null,
            "left": null
          }
        },
        "ea533086c43e476b92fd5ef35582a2ea": {
          "model_module": "@jupyter-widgets/controls",
          "model_name": "IntProgressModel",
          "state": {
            "_view_name": "ProgressView",
            "style": "IPY_MODEL_38aff5a373e94368a5d63e38017bd5ee",
            "_dom_classes": [],
            "description": "",
            "_model_name": "IntProgressModel",
            "bar_style": "success",
            "max": 200,
            "_view_module": "@jupyter-widgets/controls",
            "_model_module_version": "1.5.0",
            "value": 200,
            "_view_count": null,
            "_view_module_version": "1.5.0",
            "orientation": "horizontal",
            "min": 0,
            "description_tooltip": null,
            "_model_module": "@jupyter-widgets/controls",
            "layout": "IPY_MODEL_f106c8cd33cf455bbb7ef750c3b1af06"
          }
        },
        "12cf5fd1016b41609883295fc4614e82": {
          "model_module": "@jupyter-widgets/controls",
          "model_name": "HTMLModel",
          "state": {
            "_view_name": "HTMLView",
            "style": "IPY_MODEL_df628ddb83b24794b2f4d5d9c2419c6d",
            "_dom_classes": [],
            "description": "",
            "_model_name": "HTMLModel",
            "placeholder": "​",
            "_view_module": "@jupyter-widgets/controls",
            "_model_module_version": "1.5.0",
            "value": "100% 200/200 [01:09&lt;00:00,  2.22it/s]",
            "_view_count": null,
            "_view_module_version": "1.5.0",
            "description_tooltip": null,
            "_model_module": "@jupyter-widgets/controls",
            "layout": "IPY_MODEL_6ee9582837c2487db96dffc1029f31f3"
          }
        },
        "38aff5a373e94368a5d63e38017bd5ee": {
          "model_module": "@jupyter-widgets/controls",
          "model_name": "ProgressStyleModel",
          "state": {
            "_view_name": "StyleView",
            "_model_name": "ProgressStyleModel",
            "description_width": "",
            "_view_module": "@jupyter-widgets/base",
            "_model_module_version": "1.5.0",
            "_view_count": null,
            "_view_module_version": "1.2.0",
            "bar_color": null,
            "_model_module": "@jupyter-widgets/controls"
          }
        },
        "f106c8cd33cf455bbb7ef750c3b1af06": {
          "model_module": "@jupyter-widgets/base",
          "model_name": "LayoutModel",
          "state": {
            "_view_name": "LayoutView",
            "grid_template_rows": null,
            "right": null,
            "justify_content": null,
            "_view_module": "@jupyter-widgets/base",
            "overflow": null,
            "_model_module_version": "1.2.0",
            "_view_count": null,
            "flex_flow": null,
            "width": null,
            "min_width": null,
            "border": null,
            "align_items": null,
            "bottom": null,
            "_model_module": "@jupyter-widgets/base",
            "top": null,
            "grid_column": null,
            "overflow_y": null,
            "overflow_x": null,
            "grid_auto_flow": null,
            "grid_area": null,
            "grid_template_columns": null,
            "flex": null,
            "_model_name": "LayoutModel",
            "justify_items": null,
            "grid_row": null,
            "max_height": null,
            "align_content": null,
            "visibility": null,
            "align_self": null,
            "height": null,
            "min_height": null,
            "padding": null,
            "grid_auto_rows": null,
            "grid_gap": null,
            "max_width": null,
            "order": null,
            "_view_module_version": "1.2.0",
            "grid_template_areas": null,
            "object_position": null,
            "object_fit": null,
            "grid_auto_columns": null,
            "margin": null,
            "display": null,
            "left": null
          }
        },
        "df628ddb83b24794b2f4d5d9c2419c6d": {
          "model_module": "@jupyter-widgets/controls",
          "model_name": "DescriptionStyleModel",
          "state": {
            "_view_name": "StyleView",
            "_model_name": "DescriptionStyleModel",
            "description_width": "",
            "_view_module": "@jupyter-widgets/base",
            "_model_module_version": "1.5.0",
            "_view_count": null,
            "_view_module_version": "1.2.0",
            "_model_module": "@jupyter-widgets/controls"
          }
        },
        "6ee9582837c2487db96dffc1029f31f3": {
          "model_module": "@jupyter-widgets/base",
          "model_name": "LayoutModel",
          "state": {
            "_view_name": "LayoutView",
            "grid_template_rows": null,
            "right": null,
            "justify_content": null,
            "_view_module": "@jupyter-widgets/base",
            "overflow": null,
            "_model_module_version": "1.2.0",
            "_view_count": null,
            "flex_flow": null,
            "width": null,
            "min_width": null,
            "border": null,
            "align_items": null,
            "bottom": null,
            "_model_module": "@jupyter-widgets/base",
            "top": null,
            "grid_column": null,
            "overflow_y": null,
            "overflow_x": null,
            "grid_auto_flow": null,
            "grid_area": null,
            "grid_template_columns": null,
            "flex": null,
            "_model_name": "LayoutModel",
            "justify_items": null,
            "grid_row": null,
            "max_height": null,
            "align_content": null,
            "visibility": null,
            "align_self": null,
            "height": null,
            "min_height": null,
            "padding": null,
            "grid_auto_rows": null,
            "grid_gap": null,
            "max_width": null,
            "order": null,
            "_view_module_version": "1.2.0",
            "grid_template_areas": null,
            "object_position": null,
            "object_fit": null,
            "grid_auto_columns": null,
            "margin": null,
            "display": null,
            "left": null
          }
        },
        "9bbd457202614b2c8c72e9a1cdca3b07": {
          "model_module": "@jupyter-widgets/controls",
          "model_name": "HBoxModel",
          "state": {
            "_view_name": "HBoxView",
            "_dom_classes": [],
            "_model_name": "HBoxModel",
            "_view_module": "@jupyter-widgets/controls",
            "_model_module_version": "1.5.0",
            "_view_count": null,
            "_view_module_version": "1.5.0",
            "box_style": "",
            "layout": "IPY_MODEL_f3b41bf5fbb4473083b47e31a017f352",
            "_model_module": "@jupyter-widgets/controls",
            "children": [
              "IPY_MODEL_9a874f30554b4690ac00eecb9f412457",
              "IPY_MODEL_620ac51398884b9aabd26e6924cb960a"
            ]
          }
        },
        "f3b41bf5fbb4473083b47e31a017f352": {
          "model_module": "@jupyter-widgets/base",
          "model_name": "LayoutModel",
          "state": {
            "_view_name": "LayoutView",
            "grid_template_rows": null,
            "right": null,
            "justify_content": null,
            "_view_module": "@jupyter-widgets/base",
            "overflow": null,
            "_model_module_version": "1.2.0",
            "_view_count": null,
            "flex_flow": null,
            "width": null,
            "min_width": null,
            "border": null,
            "align_items": null,
            "bottom": null,
            "_model_module": "@jupyter-widgets/base",
            "top": null,
            "grid_column": null,
            "overflow_y": null,
            "overflow_x": null,
            "grid_auto_flow": null,
            "grid_area": null,
            "grid_template_columns": null,
            "flex": null,
            "_model_name": "LayoutModel",
            "justify_items": null,
            "grid_row": null,
            "max_height": null,
            "align_content": null,
            "visibility": null,
            "align_self": null,
            "height": null,
            "min_height": null,
            "padding": null,
            "grid_auto_rows": null,
            "grid_gap": null,
            "max_width": null,
            "order": null,
            "_view_module_version": "1.2.0",
            "grid_template_areas": null,
            "object_position": null,
            "object_fit": null,
            "grid_auto_columns": null,
            "margin": null,
            "display": null,
            "left": null
          }
        },
        "9a874f30554b4690ac00eecb9f412457": {
          "model_module": "@jupyter-widgets/controls",
          "model_name": "IntProgressModel",
          "state": {
            "_view_name": "ProgressView",
            "style": "IPY_MODEL_cedfc2de52d547a4ba56582d13d83d40",
            "_dom_classes": [],
            "description": "",
            "_model_name": "IntProgressModel",
            "bar_style": "success",
            "max": 500,
            "_view_module": "@jupyter-widgets/controls",
            "_model_module_version": "1.5.0",
            "value": 500,
            "_view_count": null,
            "_view_module_version": "1.5.0",
            "orientation": "horizontal",
            "min": 0,
            "description_tooltip": null,
            "_model_module": "@jupyter-widgets/controls",
            "layout": "IPY_MODEL_5910fc5b74184f43a611677ae74fe5d7"
          }
        },
        "620ac51398884b9aabd26e6924cb960a": {
          "model_module": "@jupyter-widgets/controls",
          "model_name": "HTMLModel",
          "state": {
            "_view_name": "HTMLView",
            "style": "IPY_MODEL_7c801be4f75a4dca874ab9138ddeaecc",
            "_dom_classes": [],
            "description": "",
            "_model_name": "HTMLModel",
            "placeholder": "​",
            "_view_module": "@jupyter-widgets/controls",
            "_model_module_version": "1.5.0",
            "value": "100% 500/500 [23:52&lt;00:00,  3.10s/it]",
            "_view_count": null,
            "_view_module_version": "1.5.0",
            "description_tooltip": null,
            "_model_module": "@jupyter-widgets/controls",
            "layout": "IPY_MODEL_da498adec72e48c78c12287ff4a4f6d9"
          }
        },
        "cedfc2de52d547a4ba56582d13d83d40": {
          "model_module": "@jupyter-widgets/controls",
          "model_name": "ProgressStyleModel",
          "state": {
            "_view_name": "StyleView",
            "_model_name": "ProgressStyleModel",
            "description_width": "",
            "_view_module": "@jupyter-widgets/base",
            "_model_module_version": "1.5.0",
            "_view_count": null,
            "_view_module_version": "1.2.0",
            "bar_color": null,
            "_model_module": "@jupyter-widgets/controls"
          }
        },
        "5910fc5b74184f43a611677ae74fe5d7": {
          "model_module": "@jupyter-widgets/base",
          "model_name": "LayoutModel",
          "state": {
            "_view_name": "LayoutView",
            "grid_template_rows": null,
            "right": null,
            "justify_content": null,
            "_view_module": "@jupyter-widgets/base",
            "overflow": null,
            "_model_module_version": "1.2.0",
            "_view_count": null,
            "flex_flow": null,
            "width": null,
            "min_width": null,
            "border": null,
            "align_items": null,
            "bottom": null,
            "_model_module": "@jupyter-widgets/base",
            "top": null,
            "grid_column": null,
            "overflow_y": null,
            "overflow_x": null,
            "grid_auto_flow": null,
            "grid_area": null,
            "grid_template_columns": null,
            "flex": null,
            "_model_name": "LayoutModel",
            "justify_items": null,
            "grid_row": null,
            "max_height": null,
            "align_content": null,
            "visibility": null,
            "align_self": null,
            "height": null,
            "min_height": null,
            "padding": null,
            "grid_auto_rows": null,
            "grid_gap": null,
            "max_width": null,
            "order": null,
            "_view_module_version": "1.2.0",
            "grid_template_areas": null,
            "object_position": null,
            "object_fit": null,
            "grid_auto_columns": null,
            "margin": null,
            "display": null,
            "left": null
          }
        },
        "7c801be4f75a4dca874ab9138ddeaecc": {
          "model_module": "@jupyter-widgets/controls",
          "model_name": "DescriptionStyleModel",
          "state": {
            "_view_name": "StyleView",
            "_model_name": "DescriptionStyleModel",
            "description_width": "",
            "_view_module": "@jupyter-widgets/base",
            "_model_module_version": "1.5.0",
            "_view_count": null,
            "_view_module_version": "1.2.0",
            "_model_module": "@jupyter-widgets/controls"
          }
        },
        "da498adec72e48c78c12287ff4a4f6d9": {
          "model_module": "@jupyter-widgets/base",
          "model_name": "LayoutModel",
          "state": {
            "_view_name": "LayoutView",
            "grid_template_rows": null,
            "right": null,
            "justify_content": null,
            "_view_module": "@jupyter-widgets/base",
            "overflow": null,
            "_model_module_version": "1.2.0",
            "_view_count": null,
            "flex_flow": null,
            "width": null,
            "min_width": null,
            "border": null,
            "align_items": null,
            "bottom": null,
            "_model_module": "@jupyter-widgets/base",
            "top": null,
            "grid_column": null,
            "overflow_y": null,
            "overflow_x": null,
            "grid_auto_flow": null,
            "grid_area": null,
            "grid_template_columns": null,
            "flex": null,
            "_model_name": "LayoutModel",
            "justify_items": null,
            "grid_row": null,
            "max_height": null,
            "align_content": null,
            "visibility": null,
            "align_self": null,
            "height": null,
            "min_height": null,
            "padding": null,
            "grid_auto_rows": null,
            "grid_gap": null,
            "max_width": null,
            "order": null,
            "_view_module_version": "1.2.0",
            "grid_template_areas": null,
            "object_position": null,
            "object_fit": null,
            "grid_auto_columns": null,
            "margin": null,
            "display": null,
            "left": null
          }
        }
      }
    }
  },
  "cells": [
    {
      "cell_type": "markdown",
      "metadata": {
        "id": "view-in-github",
        "colab_type": "text"
      },
      "source": [
        "<a href=\"https://colab.research.google.com/github/hoangdungnguyen/PL_deeplearning/blob/master/NNdropout_PL.ipynb\" target=\"_parent\"><img src=\"https://colab.research.google.com/assets/colab-badge.svg\" alt=\"Open In Colab\"/></a>"
      ]
    },
    {
      "cell_type": "code",
      "metadata": {
        "Collapsed": "false",
        "id": "yngvQZtwj6En",
        "colab_type": "code",
        "outputId": "d2da5e62-bc6b-46d1-bc26-62033d6f0efe",
        "colab": {
          "base_uri": "https://localhost:8080/",
          "height": 780
        }
      },
      "source": [
        "!pip install MulticoreTSNE\n",
        "%matplotlib inline\n",
        "from MulticoreTSNE import MulticoreTSNE as TSNE\n",
        "from matplotlib import pyplot as plt\n",
        "import torch\n",
        "from torchvision import datasets, transforms\n",
        "from torch import nn\n",
        "import torch.nn.functional as F\n",
        "import numpy as np\n",
        "import pandas as pd\n",
        "import time\n",
        "\n",
        "torch.manual_seed(42)\n",
        "np.random.seed(42)\n",
        "torch.backends.cudnn.deterministic = True\n",
        "torch.backends.cudnn.benchmark = False\n",
        "\n",
        "from tensorflow.examples.tutorials.mnist import input_data\n",
        "from sklearn.model_selection import StratifiedShuffleSplit\n",
        "from tqdm import tqdm_notebook\n",
        "\n",
        "\n",
        "mnist = input_data.read_data_sets(\"\", one_hot=True)"
      ],
      "execution_count": 1,
      "outputs": [
        {
          "output_type": "stream",
          "text": [
            "Collecting MulticoreTSNE\n",
            "  Downloading https://files.pythonhosted.org/packages/2d/e8/2afa896fa4eebfa1d0d0ba2673fddac45582ec0f06b2bdda88108ced5425/MulticoreTSNE-0.1.tar.gz\n",
            "Requirement already satisfied: numpy in /usr/local/lib/python3.6/dist-packages (from MulticoreTSNE) (1.17.5)\n",
            "Requirement already satisfied: cffi in /usr/local/lib/python3.6/dist-packages (from MulticoreTSNE) (1.13.2)\n",
            "Requirement already satisfied: pycparser in /usr/local/lib/python3.6/dist-packages (from cffi->MulticoreTSNE) (2.19)\n",
            "Building wheels for collected packages: MulticoreTSNE\n",
            "  Building wheel for MulticoreTSNE (setup.py) ... \u001b[?25l\u001b[?25hdone\n",
            "  Created wheel for MulticoreTSNE: filename=MulticoreTSNE-0.1-cp36-cp36m-linux_x86_64.whl size=68507 sha256=c221af5d051fdee97567dc073c6b544fef11ca60cb56bdd11881611253abe62b\n",
            "  Stored in directory: /root/.cache/pip/wheels/27/59/53/3b52ee63add3692254c30d687fa4dff4d128d0557861fb028e\n",
            "Successfully built MulticoreTSNE\n",
            "Installing collected packages: MulticoreTSNE\n",
            "Successfully installed MulticoreTSNE-0.1\n"
          ],
          "name": "stdout"
        },
        {
          "output_type": "display_data",
          "data": {
            "text/html": [
              "<p style=\"color: red;\">\n",
              "The default version of TensorFlow in Colab will soon switch to TensorFlow 2.x.<br>\n",
              "We recommend you <a href=\"https://www.tensorflow.org/guide/migrate\" target=\"_blank\">upgrade</a> now \n",
              "or ensure your notebook will continue to use TensorFlow 1.x via the <code>%tensorflow_version 1.x</code> magic:\n",
              "<a href=\"https://colab.research.google.com/notebooks/tensorflow_version.ipynb\" target=\"_blank\">more info</a>.</p>\n"
            ],
            "text/plain": [
              "<IPython.core.display.HTML object>"
            ]
          },
          "metadata": {
            "tags": []
          }
        },
        {
          "output_type": "stream",
          "text": [
            "WARNING:tensorflow:From <ipython-input-1-c3291a4b2cfc>:23: read_data_sets (from tensorflow.contrib.learn.python.learn.datasets.mnist) is deprecated and will be removed in a future version.\n",
            "Instructions for updating:\n",
            "Please use alternatives such as official/mnist/dataset.py from tensorflow/models.\n",
            "WARNING:tensorflow:From /usr/local/lib/python3.6/dist-packages/tensorflow_core/contrib/learn/python/learn/datasets/mnist.py:260: maybe_download (from tensorflow.contrib.learn.python.learn.datasets.base) is deprecated and will be removed in a future version.\n",
            "Instructions for updating:\n",
            "Please write your own downloading logic.\n",
            "WARNING:tensorflow:From /usr/local/lib/python3.6/dist-packages/tensorflow_core/contrib/learn/python/learn/datasets/base.py:252: _internal_retry.<locals>.wrap.<locals>.wrapped_fn (from tensorflow.contrib.learn.python.learn.datasets.base) is deprecated and will be removed in a future version.\n",
            "Instructions for updating:\n",
            "Please use urllib or similar directly.\n",
            "Successfully downloaded train-images-idx3-ubyte.gz 9912422 bytes.\n",
            "WARNING:tensorflow:From /usr/local/lib/python3.6/dist-packages/tensorflow_core/contrib/learn/python/learn/datasets/mnist.py:262: extract_images (from tensorflow.contrib.learn.python.learn.datasets.mnist) is deprecated and will be removed in a future version.\n",
            "Instructions for updating:\n",
            "Please use tf.data to implement this functionality.\n",
            "Extracting train-images-idx3-ubyte.gz\n",
            "Successfully downloaded train-labels-idx1-ubyte.gz 28881 bytes.\n",
            "WARNING:tensorflow:From /usr/local/lib/python3.6/dist-packages/tensorflow_core/contrib/learn/python/learn/datasets/mnist.py:267: extract_labels (from tensorflow.contrib.learn.python.learn.datasets.mnist) is deprecated and will be removed in a future version.\n",
            "Instructions for updating:\n",
            "Please use tf.data to implement this functionality.\n",
            "Extracting train-labels-idx1-ubyte.gz\n",
            "WARNING:tensorflow:From /usr/local/lib/python3.6/dist-packages/tensorflow_core/contrib/learn/python/learn/datasets/mnist.py:110: dense_to_one_hot (from tensorflow.contrib.learn.python.learn.datasets.mnist) is deprecated and will be removed in a future version.\n",
            "Instructions for updating:\n",
            "Please use tf.one_hot on tensors.\n",
            "Successfully downloaded t10k-images-idx3-ubyte.gz 1648877 bytes.\n",
            "Extracting t10k-images-idx3-ubyte.gz\n",
            "Successfully downloaded t10k-labels-idx1-ubyte.gz 4542 bytes.\n",
            "Extracting t10k-labels-idx1-ubyte.gz\n",
            "WARNING:tensorflow:From /usr/local/lib/python3.6/dist-packages/tensorflow_core/contrib/learn/python/learn/datasets/mnist.py:290: DataSet.__init__ (from tensorflow.contrib.learn.python.learn.datasets.mnist) is deprecated and will be removed in a future version.\n",
            "Instructions for updating:\n",
            "Please use alternatives such as official/mnist/dataset.py from tensorflow/models.\n"
          ],
          "name": "stdout"
        }
      ]
    },
    {
      "cell_type": "code",
      "metadata": {
        "id": "uWVCadRNtAOV",
        "colab_type": "code",
        "colab": {}
      },
      "source": [
        "##### Define hyper-parameters #####\n",
        "\n",
        "# Dropout parameters\n",
        "dropoutRate_0 = 0.\n",
        "dropoutRate_1 = 0.5 #ref\n",
        "\n",
        "# NN parameters\n",
        "inputN = 784\n",
        "hiddenN = 392\n",
        "hiddenN2 = 256\n",
        "hiddenN3 = 128\n",
        "outputN = 10\n",
        "\n",
        "\n",
        "# iteraction parameters\n",
        "num_labelled = 100\n",
        "trainingEpochs = 200\n",
        "PLtrainingEpochs = 500\n",
        "train_BS = 32 # ref\n",
        "unlabel_BS = 256 #ref 59900// (num_labelled)\n",
        "\n",
        "# balancing coefficient\n",
        "T1 = 100 #ref\n",
        "T2 = 600 #ref\n",
        "a = 0. #ref\n",
        "af = 3. #ref\n",
        "\n",
        "# SGD with dynamic momentum\n",
        "learningRate = 1.5 # ref\n",
        "T = 500 #ref\n",
        "k = 0.998 #ref\n",
        "pi = 0.5 #ref\n",
        "pf = 0.99 #ref\n",
        "\n",
        "# loading test\n",
        "x_test = mnist.test.images\n",
        "y_test = mnist.test.labels\n",
        "test_BS = len(x_test)// (num_labelled//train_BS)\n",
        "\n",
        "x_test = torch.from_numpy(x_test).type(torch.FloatTensor)\n",
        "y_test = torch.from_numpy(y_test.argmax(1)).type(torch.LongTensor) \n",
        "test = torch.utils.data.TensorDataset(x_test, y_test)\n",
        "test_loader = torch.utils.data.DataLoader(test, batch_size = test_BS, shuffle = True, num_workers = 8)"
      ],
      "execution_count": 0,
      "outputs": []
    },
    {
      "cell_type": "code",
      "metadata": {
        "id": "83o1b5H4mwUY",
        "colab_type": "code",
        "outputId": "22e366d8-a70d-4fb7-b2dd-6ada8b3e9972",
        "colab": {
          "base_uri": "https://localhost:8080/",
          "height": 217
        }
      },
      "source": [
        "def random_data_generator(nb_PLdata = False):\n",
        "  stratSplit = StratifiedShuffleSplit(test_size=100, n_splits=1)\n",
        "  stratSplit.get_n_splits(mnist.train.images, np.argmax(mnist.train.labels, axis = 1))\n",
        "  for train_index, test_index in stratSplit.split(X = mnist.train.images,y = mnist.train.labels):\n",
        "    x_train = mnist.train.images[test_index]\n",
        "    y_train = mnist.train.labels[test_index]\n",
        "    if nb_PLdata == False :\n",
        "      x_PL = mnist.train.images[train_index]\n",
        "    else:\n",
        "      x_PL = mnist.train.images[train_index][0:nb_PLdata]\n",
        "  return x_train, y_train, x_PL\n",
        "\n",
        "x_train_viewtest, y_train_viewtest, x_PL_viewtest = random_data_generator()\n",
        "print('Labeled data size :', x_train_viewtest.shape)\n",
        "print('Unlabeled data size :', x_PL_viewtest.shape)\n",
        "print('Proportion of class label in train data: ')\n",
        "\n",
        "print(pd.DataFrame(np.unique(np.argmax(y_train_viewtest,1), return_counts = True)).to_string())\n",
        "\n",
        "f, a = plt.subplots(1, 10, figsize=(10, 3))\n",
        "for i in range(10):\n",
        "    a[i].imshow(np.reshape(x_train_viewtest[i], (28, 28)), cmap='Greys',  interpolation='nearest')\n",
        "plt.show()\n",
        "\n",
        "print(y_train_viewtest[0:10].argmax(1))"
      ],
      "execution_count": 3,
      "outputs": [
        {
          "output_type": "stream",
          "text": [
            "Labeled data size : (100, 784)\n",
            "Unlabeled data size : (54900, 784)\n",
            "Proportion of class label in train data: \n",
            "    0   1   2   3   4  5   6   7   8   9\n",
            "0   0   1   2   3   4  5   6   7   8   9\n",
            "1  10  11  10  10  10  9  10  10  10  10\n"
          ],
          "name": "stdout"
        },
        {
          "output_type": "display_data",
          "data": {
            "image/png": "[encoded data removed]",
            "text/plain": [
              "<Figure size 720x216 with 10 Axes>"
            ]
          },
          "metadata": {
            "tags": []
          }
        },
        {
          "output_type": "stream",
          "text": [
            "[2 4 5 2 3 3 7 3 3 9]\n"
          ],
          "name": "stdout"
        }
      ]
    },
    {
      "cell_type": "code",
      "metadata": {
        "id": "KX5IlKj1ti85",
        "colab_type": "code",
        "colab": {}
      },
      "source": [
        "def data_build(nb_PLdata = False):\n",
        "  x_train, y_train, x_PL = random_data_generator(nb_PLdata)\n",
        "  x_train = torch.from_numpy(x_train).type(torch.FloatTensor)\n",
        "  y_train = torch.from_numpy(y_train.argmax(1)).type(torch.LongTensor) \n",
        "\n",
        "  x_PL = torch.from_numpy(x_PL).type(torch.FloatTensor)\n",
        "\n",
        "  train = torch.utils.data.TensorDataset(x_train, y_train)\n",
        "  train_loader = torch.utils.data.DataLoader(train, batch_size = train_BS, shuffle = True, num_workers = 8)\n",
        "\n",
        "  unlabeled = torch.utils.data.TensorDataset(x_PL)\n",
        "  unlabeled_loader = torch.utils.data.DataLoader(unlabeled, batch_size = unlabel_BS, shuffle = True, num_workers = 8)\n",
        "\n",
        "  return train_loader, unlabeled_loader"
      ],
      "execution_count": 0,
      "outputs": []
    },
    {
      "cell_type": "code",
      "metadata": {
        "Collapsed": "false",
        "id": "AuYdQcJcj6Fu",
        "colab_type": "code",
        "colab": {}
      },
      "source": [
        "\n",
        "class Net(nn.Module):\n",
        "        def __init__(self):\n",
        "            super(Net, self).__init__()\n",
        "    \n",
        "            self.fc1 = nn.Linear(inputN, hiddenN)\n",
        "            self.fc2 = nn.Linear(hiddenN, hiddenN2)\n",
        "            self.fc3 = nn.Linear(hiddenN2, outputN)\n",
        "            self.log_softmax = nn.LogSoftmax(dim = 1)\n",
        "\n",
        "        def forward(self, x):\n",
        "            x = F.relu(self.fc1(x))\n",
        "            x = F.dropout(x, training=self.training)\n",
        "            x = F.relu(self.fc2(x))\n",
        "            x = F.dropout(x, training=self.training)\n",
        "            x = F.relu(self.fc3(x))\n",
        "            x = self.log_softmax(x)\n",
        "            return x"
      ],
      "execution_count": 0,
      "outputs": []
    },
    {
      "cell_type": "markdown",
      "metadata": {
        "Collapsed": "false",
        "id": "2cvfdyVhj6F3",
        "colab_type": "text"
      },
      "source": [
        "Now let's define a function to evaluate the network and get loss and accuracy values. "
      ]
    },
    {
      "cell_type": "code",
      "metadata": {
        "Collapsed": "false",
        "id": "wCvmeOTqj6F7",
        "colab_type": "code",
        "colab": {}
      },
      "source": [
        "def evaluate(model, test_loader):\n",
        "    model.eval()\n",
        "    correct = 0 \n",
        "    loss = 0\n",
        "    with torch.no_grad():\n",
        "        for data, labels in test_loader:\n",
        "            data = data.cuda()\n",
        "            output = model(data)\n",
        "            predicted = torch.max(output,1)[1]\n",
        "            correct += (predicted == labels.cuda()).sum()\n",
        "            loss += F.nll_loss(output, labels.cuda()).item()\n",
        "\n",
        "    return (float(correct)/len(test)) *100, (loss/len(test_loader))"
      ],
      "execution_count": 0,
      "outputs": []
    },
    {
      "cell_type": "markdown",
      "metadata": {
        "Collapsed": "false",
        "id": "9asmPXfJj6GD",
        "colab_type": "text"
      },
      "source": [
        "First, let's train the model on the labeled set for 300 epochs"
      ]
    },
    {
      "cell_type": "code",
      "metadata": {
        "Collapsed": "false",
        "id": "CcQG6ZuVj6GG",
        "colab_type": "code",
        "colab": {}
      },
      "source": [
        "def train_supervised(model, train_loader, test_loader, verbose_step = 10):\n",
        "    test_acc_list = []\n",
        "    test_loss_list = []\n",
        "    optimizer = torch.optim.SGD( model.parameters(), lr = 0.1)\n",
        "    model.train()\n",
        "    for epoch in tqdm_notebook(range(trainingEpochs)):\n",
        "        correct = 0\n",
        "        running_loss = 0\n",
        "        for batch_idx, (X_batch, y_batch) in enumerate(train_loader):\n",
        "            X_batch, y_batch = X_batch.cuda(), y_batch.cuda()\n",
        "            \n",
        "            output = model(X_batch)\n",
        "            labeled_loss = F.cross_entropy(output, y_batch)\n",
        "                       \n",
        "            optimizer.zero_grad()\n",
        "            labeled_loss.backward()\n",
        "            optimizer.step()\n",
        "            running_loss += labeled_loss.item()\n",
        "        \n",
        "        if (epoch+1) %verbose_step == 0 or epoch ==0:\n",
        "            test_acc, test_loss = evaluate(model, test_loader)\n",
        "            test_acc_list.append(test_acc)\n",
        "            test_loss_list.append(test_loss)\n",
        "            print('Epoch: {} : Train Loss = {:.5f} | Test Acc = {:.5f} | Test Loss= {:.3f} '.format(epoch+1, running_loss/(10 * num_labelled), test_acc, test_loss))\n",
        "            model.train()\n",
        "    return test_acc_list, test_loss_list    "
      ],
      "execution_count": 0,
      "outputs": []
    },
    {
      "cell_type": "code",
      "metadata": {
        "Collapsed": "false",
        "id": "fLlyWPC0j6Gn",
        "colab_type": "code",
        "colab": {}
      },
      "source": [
        "def alpha_weight(epoch):\n",
        "    if epoch < T1:\n",
        "        return 0.0\n",
        "    elif epoch > T2:\n",
        "        return af\n",
        "    else:\n",
        "         return ((epoch-T1) / (T2-T1))*af"
      ],
      "execution_count": 0,
      "outputs": []
    },
    {
      "cell_type": "code",
      "metadata": {
        "Collapsed": "false",
        "id": "_9XslnBPj6Gz",
        "colab_type": "code",
        "colab": {}
      },
      "source": [
        "def semisup_train(model, train_loader, unlabeled_loader, test_loader, verbose_step = 10):\n",
        "    alpha_list = []\n",
        "    test_acc_list = []\n",
        "    test_loss_list = []\n",
        "    begin = time.time()\n",
        "    optimizer = torch.optim.SGD(model.parameters(), lr = 0.1,)\n",
        "    \n",
        "    # Instead of using current epoch we use a \"step\" variable to calculate alpha_weight\n",
        "    # This helps the model converge faster\n",
        "    step = 0 \n",
        "\n",
        "    model.train()\n",
        "    for epoch in tqdm_notebook(range(PLtrainingEpochs)):\n",
        "        for batch_idx, x_unlabeled in enumerate(unlabeled_loader):\n",
        "            \n",
        "            \n",
        "            # Forward Pass to get the pseudo labels\n",
        "            x_unlabeled = x_unlabeled[0].cuda()\n",
        "            model.eval()\n",
        "            output_unlabeled = model(x_unlabeled)\n",
        "            _, pseudo_labeled = torch.max(output_unlabeled, 1)\n",
        "            model.train()\n",
        "            \n",
        "            # Now calculate the unlabeled loss using the pseudo label\n",
        "            output = model(x_unlabeled)\n",
        "            unlabeled_loss = alpha_weight(step) * F.cross_entropy(output, pseudo_labeled)   \n",
        "            \n",
        "            # Backpropogate\n",
        "            optimizer.zero_grad()\n",
        "            unlabeled_loss.backward()\n",
        "            optimizer.step()\n",
        "\n",
        "            # For every 50 unlabeled batches train one epoch on labeled data \n",
        "            if batch_idx % 50 == 0:\n",
        "              for batch_idx, (X_batch, y_batch) in enumerate(train_loader):\n",
        "                  X_batch = X_batch.cuda()\n",
        "                  y_batch = y_batch.cuda()\n",
        "                  output = model(X_batch)\n",
        "                  labeled_loss = F.cross_entropy(output, y_batch)\n",
        "\n",
        "                  optimizer.zero_grad()\n",
        "                  labeled_loss.backward()\n",
        "                  optimizer.step()\n",
        "                \n",
        "              # Now we increment step by 1\n",
        "              step += 1\n",
        "                \n",
        "        if (epoch+1) %verbose_step == 0 or epoch ==0:  \n",
        "            test_acc, test_loss =evaluate(model, test_loader)\n",
        "            print('Epoch: {} : Time = {:.2f} | Alpha Weight = {:.3f} | Test Acc = {:.3f} | Test Loss = {:.3f} '\n",
        "            .format(epoch+1, time.time()- begin, alpha_weight(step), test_acc, test_loss))\n",
        "        \n",
        "            \"\"\" LOGGING VALUES \"\"\"\n",
        "            alpha_list.append(alpha_weight(step))\n",
        "            test_acc_list.append(test_acc)\n",
        "            test_loss_list.append(test_loss)\n",
        "        \"\"\" ************** \"\"\"\n",
        "        model.train()\n",
        "    return alpha_list, test_acc_list, test_loss_list\n",
        " "
      ],
      "execution_count": 0,
      "outputs": []
    },
    {
      "cell_type": "code",
      "metadata": {
        "Collapsed": "false",
        "id": "f_zYEwLhj6G4",
        "colab_type": "code",
        "colab": {}
      },
      "source": [
        "def run_function(verbose_supervised = 20, verbose_unsupervised = 50) :\n",
        "    train_loader, unlabeled_loader = data_build()\n",
        "    print('===== Supervised training =====')\n",
        "    net = Net().cuda() \n",
        "    NN_acc, NN_loss = train_supervised(net, train_loader, test_loader, verbose_supervised)\n",
        "\n",
        "    print('===== Semi-supervised training =====')\n",
        "\n",
        "    net = Net().cuda()\n",
        "    alpha_list, PL_acc, PL_loss = semisup_train(net, train_loader, unlabeled_loader, test_loader, verbose_unsupervised)\n",
        "\n",
        "    print('===== Conclusion =====')\n",
        "    print('Supervised accuracy = ', NN_acc[-1])\n",
        "    print('+PL accuracy = ', PL_acc[-1])\n",
        "    return NN_acc, NN_loss, alpha_list, PL_acc, PL_loss"
      ],
      "execution_count": 0,
      "outputs": []
    },
    {
      "cell_type": "code",
      "metadata": {
        "id": "BIrLjhEnHcm1",
        "colab_type": "code",
        "outputId": "e54edaf9-f2bd-4dc1-beb2-391b8e30be2a",
        "colab": {
          "base_uri": "https://localhost:8080/",
          "height": 574,
          "referenced_widgets": [
            "97100d42046245578a13c1bfe55c6314",
            "41d0ce57a01a4c329f6c4b214c6b2f99",
            "ea533086c43e476b92fd5ef35582a2ea",
            "12cf5fd1016b41609883295fc4614e82",
            "38aff5a373e94368a5d63e38017bd5ee",
            "f106c8cd33cf455bbb7ef750c3b1af06",
            "df628ddb83b24794b2f4d5d9c2419c6d",
            "6ee9582837c2487db96dffc1029f31f3",
            "9bbd457202614b2c8c72e9a1cdca3b07",
            "f3b41bf5fbb4473083b47e31a017f352",
            "9a874f30554b4690ac00eecb9f412457",
            "620ac51398884b9aabd26e6924cb960a",
            "cedfc2de52d547a4ba56582d13d83d40",
            "5910fc5b74184f43a611677ae74fe5d7",
            "7c801be4f75a4dca874ab9138ddeaecc",
            "da498adec72e48c78c12287ff4a4f6d9"
          ]
        }
      },
      "source": [
        "NN_acc, NN_loss, alpha_list, PL_acc, PL_loss = run_function()"
      ],
      "execution_count": 12,
      "outputs": [
        {
          "output_type": "stream",
          "text": [
            "===== Supervised training =====\n"
          ],
          "name": "stdout"
        },
        {
          "output_type": "display_data",
          "data": {
            "application/vnd.jupyter.widget-view+json": {
              "model_id": "97100d42046245578a13c1bfe55c6314",
              "version_minor": 0,
              "version_major": 2
            },
            "text/plain": [
              "HBox(children=(IntProgress(value=0, max=200), HTML(value='')))"
            ]
          },
          "metadata": {
            "tags": []
          }
        },
        {
          "output_type": "stream",
          "text": [
            "Epoch: 1 : Train Loss = 0.00921 | Test Acc = 12.64000 | Test Loss= 2.302 \n",
            "Epoch: 20 : Train Loss = 0.00565 | Test Acc = 54.17000 | Test Loss= 1.896 \n",
            "Epoch: 40 : Train Loss = 0.00074 | Test Acc = 76.85000 | Test Loss= 0.803 \n",
            "Epoch: 60 : Train Loss = 0.00027 | Test Acc = 76.23000 | Test Loss= 0.586 \n",
            "Epoch: 80 : Train Loss = 0.00016 | Test Acc = 76.39000 | Test Loss= 0.622 \n",
            "Epoch: 100 : Train Loss = 0.00021 | Test Acc = 76.30000 | Test Loss= 0.673 \n",
            "Epoch: 120 : Train Loss = 0.00008 | Test Acc = 77.22000 | Test Loss= 0.664 \n",
            "Epoch: 140 : Train Loss = 0.00006 | Test Acc = 74.94000 | Test Loss= 0.853 \n",
            "Epoch: 160 : Train Loss = 0.00005 | Test Acc = 77.46000 | Test Loss= 0.783 \n",
            "Epoch: 180 : Train Loss = 0.00002 | Test Acc = 77.13000 | Test Loss= 0.726 \n",
            "Epoch: 200 : Train Loss = 0.00001 | Test Acc = 77.93000 | Test Loss= 0.714 \n",
            "\n",
            "===== Semi-supervised training =====\n"
          ],
          "name": "stdout"
        },
        {
          "output_type": "display_data",
          "data": {
            "application/vnd.jupyter.widget-view+json": {
              "model_id": "9bbd457202614b2c8c72e9a1cdca3b07",
              "version_minor": 0,
              "version_major": 2
            },
            "text/plain": [
              "HBox(children=(IntProgress(value=0, max=500), HTML(value='')))"
            ]
          },
          "metadata": {
            "tags": []
          }
        },
        {
          "output_type": "stream",
          "text": [
            "Epoch: 1 : Time = 3.19 | Alpha Weight = 0.000 | Test Acc = 27.830 | Test Loss = 2.286 \n",
            "Epoch: 50 : Time = 140.49 | Alpha Weight = 0.900 | Test Acc = 82.720 | Test Loss = 1.101 \n",
            "Epoch: 100 : Time = 280.90 | Alpha Weight = 2.400 | Test Acc = 83.700 | Test Loss = 1.563 \n",
            "Epoch: 150 : Time = 420.32 | Alpha Weight = 3.000 | Test Acc = 81.380 | Test Loss = 1.975 \n",
            "Epoch: 200 : Time = 560.04 | Alpha Weight = 3.000 | Test Acc = 79.650 | Test Loss = 3.049 \n",
            "Epoch: 250 : Time = 701.75 | Alpha Weight = 3.000 | Test Acc = 78.570 | Test Loss = 3.940 \n",
            "Epoch: 300 : Time = 843.44 | Alpha Weight = 3.000 | Test Acc = 78.780 | Test Loss = 4.500 \n",
            "Epoch: 350 : Time = 986.39 | Alpha Weight = 3.000 | Test Acc = 78.730 | Test Loss = 4.990 \n",
            "Epoch: 400 : Time = 1130.43 | Alpha Weight = 3.000 | Test Acc = 78.940 | Test Loss = 4.944 \n",
            "Epoch: 450 : Time = 1273.86 | Alpha Weight = 3.000 | Test Acc = 78.930 | Test Loss = 16.035 \n",
            "Epoch: 500 : Time = 1432.06 | Alpha Weight = 3.000 | Test Acc = 78.940 | Test Loss = 15.803 \n",
            "\n",
            "===== Conclusion =====\n",
            "Supervised accuracy =  77.92999999999999\n",
            "+PL accuracy =  78.94\n"
          ],
          "name": "stdout"
        }
      ]
    },
    {
      "cell_type": "code",
      "metadata": {
        "id": "sJnQrYzdHCsD",
        "colab_type": "code",
        "colab": {
          "base_uri": "https://localhost:8080/",
          "height": 282
        },
        "outputId": "7145ef45-f77b-4719-ad46-676d3704c926"
      },
      "source": [
        "plt.clf()\n",
        "plt.plot(np.append(1,np.arange(20,201,20)), NN_acc)\n",
        "plt.plot(np.append(1,np.arange(50,501,50)), PL_acc)"
      ],
      "execution_count": 13,
      "outputs": [
        {
          "output_type": "execute_result",
          "data": {
            "text/plain": [
              "[<matplotlib.lines.Line2D at 0x7fb990c7e9b0>]"
            ]
          },
          "metadata": {
            "tags": []
          },
          "execution_count": 13
        },
        {
          "output_type": "display_data",
          "data": {
            "image/png": "[encoded data removed]",
            "text/plain": [
              "<Figure size 432x288 with 1 Axes>"
            ]
          },
          "metadata": {
            "tags": []
          }
        }
      ]
    },
    {
      "cell_type": "code",
      "metadata": {
        "id": "A3UAO2kVHGZJ",
        "colab_type": "code",
        "colab": {
          "base_uri": "https://localhost:8080/",
          "height": 282
        },
        "outputId": "1f3a04c4-e2a5-439a-8f27-76632c2d5a44"
      },
      "source": [
        "plt.clf()\n",
        "plt.plot(np.append(1,np.arange(20,201,20)), NN_loss)\n",
        "plt.plot(np.append(1,np.arange(50,501,50)), PL_loss)"
      ],
      "execution_count": 14,
      "outputs": [
        {
          "output_type": "execute_result",
          "data": {
            "text/plain": [
              "[<matplotlib.lines.Line2D at 0x7fb98858e470>]"
            ]
          },
          "metadata": {
            "tags": []
          },
          "execution_count": 14
        },
        {
          "output_type": "display_data",
          "data": {
            "image/png": "[encoded data removed]",
            "text/plain": [
              "<Figure size 432x288 with 1 Axes>"
            ]
          },
          "metadata": {
            "tags": []
          }
        }
      ]
    }
  ]
}