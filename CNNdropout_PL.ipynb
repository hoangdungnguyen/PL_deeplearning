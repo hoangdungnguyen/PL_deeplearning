{
  "nbformat": 4,
  "nbformat_minor": 0,
  "metadata": {
    "kernelspec": {
      "name": "python3",
      "display_name": "Python 3"
    },
    "language_info": {
      "codemirror_mode": {
        "name": "ipython",
        "version": 3
      },
      "file_extension": ".py",
      "mimetype": "text/x-python",
      "name": "python",
      "nbconvert_exporter": "python",
      "pygments_lexer": "ipython3",
      "version": "3.7.3"
    },
    "colab": {
      "name": "CNNdropout_PL.ipynb",
      "provenance": [],
      "collapsed_sections": [],
      "include_colab_link": true
    },
    "accelerator": "GPU",
    "widgets": {
      "application/vnd.jupyter.widget-state+json": {
        "d36f7888075d4098b63206712bdfe9fb": {
          "model_module": "@jupyter-widgets/controls",
          "model_name": "HBoxModel",
          "state": {
            "_view_name": "HBoxView",
            "_dom_classes": [],
            "_model_name": "HBoxModel",
            "_view_module": "@jupyter-widgets/controls",
            "_model_module_version": "1.5.0",
            "_view_count": null,
            "_view_module_version": "1.5.0",
            "box_style": "",
            "layout": "IPY_MODEL_df7744946a78472ebf1d10a598ef77bc",
            "_model_module": "@jupyter-widgets/controls",
            "children": [
              "IPY_MODEL_46841ad342aa4ec1a975772629df750e",
              "IPY_MODEL_ee141b32211047e9a2c8a7243c3753b1"
            ]
          }
        },
        "df7744946a78472ebf1d10a598ef77bc": {
          "model_module": "@jupyter-widgets/base",
          "model_name": "LayoutModel",
          "state": {
            "_view_name": "LayoutView",
            "grid_template_rows": null,
            "right": null,
            "justify_content": null,
            "_view_module": "@jupyter-widgets/base",
            "overflow": null,
            "_model_module_version": "1.2.0",
            "_view_count": null,
            "flex_flow": null,
            "width": null,
            "min_width": null,
            "border": null,
            "align_items": null,
            "bottom": null,
            "_model_module": "@jupyter-widgets/base",
            "top": null,
            "grid_column": null,
            "overflow_y": null,
            "overflow_x": null,
            "grid_auto_flow": null,
            "grid_area": null,
            "grid_template_columns": null,
            "flex": null,
            "_model_name": "LayoutModel",
            "justify_items": null,
            "grid_row": null,
            "max_height": null,
            "align_content": null,
            "visibility": null,
            "align_self": null,
            "height": null,
            "min_height": null,
            "padding": null,
            "grid_auto_rows": null,
            "grid_gap": null,
            "max_width": null,
            "order": null,
            "_view_module_version": "1.2.0",
            "grid_template_areas": null,
            "object_position": null,
            "object_fit": null,
            "grid_auto_columns": null,
            "margin": null,
            "display": null,
            "left": null
          }
        },
        "46841ad342aa4ec1a975772629df750e": {
          "model_module": "@jupyter-widgets/controls",
          "model_name": "IntProgressModel",
          "state": {
            "_view_name": "ProgressView",
            "style": "IPY_MODEL_ae2441c198894111b2bba687b5bcf55d",
            "_dom_classes": [],
            "description": "",
            "_model_name": "IntProgressModel",
            "bar_style": "success",
            "max": 200,
            "_view_module": "@jupyter-widgets/controls",
            "_model_module_version": "1.5.0",
            "value": 200,
            "_view_count": null,
            "_view_module_version": "1.5.0",
            "orientation": "horizontal",
            "min": 0,
            "description_tooltip": null,
            "_model_module": "@jupyter-widgets/controls",
            "layout": "IPY_MODEL_6d7aceb30d98497ea7ed459c7bde0f73"
          }
        },
        "ee141b32211047e9a2c8a7243c3753b1": {
          "model_module": "@jupyter-widgets/controls",
          "model_name": "HTMLModel",
          "state": {
            "_view_name": "HTMLView",
            "style": "IPY_MODEL_bea6092bd39b41b0b6958ef4e9dc2733",
            "_dom_classes": [],
            "description": "",
            "_model_name": "HTMLModel",
            "placeholder": "​",
            "_view_module": "@jupyter-widgets/controls",
            "_model_module_version": "1.5.0",
            "value": "100% 200/200 [01:16&lt;00:00,  2.02it/s]",
            "_view_count": null,
            "_view_module_version": "1.5.0",
            "description_tooltip": null,
            "_model_module": "@jupyter-widgets/controls",
            "layout": "IPY_MODEL_28e1558e825b4c7fa0f305af1297d0e3"
          }
        },
        "ae2441c198894111b2bba687b5bcf55d": {
          "model_module": "@jupyter-widgets/controls",
          "model_name": "ProgressStyleModel",
          "state": {
            "_view_name": "StyleView",
            "_model_name": "ProgressStyleModel",
            "description_width": "",
            "_view_module": "@jupyter-widgets/base",
            "_model_module_version": "1.5.0",
            "_view_count": null,
            "_view_module_version": "1.2.0",
            "bar_color": null,
            "_model_module": "@jupyter-widgets/controls"
          }
        },
        "6d7aceb30d98497ea7ed459c7bde0f73": {
          "model_module": "@jupyter-widgets/base",
          "model_name": "LayoutModel",
          "state": {
            "_view_name": "LayoutView",
            "grid_template_rows": null,
            "right": null,
            "justify_content": null,
            "_view_module": "@jupyter-widgets/base",
            "overflow": null,
            "_model_module_version": "1.2.0",
            "_view_count": null,
            "flex_flow": null,
            "width": null,
            "min_width": null,
            "border": null,
            "align_items": null,
            "bottom": null,
            "_model_module": "@jupyter-widgets/base",
            "top": null,
            "grid_column": null,
            "overflow_y": null,
            "overflow_x": null,
            "grid_auto_flow": null,
            "grid_area": null,
            "grid_template_columns": null,
            "flex": null,
            "_model_name": "LayoutModel",
            "justify_items": null,
            "grid_row": null,
            "max_height": null,
            "align_content": null,
            "visibility": null,
            "align_self": null,
            "height": null,
            "min_height": null,
            "padding": null,
            "grid_auto_rows": null,
            "grid_gap": null,
            "max_width": null,
            "order": null,
            "_view_module_version": "1.2.0",
            "grid_template_areas": null,
            "object_position": null,
            "object_fit": null,
            "grid_auto_columns": null,
            "margin": null,
            "display": null,
            "left": null
          }
        },
        "bea6092bd39b41b0b6958ef4e9dc2733": {
          "model_module": "@jupyter-widgets/controls",
          "model_name": "DescriptionStyleModel",
          "state": {
            "_view_name": "StyleView",
            "_model_name": "DescriptionStyleModel",
            "description_width": "",
            "_view_module": "@jupyter-widgets/base",
            "_model_module_version": "1.5.0",
            "_view_count": null,
            "_view_module_version": "1.2.0",
            "_model_module": "@jupyter-widgets/controls"
          }
        },
        "28e1558e825b4c7fa0f305af1297d0e3": {
          "model_module": "@jupyter-widgets/base",
          "model_name": "LayoutModel",
          "state": {
            "_view_name": "LayoutView",
            "grid_template_rows": null,
            "right": null,
            "justify_content": null,
            "_view_module": "@jupyter-widgets/base",
            "overflow": null,
            "_model_module_version": "1.2.0",
            "_view_count": null,
            "flex_flow": null,
            "width": null,
            "min_width": null,
            "border": null,
            "align_items": null,
            "bottom": null,
            "_model_module": "@jupyter-widgets/base",
            "top": null,
            "grid_column": null,
            "overflow_y": null,
            "overflow_x": null,
            "grid_auto_flow": null,
            "grid_area": null,
            "grid_template_columns": null,
            "flex": null,
            "_model_name": "LayoutModel",
            "justify_items": null,
            "grid_row": null,
            "max_height": null,
            "align_content": null,
            "visibility": null,
            "align_self": null,
            "height": null,
            "min_height": null,
            "padding": null,
            "grid_auto_rows": null,
            "grid_gap": null,
            "max_width": null,
            "order": null,
            "_view_module_version": "1.2.0",
            "grid_template_areas": null,
            "object_position": null,
            "object_fit": null,
            "grid_auto_columns": null,
            "margin": null,
            "display": null,
            "left": null
          }
        },
        "7e42fd50fc3b4c1cb694d0b6c7fa7a61": {
          "model_module": "@jupyter-widgets/controls",
          "model_name": "HBoxModel",
          "state": {
            "_view_name": "HBoxView",
            "_dom_classes": [],
            "_model_name": "HBoxModel",
            "_view_module": "@jupyter-widgets/controls",
            "_model_module_version": "1.5.0",
            "_view_count": null,
            "_view_module_version": "1.5.0",
            "box_style": "",
            "layout": "IPY_MODEL_66f1cde2953c46659336043cc2dd3f36",
            "_model_module": "@jupyter-widgets/controls",
            "children": [
              "IPY_MODEL_0be72ab7737449bd888e5723b68c6588",
              "IPY_MODEL_f7ceaee6eca34f7a8d73875e563ba47f"
            ]
          }
        },
        "66f1cde2953c46659336043cc2dd3f36": {
          "model_module": "@jupyter-widgets/base",
          "model_name": "LayoutModel",
          "state": {
            "_view_name": "LayoutView",
            "grid_template_rows": null,
            "right": null,
            "justify_content": null,
            "_view_module": "@jupyter-widgets/base",
            "overflow": null,
            "_model_module_version": "1.2.0",
            "_view_count": null,
            "flex_flow": null,
            "width": null,
            "min_width": null,
            "border": null,
            "align_items": null,
            "bottom": null,
            "_model_module": "@jupyter-widgets/base",
            "top": null,
            "grid_column": null,
            "overflow_y": null,
            "overflow_x": null,
            "grid_auto_flow": null,
            "grid_area": null,
            "grid_template_columns": null,
            "flex": null,
            "_model_name": "LayoutModel",
            "justify_items": null,
            "grid_row": null,
            "max_height": null,
            "align_content": null,
            "visibility": null,
            "align_self": null,
            "height": null,
            "min_height": null,
            "padding": null,
            "grid_auto_rows": null,
            "grid_gap": null,
            "max_width": null,
            "order": null,
            "_view_module_version": "1.2.0",
            "grid_template_areas": null,
            "object_position": null,
            "object_fit": null,
            "grid_auto_columns": null,
            "margin": null,
            "display": null,
            "left": null
          }
        },
        "0be72ab7737449bd888e5723b68c6588": {
          "model_module": "@jupyter-widgets/controls",
          "model_name": "IntProgressModel",
          "state": {
            "_view_name": "ProgressView",
            "style": "IPY_MODEL_f6f1af701f8f473f82d48d12d5f932da",
            "_dom_classes": [],
            "description": "",
            "_model_name": "IntProgressModel",
            "bar_style": "success",
            "max": 500,
            "_view_module": "@jupyter-widgets/controls",
            "_model_module_version": "1.5.0",
            "value": 500,
            "_view_count": null,
            "_view_module_version": "1.5.0",
            "orientation": "horizontal",
            "min": 0,
            "description_tooltip": null,
            "_model_module": "@jupyter-widgets/controls",
            "layout": "IPY_MODEL_6cb84800ad5e4207b704bd2fe913bfb2"
          }
        },
        "f7ceaee6eca34f7a8d73875e563ba47f": {
          "model_module": "@jupyter-widgets/controls",
          "model_name": "HTMLModel",
          "state": {
            "_view_name": "HTMLView",
            "style": "IPY_MODEL_718ada0bf26740368d16780bfb5b14d2",
            "_dom_classes": [],
            "description": "",
            "_model_name": "HTMLModel",
            "placeholder": "​",
            "_view_module": "@jupyter-widgets/controls",
            "_model_module_version": "1.5.0",
            "value": "100% 500/500 [29:50&lt;00:00,  3.78s/it]",
            "_view_count": null,
            "_view_module_version": "1.5.0",
            "description_tooltip": null,
            "_model_module": "@jupyter-widgets/controls",
            "layout": "IPY_MODEL_50184dee2a0540dd9dcadb68142bd75f"
          }
        },
        "f6f1af701f8f473f82d48d12d5f932da": {
          "model_module": "@jupyter-widgets/controls",
          "model_name": "ProgressStyleModel",
          "state": {
            "_view_name": "StyleView",
            "_model_name": "ProgressStyleModel",
            "description_width": "",
            "_view_module": "@jupyter-widgets/base",
            "_model_module_version": "1.5.0",
            "_view_count": null,
            "_view_module_version": "1.2.0",
            "bar_color": null,
            "_model_module": "@jupyter-widgets/controls"
          }
        },
        "6cb84800ad5e4207b704bd2fe913bfb2": {
          "model_module": "@jupyter-widgets/base",
          "model_name": "LayoutModel",
          "state": {
            "_view_name": "LayoutView",
            "grid_template_rows": null,
            "right": null,
            "justify_content": null,
            "_view_module": "@jupyter-widgets/base",
            "overflow": null,
            "_model_module_version": "1.2.0",
            "_view_count": null,
            "flex_flow": null,
            "width": null,
            "min_width": null,
            "border": null,
            "align_items": null,
            "bottom": null,
            "_model_module": "@jupyter-widgets/base",
            "top": null,
            "grid_column": null,
            "overflow_y": null,
            "overflow_x": null,
            "grid_auto_flow": null,
            "grid_area": null,
            "grid_template_columns": null,
            "flex": null,
            "_model_name": "LayoutModel",
            "justify_items": null,
            "grid_row": null,
            "max_height": null,
            "align_content": null,
            "visibility": null,
            "align_self": null,
            "height": null,
            "min_height": null,
            "padding": null,
            "grid_auto_rows": null,
            "grid_gap": null,
            "max_width": null,
            "order": null,
            "_view_module_version": "1.2.0",
            "grid_template_areas": null,
            "object_position": null,
            "object_fit": null,
            "grid_auto_columns": null,
            "margin": null,
            "display": null,
            "left": null
          }
        },
        "718ada0bf26740368d16780bfb5b14d2": {
          "model_module": "@jupyter-widgets/controls",
          "model_name": "DescriptionStyleModel",
          "state": {
            "_view_name": "StyleView",
            "_model_name": "DescriptionStyleModel",
            "description_width": "",
            "_view_module": "@jupyter-widgets/base",
            "_model_module_version": "1.5.0",
            "_view_count": null,
            "_view_module_version": "1.2.0",
            "_model_module": "@jupyter-widgets/controls"
          }
        },
        "50184dee2a0540dd9dcadb68142bd75f": {
          "model_module": "@jupyter-widgets/base",
          "model_name": "LayoutModel",
          "state": {
            "_view_name": "LayoutView",
            "grid_template_rows": null,
            "right": null,
            "justify_content": null,
            "_view_module": "@jupyter-widgets/base",
            "overflow": null,
            "_model_module_version": "1.2.0",
            "_view_count": null,
            "flex_flow": null,
            "width": null,
            "min_width": null,
            "border": null,
            "align_items": null,
            "bottom": null,
            "_model_module": "@jupyter-widgets/base",
            "top": null,
            "grid_column": null,
            "overflow_y": null,
            "overflow_x": null,
            "grid_auto_flow": null,
            "grid_area": null,
            "grid_template_columns": null,
            "flex": null,
            "_model_name": "LayoutModel",
            "justify_items": null,
            "grid_row": null,
            "max_height": null,
            "align_content": null,
            "visibility": null,
            "align_self": null,
            "height": null,
            "min_height": null,
            "padding": null,
            "grid_auto_rows": null,
            "grid_gap": null,
            "max_width": null,
            "order": null,
            "_view_module_version": "1.2.0",
            "grid_template_areas": null,
            "object_position": null,
            "object_fit": null,
            "grid_auto_columns": null,
            "margin": null,
            "display": null,
            "left": null
          }
        }
      }
    }
  },
  "cells": [
    {
      "cell_type": "markdown",
      "metadata": {
        "id": "view-in-github",
        "colab_type": "text"
      },
      "source": [
        "<a href=\"https://colab.research.google.com/github/hoangdungnguyen/PL_deeplearning/blob/master/CNNdropout_PL.ipynb\" target=\"_parent\"><img src=\"https://colab.research.google.com/assets/colab-badge.svg\" alt=\"Open In Colab\"/></a>"
      ]
    },
    {
      "cell_type": "code",
      "metadata": {
        "Collapsed": "false",
        "id": "yngvQZtwj6En",
        "colab_type": "code",
        "colab": {}
      },
      "source": [
        "!pip install MulticoreTSNE\n",
        "%matplotlib inline\n",
        "from MulticoreTSNE import MulticoreTSNE as TSNE\n",
        "from matplotlib import pyplot as plt\n",
        "import torch\n",
        "from torchvision import datasets, transforms\n",
        "from torch import nn\n",
        "import torch.nn.functional as F\n",
        "import numpy as np\n",
        "import pandas as pd\n",
        "import time\n",
        "\n",
        "torch.manual_seed(42)\n",
        "np.random.seed(42)\n",
        "torch.backends.cudnn.deterministic = True\n",
        "torch.backends.cudnn.benchmark = False\n",
        "\n",
        "from tensorflow.examples.tutorials.mnist import input_data\n",
        "from sklearn.model_selection import StratifiedShuffleSplit\n",
        "from tqdm import tqdm_notebook\n",
        "\n",
        "\n",
        "mnist = input_data.read_data_sets(\"\", one_hot=True)"
      ],
      "execution_count": 0,
      "outputs": []
    },
    {
      "cell_type": "code",
      "metadata": {
        "id": "uWVCadRNtAOV",
        "colab_type": "code",
        "colab": {}
      },
      "source": [
        "##### Define hyper-parameters #####\n",
        "\n",
        "# Dropout parameters\n",
        "dropoutRate_0 = 0.\n",
        "dropoutRate_1 = 0.5 #ref\n",
        "\n",
        "# NN parameters\n",
        "inputN = 784\n",
        "hiddenN = 392\n",
        "hiddenN2 = 256\n",
        "hiddenN3 = 128\n",
        "outputN = 10\n",
        "\n",
        "\n",
        "# iteraction parameters\n",
        "num_labelled = 100\n",
        "trainingEpochs = 200\n",
        "PLtrainingEpochs = 500\n",
        "train_BS = 32 # ref\n",
        "unlabel_BS = 256 #ref 59900// (num_labelled)\n",
        "\n",
        "# balancing coefficient\n",
        "T1 = 100 #ref\n",
        "T2 = 600 #ref\n",
        "a = 0. #ref\n",
        "af = 3. #ref\n",
        "\n",
        "# SGD with dynamic momentum\n",
        "learningRate = 1.5 # ref\n",
        "T = 500 #ref\n",
        "k = 0.998 #ref\n",
        "pi = 0.5 #ref\n",
        "pf = 0.99 #ref\n",
        "\n",
        "# loading test\n",
        "x_test = mnist.test.images\n",
        "y_test = mnist.test.labels\n",
        "test_BS = len(x_test)// (num_labelled//train_BS)\n",
        "\n",
        "x_test = torch.from_numpy(x_test).type(torch.FloatTensor)\n",
        "y_test = torch.from_numpy(y_test.argmax(1)).type(torch.LongTensor) \n",
        "test = torch.utils.data.TensorDataset(x_test, y_test)\n",
        "test_loader = torch.utils.data.DataLoader(test, batch_size = test_BS, shuffle = True, num_workers = 8)"
      ],
      "execution_count": 0,
      "outputs": []
    },
    {
      "cell_type": "code",
      "metadata": {
        "id": "83o1b5H4mwUY",
        "colab_type": "code",
        "colab": {
          "base_uri": "https://localhost:8080/",
          "height": 217
        },
        "outputId": "5418a21c-f3fd-4684-bb08-97ddd27f4583"
      },
      "source": [
        "def random_data_generator(nb_PLdata = False):\n",
        "  stratSplit = StratifiedShuffleSplit(test_size=100, n_splits=1)\n",
        "  stratSplit.get_n_splits(mnist.train.images, np.argmax(mnist.train.labels, axis = 1))\n",
        "  for train_index, test_index in stratSplit.split(X = mnist.train.images,y = mnist.train.labels):\n",
        "    x_train = mnist.train.images[test_index]\n",
        "    y_train = mnist.train.labels[test_index]\n",
        "    if nb_PLdata == False :\n",
        "      x_PL = mnist.train.images[train_index]\n",
        "    else:\n",
        "      x_PL = mnist.train.images[train_index][0:nb_PLdata]\n",
        "  return x_train, y_train, x_PL\n",
        "\n",
        "x_train_viewtest, y_train_viewtest, x_PL_viewtest = random_data_generator()\n",
        "print('Labeled data size :', x_train_viewtest.shape)\n",
        "print('Unlabeled data size :', x_PL_viewtest.shape)\n",
        "print('Proportion of class label in train data: ')\n",
        "\n",
        "print(pd.DataFrame(np.unique(np.argmax(y_train_viewtest,1), return_counts = True)).to_string())\n",
        "\n",
        "f, a = plt.subplots(1, 10, figsize=(10, 3))\n",
        "for i in range(10):\n",
        "    a[i].imshow(np.reshape(x_train_viewtest[i], (28, 28)), cmap='Greys',  interpolation='nearest')\n",
        "plt.show()\n",
        "\n",
        "print(y_train_viewtest[0:10].argmax(1))"
      ],
      "execution_count": 3,
      "outputs": [
        {
          "output_type": "stream",
          "text": [
            "Labeled data size : (100, 784)\n",
            "Unlabeled data size : (54900, 784)\n",
            "Proportion of class label in train data: \n",
            "    0   1   2   3   4  5   6   7   8   9\n",
            "0   0   1   2   3   4  5   6   7   8   9\n",
            "1  10  11  10  10  10  9  10  10  10  10\n"
          ],
          "name": "stdout"
        },
        {
          "output_type": "display_data",
          "data": {
            "image/png": "[encoded data removed]",
            "text/plain": [
              "<Figure size 720x216 with 10 Axes>"
            ]
          },
          "metadata": {
            "tags": []
          }
        },
        {
          "output_type": "stream",
          "text": [
            "[2 8 8 7 9 0 0 2 5 6]\n"
          ],
          "name": "stdout"
        }
      ]
    },
    {
      "cell_type": "code",
      "metadata": {
        "id": "KX5IlKj1ti85",
        "colab_type": "code",
        "colab": {}
      },
      "source": [
        "def data_build(nb_PLdata = False):\n",
        "  x_train, y_train, x_PL = random_data_generator(nb_PLdata)\n",
        "  x_train = torch.from_numpy(x_train).type(torch.FloatTensor)\n",
        "  y_train = torch.from_numpy(y_train.argmax(1)).type(torch.LongTensor) \n",
        "\n",
        "  x_PL = torch.from_numpy(x_PL).type(torch.FloatTensor)\n",
        "\n",
        "  train = torch.utils.data.TensorDataset(x_train, y_train)\n",
        "  train_loader = torch.utils.data.DataLoader(train, batch_size = train_BS, shuffle = True, num_workers = 8)\n",
        "\n",
        "  unlabeled = torch.utils.data.TensorDataset(x_PL)\n",
        "  unlabeled_loader = torch.utils.data.DataLoader(unlabeled, batch_size = unlabel_BS, shuffle = True, num_workers = 8)\n",
        "\n",
        "  return train_loader, unlabeled_loader"
      ],
      "execution_count": 0,
      "outputs": []
    },
    {
      "cell_type": "code",
      "metadata": {
        "Collapsed": "false",
        "id": "AuYdQcJcj6Fu",
        "colab_type": "code",
        "colab": {}
      },
      "source": [
        "# Architecture from : https://github.com/peimengsui/semi_supervised_mnist\n",
        "class Net(nn.Module):\n",
        "        def __init__(self):\n",
        "            super(Net, self).__init__()\n",
        "            self.conv1 = nn.Conv2d(1, 20, kernel_size=5)\n",
        "            self.conv2 = nn.Conv2d(20, 40, kernel_size=5)\n",
        "            self.conv2_drop = nn.Dropout2d(dropoutRate_1)\n",
        "            self.fc1 = nn.Linear(640, 150)\n",
        "            self.fc2 = nn.Linear(150, 10)\n",
        "            self.log_softmax = nn.LogSoftmax(dim = 1)\n",
        "\n",
        "        def forward(self, x):\n",
        "            x = x.view(-1,1,28,28)\n",
        "            x = F.relu(F.max_pool2d(self.conv1(x), 2))\n",
        "            x = F.relu(F.max_pool2d(self.conv2_drop(self.conv2(x)), 2))\n",
        "            x = x.view(-1, 640)\n",
        "            x = F.relu(self.fc1(x))\n",
        "            x = F.dropout(x, training=self.training)\n",
        "            x = F.relu(self.fc2(x))\n",
        "            x = self.log_softmax(x)\n",
        "            return x"
      ],
      "execution_count": 0,
      "outputs": []
    },
    {
      "cell_type": "markdown",
      "metadata": {
        "Collapsed": "false",
        "id": "2cvfdyVhj6F3",
        "colab_type": "text"
      },
      "source": [
        "Now let's define a function to evaluate the network and get loss and accuracy values. "
      ]
    },
    {
      "cell_type": "code",
      "metadata": {
        "Collapsed": "false",
        "id": "wCvmeOTqj6F7",
        "colab_type": "code",
        "colab": {}
      },
      "source": [
        "def evaluate(model, test_loader):\n",
        "    model.eval()\n",
        "    correct = 0 \n",
        "    loss = 0\n",
        "    with torch.no_grad():\n",
        "        for data, labels in test_loader:\n",
        "            data = data.cuda()\n",
        "            output = model(data)\n",
        "            predicted = torch.max(output,1)[1]\n",
        "            correct += (predicted == labels.cuda()).sum()\n",
        "            loss += F.nll_loss(output, labels.cuda()).item()\n",
        "\n",
        "    return (float(correct)/len(test)) *100, (loss/len(test_loader))"
      ],
      "execution_count": 0,
      "outputs": []
    },
    {
      "cell_type": "markdown",
      "metadata": {
        "Collapsed": "false",
        "id": "9asmPXfJj6GD",
        "colab_type": "text"
      },
      "source": [
        "First, let's train the model on the labeled set for 300 epochs"
      ]
    },
    {
      "cell_type": "code",
      "metadata": {
        "Collapsed": "false",
        "id": "CcQG6ZuVj6GG",
        "colab_type": "code",
        "colab": {}
      },
      "source": [
        "def train_supervised(model, train_loader, test_loader, verbose_step = 10):\n",
        "    test_acc_list = []\n",
        "    test_loss_list = []\n",
        "    optimizer = torch.optim.SGD( model.parameters(), lr = 0.1)\n",
        "    model.train()\n",
        "    for epoch in tqdm_notebook(range(trainingEpochs)):\n",
        "        correct = 0\n",
        "        running_loss = 0\n",
        "        for batch_idx, (X_batch, y_batch) in enumerate(train_loader):\n",
        "            X_batch, y_batch = X_batch.cuda(), y_batch.cuda()\n",
        "            \n",
        "            output = model(X_batch)\n",
        "            labeled_loss = F.cross_entropy(output, y_batch)\n",
        "                       \n",
        "            optimizer.zero_grad()\n",
        "            labeled_loss.backward()\n",
        "            optimizer.step()\n",
        "            running_loss += labeled_loss.item()\n",
        "        \n",
        "        if (epoch+1) %verbose_step == 0 or epoch ==0:\n",
        "            test_acc, test_loss = evaluate(model, test_loader)\n",
        "            test_acc_list.append(test_acc)\n",
        "            test_loss_list.append(test_loss)\n",
        "            print('Epoch: {} : Train Loss = {:.5f} | Test Acc = {:.5f} | Test Loss= {:.3f} '.format(epoch+1, running_loss/(10 * num_labelled), test_acc, test_loss))\n",
        "            model.train()\n",
        "    return test_acc_list, test_loss_list    "
      ],
      "execution_count": 0,
      "outputs": []
    },
    {
      "cell_type": "code",
      "metadata": {
        "Collapsed": "false",
        "id": "fLlyWPC0j6Gn",
        "colab_type": "code",
        "colab": {}
      },
      "source": [
        "def alpha_weight(epoch):\n",
        "    if epoch < T1:\n",
        "        return 0.0\n",
        "    elif epoch > T2:\n",
        "        return af\n",
        "    else:\n",
        "         return ((epoch-T1) / (T2-T1))*af"
      ],
      "execution_count": 0,
      "outputs": []
    },
    {
      "cell_type": "code",
      "metadata": {
        "Collapsed": "false",
        "id": "_9XslnBPj6Gz",
        "colab_type": "code",
        "colab": {}
      },
      "source": [
        "def semisup_train(model, train_loader, unlabeled_loader, test_loader, verbose_step = 10):\n",
        "    alpha_list = []\n",
        "    test_acc_list = []\n",
        "    test_loss_list = []\n",
        "    begin = time.time()\n",
        "    optimizer = torch.optim.SGD(model.parameters(), lr = 0.1,)\n",
        "    \n",
        "    # Instead of using current epoch we use a \"step\" variable to calculate alpha_weight\n",
        "    # This helps the model converge faster\n",
        "    step = 0 \n",
        "\n",
        "    model.train()\n",
        "    for epoch in tqdm_notebook(range(PLtrainingEpochs)):\n",
        "        for batch_idx, x_unlabeled in enumerate(unlabeled_loader):\n",
        "            \n",
        "            \n",
        "            # Forward Pass to get the pseudo labels\n",
        "            x_unlabeled = x_unlabeled[0].cuda()\n",
        "            model.eval()\n",
        "            output_unlabeled = model(x_unlabeled)\n",
        "            _, pseudo_labeled = torch.max(output_unlabeled, 1)\n",
        "            model.train()\n",
        "            \n",
        "            # Now calculate the unlabeled loss using the pseudo label\n",
        "            output = model(x_unlabeled)\n",
        "            unlabeled_loss = alpha_weight(step) * F.cross_entropy(output, pseudo_labeled)   \n",
        "            \n",
        "            # Backpropogate\n",
        "            optimizer.zero_grad()\n",
        "            unlabeled_loss.backward()\n",
        "            optimizer.step()\n",
        "\n",
        "            # For every 50 unlabeled batches train one epoch on labeled data \n",
        "            if batch_idx % 50 == 0:\n",
        "              for batch_idx, (X_batch, y_batch) in enumerate(train_loader):\n",
        "                  X_batch = X_batch.cuda()\n",
        "                  y_batch = y_batch.cuda()\n",
        "                  output = model(X_batch)\n",
        "                  labeled_loss = F.cross_entropy(output, y_batch)\n",
        "\n",
        "                  optimizer.zero_grad()\n",
        "                  labeled_loss.backward()\n",
        "                  optimizer.step()\n",
        "                \n",
        "              # Now we increment step by 1\n",
        "              step += 1\n",
        "                \n",
        "        if (epoch+1) %verbose_step == 0 or epoch ==0:  \n",
        "            test_acc, test_loss =evaluate(model, test_loader)\n",
        "            print('Epoch: {} : Time = {:.2f} | Alpha Weight = {:.3f} | Test Acc = {:.3f} | Test Loss = {:.3f} '\n",
        "            .format(epoch+1, time.time()- begin, alpha_weight(step), test_acc, test_loss))\n",
        "        \n",
        "            \"\"\" LOGGING VALUES \"\"\"\n",
        "            alpha_list.append(alpha_weight(step))\n",
        "            test_acc_list.append(test_acc)\n",
        "            test_loss_list.append(test_loss)\n",
        "        \"\"\" ************** \"\"\"\n",
        "        model.train()\n",
        "    return alpha_list, test_acc_list, test_loss_list\n",
        " "
      ],
      "execution_count": 0,
      "outputs": []
    },
    {
      "cell_type": "code",
      "metadata": {
        "Collapsed": "false",
        "id": "f_zYEwLhj6G4",
        "colab_type": "code",
        "colab": {}
      },
      "source": [
        "def run_function(verbose_supervised = 20, verbose_unsupervised = 50) :\n",
        "    train_loader, unlabeled_loader = data_build()\n",
        "    print('===== Supervised training =====')\n",
        "    net = Net().cuda() \n",
        "    NN_acc, NN_loss = train_supervised(net, train_loader, test_loader, verbose_supervised)\n",
        "\n",
        "    print('===== Semi-supervised training =====')\n",
        "\n",
        "    net = Net().cuda()\n",
        "    alpha_list, PL_acc, PL_loss = semisup_train(net, train_loader, unlabeled_loader, test_loader, verbose_unsupervised)\n",
        "\n",
        "    print('===== Conclusion =====')\n",
        "    print('Supervised accuracy = ', NN_acc[-1])\n",
        "    print('+PL accuracy = ', PL_acc[-1])\n",
        "    return NN_acc, NN_loss, alpha_list, PL_acc, PL_loss"
      ],
      "execution_count": 0,
      "outputs": []
    },
    {
      "cell_type": "code",
      "metadata": {
        "id": "BIrLjhEnHcm1",
        "colab_type": "code",
        "colab": {
          "base_uri": "https://localhost:8080/",
          "height": 574,
          "referenced_widgets": [
            "d36f7888075d4098b63206712bdfe9fb",
            "df7744946a78472ebf1d10a598ef77bc",
            "46841ad342aa4ec1a975772629df750e",
            "ee141b32211047e9a2c8a7243c3753b1",
            "ae2441c198894111b2bba687b5bcf55d",
            "6d7aceb30d98497ea7ed459c7bde0f73",
            "bea6092bd39b41b0b6958ef4e9dc2733",
            "28e1558e825b4c7fa0f305af1297d0e3",
            "7e42fd50fc3b4c1cb694d0b6c7fa7a61",
            "66f1cde2953c46659336043cc2dd3f36",
            "0be72ab7737449bd888e5723b68c6588",
            "f7ceaee6eca34f7a8d73875e563ba47f",
            "f6f1af701f8f473f82d48d12d5f932da",
            "6cb84800ad5e4207b704bd2fe913bfb2",
            "718ada0bf26740368d16780bfb5b14d2",
            "50184dee2a0540dd9dcadb68142bd75f"
          ]
        },
        "outputId": "94491df8-49b9-41a4-8c90-455cf1dd0315"
      },
      "source": [
        "NN_acc, NN_loss, alpha_list, PL_acc, PL_loss = run_function()"
      ],
      "execution_count": 11,
      "outputs": [
        {
          "output_type": "stream",
          "text": [
            "===== Supervised training =====\n"
          ],
          "name": "stdout"
        },
        {
          "output_type": "display_data",
          "data": {
            "application/vnd.jupyter.widget-view+json": {
              "model_id": "d36f7888075d4098b63206712bdfe9fb",
              "version_minor": 0,
              "version_major": 2
            },
            "text/plain": [
              "HBox(children=(IntProgress(value=0, max=200), HTML(value='')))"
            ]
          },
          "metadata": {
            "tags": []
          }
        },
        {
          "output_type": "stream",
          "text": [
            "Epoch: 1 : Train Loss = 0.00922 | Test Acc = 10.68000 | Test Loss= 2.296 \n",
            "Epoch: 20 : Train Loss = 0.00766 | Test Acc = 25.01000 | Test Loss= 1.758 \n",
            "Epoch: 40 : Train Loss = 0.00259 | Test Acc = 62.31000 | Test Loss= 1.101 \n",
            "Epoch: 60 : Train Loss = 0.00065 | Test Acc = 83.28000 | Test Loss= 0.451 \n",
            "Epoch: 80 : Train Loss = 0.00023 | Test Acc = 84.27000 | Test Loss= 0.469 \n",
            "Epoch: 100 : Train Loss = 0.00044 | Test Acc = 82.01000 | Test Loss= 0.553 \n",
            "Epoch: 120 : Train Loss = 0.00010 | Test Acc = 84.86000 | Test Loss= 0.462 \n",
            "Epoch: 140 : Train Loss = 0.00019 | Test Acc = 85.08000 | Test Loss= 0.456 \n",
            "Epoch: 160 : Train Loss = 0.00017 | Test Acc = 84.87000 | Test Loss= 0.472 \n",
            "Epoch: 180 : Train Loss = 0.00009 | Test Acc = 85.40000 | Test Loss= 0.523 \n",
            "Epoch: 200 : Train Loss = 0.00016 | Test Acc = 85.80000 | Test Loss= 0.482 \n",
            "\n",
            "===== Semi-supervised training =====\n"
          ],
          "name": "stdout"
        },
        {
          "output_type": "display_data",
          "data": {
            "application/vnd.jupyter.widget-view+json": {
              "model_id": "7e42fd50fc3b4c1cb694d0b6c7fa7a61",
              "version_minor": 0,
              "version_major": 2
            },
            "text/plain": [
              "HBox(children=(IntProgress(value=0, max=500), HTML(value='')))"
            ]
          },
          "metadata": {
            "tags": []
          }
        },
        {
          "output_type": "stream",
          "text": [
            "Epoch: 1 : Time = 3.90 | Alpha Weight = 0.000 | Test Acc = 11.350 | Test Loss = 2.303 \n",
            "Epoch: 50 : Time = 173.95 | Alpha Weight = 0.900 | Test Acc = 90.410 | Test Loss = 0.495 \n",
            "Epoch: 100 : Time = 348.37 | Alpha Weight = 2.400 | Test Acc = 93.630 | Test Loss = 0.381 \n",
            "Epoch: 150 : Time = 524.04 | Alpha Weight = 3.000 | Test Acc = 94.690 | Test Loss = 0.368 \n",
            "Epoch: 200 : Time = 700.80 | Alpha Weight = 3.000 | Test Acc = 94.590 | Test Loss = 0.478 \n",
            "Epoch: 250 : Time = 877.40 | Alpha Weight = 3.000 | Test Acc = 94.560 | Test Loss = 2.038 \n",
            "Epoch: 300 : Time = 1054.55 | Alpha Weight = 3.000 | Test Acc = 94.370 | Test Loss = 0.673 \n",
            "Epoch: 350 : Time = 1231.13 | Alpha Weight = 3.000 | Test Acc = 94.470 | Test Loss = 0.689 \n",
            "Epoch: 400 : Time = 1408.16 | Alpha Weight = 3.000 | Test Acc = 94.480 | Test Loss = 9.248 \n",
            "Epoch: 450 : Time = 1587.30 | Alpha Weight = 3.000 | Test Acc = 94.650 | Test Loss = 0.735 \n",
            "Epoch: 500 : Time = 1790.51 | Alpha Weight = 3.000 | Test Acc = 94.440 | Test Loss = 7.764 \n",
            "\n",
            "===== Conclusion =====\n",
            "Supervised accuracy =  85.8\n",
            "+PL accuracy =  94.44\n"
          ],
          "name": "stdout"
        }
      ]
    },
    {
      "cell_type": "code",
      "metadata": {
        "id": "gFh83nbPQ89z",
        "colab_type": "code",
        "colab": {
          "base_uri": "https://localhost:8080/",
          "height": 282
        },
        "outputId": "2089de64-035e-4e7e-e756-47b2896032f1"
      },
      "source": [
        "plt.clf()\n",
        "plt.plot(np.append(1,np.arange(20,201,20)), NN_acc)\n",
        "plt.plot(np.append(1,np.arange(50,501,50)), PL_acc)"
      ],
      "execution_count": 40,
      "outputs": [
        {
          "output_type": "execute_result",
          "data": {
            "text/plain": [
              "[<matplotlib.lines.Line2D at 0x7f53eabc12b0>]"
            ]
          },
          "metadata": {
            "tags": []
          },
          "execution_count": 40
        },
        {
          "output_type": "display_data",
          "data": {
            "image/png": "[encoded data removed]",
            "text/plain": [
              "<Figure size 432x288 with 1 Axes>"
            ]
          },
          "metadata": {
            "tags": []
          }
        }
      ]
    },
    {
      "cell_type": "code",
      "metadata": {
        "id": "ex9VG3oURgmp",
        "colab_type": "code",
        "colab": {
          "base_uri": "https://localhost:8080/",
          "height": 282
        },
        "outputId": "17e382d0-d5dc-4afe-c7f2-12bd6de7899d"
      },
      "source": [
        "plt.clf()\n",
        "plt.plot(np.append(1,np.arange(20,201,20)), NN_loss)\n",
        "plt.plot(np.append(1,np.arange(50,501,50)), PL_loss)"
      ],
      "execution_count": 41,
      "outputs": [
        {
          "output_type": "execute_result",
          "data": {
            "text/plain": [
              "[<matplotlib.lines.Line2D at 0x7f53eab0dc50>]"
            ]
          },
          "metadata": {
            "tags": []
          },
          "execution_count": 41
        },
        {
          "output_type": "display_data",
          "data": {
            "image/png": "[encoded data removed]",
            "text/plain": [
              "<Figure size 432x288 with 1 Axes>"
            ]
          },
          "metadata": {
            "tags": []
          }
        }
      ]
    }
  ]
}