{
  "nbformat": 4,
  "nbformat_minor": 0,
  "metadata": {
    "colab": {
      "name": "DropoutNN+PL+DAE.ipynb",
      "provenance": [],
      "collapsed_sections": [],
      "include_colab_link": true
    },
    "kernelspec": {
      "name": "python3",
      "display_name": "Python 3"
    },
    "accelerator": "GPU"
  },
  "cells": [
    {
      "cell_type": "markdown",
      "metadata": {
        "id": "view-in-github",
        "colab_type": "text"
      },
      "source": [
        "<a href=\"https://colab.research.google.com/github/hoangdungnguyen/PL_deeplearning/blob/master/DropoutNN%2BPL%2BDAE.ipynb\" target=\"_parent\"><img src=\"https://colab.research.google.com/assets/colab-badge.svg\" alt=\"Open In Colab\"/></a>"
      ]
    },
    {
      "cell_type": "code",
      "metadata": {
        "id": "vLsyxnG9AFHe",
        "colab_type": "code",
        "colab": {}
      },
      "source": [
        "import os\n",
        "import time\n",
        "import tensorflow as tf\n",
        "import tensorflow as tfp\n",
        "import numpy as np\n",
        "import pandas as pd\n",
        "import itertools\n",
        "import matplotlib.pyplot as plt\n",
        "\n",
        "from tensorflow.examples.tutorials.mnist import input_data\n",
        "from sklearn.model_selection import StratifiedShuffleSplit\n",
        "\n",
        "mnist = input_data.read_data_sets(\"\", one_hot=True)"
      ],
      "execution_count": 0,
      "outputs": []
    },
    {
      "cell_type": "code",
      "metadata": {
        "id": "rMgi3G2iALGW",
        "colab_type": "code",
        "colab": {
          "base_uri": "https://localhost:8080/",
          "height": 162
        },
        "outputId": "aff10c06-67dc-4efa-9e08-ff8e49fe30a4"
      },
      "source": [
        "stratSplit = StratifiedShuffleSplit(test_size=100, random_state=2812, n_splits=1)\n",
        "stratSplit.get_n_splits(mnist.train.images, np.argmax(mnist.train.labels, axis = 1))\n",
        "for train_index, test_index in stratSplit.split(X = mnist.train.images,y = mnist.train.labels):\n",
        "  x_train = mnist.train.images[test_index]\n",
        "  y_train = mnist.train.labels[test_index]\n",
        "  x_PL = mnist.train.images[train_index]\n",
        "  x_test = mnist.test.images\n",
        "\n",
        "print('Labeled data size :', x_train.shape)\n",
        "print('Unlabeled data size :', x_PL.shape)\n",
        "print('Proportion of class label in train data: ')\n",
        "pd.DataFrame(np.unique(np.argmax(y_train,1), return_counts = True))"
      ],
      "execution_count": 2,
      "outputs": [
        {
          "output_type": "stream",
          "text": [
            "Labeled data size : (100, 784)\n",
            "Unlabeled data size : (54900, 784)\n",
            "Proportion of class label in train data: \n"
          ],
          "name": "stdout"
        },
        {
          "output_type": "execute_result",
          "data": {
            "text/html": [
              "<div>\n",
              "<style scoped>\n",
              "    .dataframe tbody tr th:only-of-type {\n",
              "        vertical-align: middle;\n",
              "    }\n",
              "\n",
              "    .dataframe tbody tr th {\n",
              "        vertical-align: top;\n",
              "    }\n",
              "\n",
              "    .dataframe thead th {\n",
              "        text-align: right;\n",
              "    }\n",
              "</style>\n",
              "<table border=\"1\" class=\"dataframe\">\n",
              "  <thead>\n",
              "    <tr style=\"text-align: right;\">\n",
              "      <th></th>\n",
              "      <th>0</th>\n",
              "      <th>1</th>\n",
              "      <th>2</th>\n",
              "      <th>3</th>\n",
              "      <th>4</th>\n",
              "      <th>5</th>\n",
              "      <th>6</th>\n",
              "      <th>7</th>\n",
              "      <th>8</th>\n",
              "      <th>9</th>\n",
              "    </tr>\n",
              "  </thead>\n",
              "  <tbody>\n",
              "    <tr>\n",
              "      <th>0</th>\n",
              "      <td>0</td>\n",
              "      <td>1</td>\n",
              "      <td>2</td>\n",
              "      <td>3</td>\n",
              "      <td>4</td>\n",
              "      <td>5</td>\n",
              "      <td>6</td>\n",
              "      <td>7</td>\n",
              "      <td>8</td>\n",
              "      <td>9</td>\n",
              "    </tr>\n",
              "    <tr>\n",
              "      <th>1</th>\n",
              "      <td>10</td>\n",
              "      <td>11</td>\n",
              "      <td>10</td>\n",
              "      <td>10</td>\n",
              "      <td>10</td>\n",
              "      <td>9</td>\n",
              "      <td>10</td>\n",
              "      <td>10</td>\n",
              "      <td>10</td>\n",
              "      <td>10</td>\n",
              "    </tr>\n",
              "  </tbody>\n",
              "</table>\n",
              "</div>"
            ],
            "text/plain": [
              "    0   1   2   3   4  5   6   7   8   9\n",
              "0   0   1   2   3   4  5   6   7   8   9\n",
              "1  10  11  10  10  10  9  10  10  10  10"
            ]
          },
          "metadata": {
            "tags": []
          },
          "execution_count": 2
        }
      ]
    },
    {
      "cell_type": "code",
      "metadata": {
        "id": "ffuLkY0tAN_4",
        "colab_type": "code",
        "colab": {
          "base_uri": "https://localhost:8080/",
          "height": 34
        },
        "outputId": "73a2ade4-6cd6-44e1-c8dd-96073f76f93e"
      },
      "source": [
        "tf.test.is_gpu_available()"
      ],
      "execution_count": 3,
      "outputs": [
        {
          "output_type": "execute_result",
          "data": {
            "text/plain": [
              "True"
            ]
          },
          "metadata": {
            "tags": []
          },
          "execution_count": 3
        }
      ]
    },
    {
      "cell_type": "code",
      "metadata": {
        "id": "cNbvVEPkAhNy",
        "colab_type": "code",
        "colab": {}
      },
      "source": [
        "##### Define hyper-parameters #####\n",
        "# Dropout parameters\n",
        "dropoutRate_0 = 0.\n",
        "dropoutRate_1 = 0. #ref\n",
        "\n",
        "# NN parameters\n",
        "inputN = 784 #default\n",
        "hiddenN = 5000 #ref \n",
        "outputN = 10 #default\n",
        "\n",
        "# DAE_NN parameters\n",
        "DAE_hiddenN1 = 256 # ref\n",
        "DAE_hiddenN2 = 128\n",
        "DAE_hiddenN3 = 256\n",
        "destruction_proportion = 0.5 # ref\n",
        "trainingEpochsDAE = 10\n",
        "batch_sizeDAE = 256\n",
        "\n",
        "# iteraction parameters\n",
        "trainingEpochs = 3000 #ref\n",
        "batchSize = 32 # ref\n",
        "PLbatchSize = 256 #ref\n",
        "\n",
        "# balancing coefficient\n",
        "T1 = 100 #ref\n",
        "T2 = 600 #ref\n",
        "a = 0. #ref\n",
        "af = 3. #ref\n",
        "\n",
        "T1_DAE = 200 #ref\n",
        "T2_DAE = 800 #ref\n",
        "\n",
        "# SGD with dynamic momentum\n",
        "learningRate = 1.5 # ref\n",
        "T = 500 #ref\n",
        "k = 0.998#ref\n",
        "pi = 0.5#ref\n",
        "pf = 0.99#ref"
      ],
      "execution_count": 0,
      "outputs": []
    },
    {
      "cell_type": "code",
      "metadata": {
        "id": "Ric1KogsAvkG",
        "colab_type": "code",
        "colab": {}
      },
      "source": [
        "##### Create noisy observation ####\n",
        "def making_noise(x, prob):\n",
        "  dim1, dim2 = x.shape\n",
        "  corrupted_factor = np.concatenate([np.zeros([dim1, int(dim2*prob)]), np.ones([dim1, dim2- int(dim2*prob)])], axis = 1)\n",
        "  np.apply_along_axis(np.random.shuffle,1,corrupted_factor)\n",
        "  return x*corrupted_factor\n",
        "\n",
        "x_train_noise = making_noise(x_train, destruction_proportion)\n",
        "x_PL_noise = making_noise(x_PL, destruction_proportion)\n",
        "x_test_noise = making_noise(x_test, destruction_proportion)"
      ],
      "execution_count": 0,
      "outputs": []
    },
    {
      "cell_type": "code",
      "metadata": {
        "id": "CWq3rnDDA4wl",
        "colab_type": "code",
        "colab": {
          "base_uri": "https://localhost:8080/",
          "height": 105
        },
        "outputId": "803082a7-f5ce-41ac-90da-e31ede69c6c2"
      },
      "source": [
        "##### Define NN architecture ####\n",
        "\n",
        "x = tf.placeholder(\"float\", [None, inputN])\n",
        "y = tf.placeholder(\"float\", [None, outputN])\n",
        "PLx = tf.placeholder(\"float\", [None, inputN])\n",
        "PLy = tf.placeholder(\"float\", [None, outputN])\n",
        "DAE_x = tf.placeholder(\"float\", [None, inputN])\n",
        "DAE_x_noise = tf.placeholder(\"float\", [None, inputN])\n",
        "alpha_t = tf.placeholder(\"float\", )\n",
        "p_t = tf.placeholder(\"float\",)\n",
        "epsilon_t = tf.placeholder(\"float\",)\n",
        "plt.clf()\n",
        "\n",
        "def NN(x, w, b):\n",
        "    # Hidden layer 1\n",
        "    HL = tf.add(tf.matmul(x, w['h1']), b['b1'])\n",
        "    HL = tf.nn.relu(HL)\n",
        "    HL = tf.nn.dropout(HL, rate = dropoutRate_1)\n",
        "    # Output layer\n",
        "    out_layer =tf.matmul(HL, w['out']) + b['out']\n",
        "\n",
        "    return out_layer\n",
        "\n",
        "def DAE_NN(DAE_x_noise, w, b):\n",
        "  # Hidden layer 1\n",
        "  HL1 = tf.nn.sigmoid(tf.add(tf.matmul(DAE_x_noise, w['h1']), b['b1']))\n",
        "  #HL1 = tf.nn.dropout(HL1, rate = dropoutRate_1)\n",
        "  # Hidden layer 2\n",
        "  HL2 = tf.nn.sigmoid(tf.add(tf.matmul(HL1, w['h2']), b['b2']))\n",
        "  #HL2 = tf.nn.dropout(HL2, rate = dropoutRate_1)\n",
        "  # Hidden layer 3\n",
        "  HL3 = tf.nn.sigmoid(tf.add(tf.matmul(HL2, w['h3']), b['b3']))\n",
        "  #HL3 = tf.nn.dropout(HL3, rate = dropoutRate_1)\n",
        "  # Output layer\n",
        "  out_layer = tf.nn.sigmoid(tf.add(tf.matmul(HL3, w['out']), b['out']))\n",
        "  \n",
        "  return out_layer\n",
        "\n",
        "\n",
        "# initialize weights and biases\n",
        "with tf.variable_scope('NN') :\n",
        "  weightsNN = {\n",
        "    'h1': tf.Variable(tf.random_normal([inputN, hiddenN])),\n",
        "    'out': tf.Variable(tf.random_normal([hiddenN, outputN]))\n",
        "    }\n",
        "\n",
        "  biasesNN = {\n",
        "    'b1': tf.Variable(tf.random_normal([hiddenN])),\n",
        "    'out': tf.Variable(tf.random_normal([outputN]))\n",
        "    }\n",
        "\n",
        "with tf.variable_scope('PL') :\n",
        "  weightsPL = {\n",
        "    'h1': tf.Variable(tf.random_normal([inputN, hiddenN])),\n",
        "    'out': tf.Variable(tf.random_normal([hiddenN, outputN]))\n",
        "    }\n",
        "  biasesPL = {\n",
        "    'b1': tf.Variable(tf.random_normal([hiddenN])),\n",
        "    'out': tf.Variable(tf.random_normal([outputN]))\n",
        "    }\n",
        "\n",
        "with tf.variable_scope('DAE') :\n",
        "  weightsDAE = {\n",
        "    'h1': tf.Variable(tf.random_normal([inputN, DAE_hiddenN1])),\n",
        "    'h2': tf.Variable(tf.random_normal([DAE_hiddenN1, DAE_hiddenN2])),\n",
        "    'h3': tf.Variable(tf.random_normal([DAE_hiddenN2, DAE_hiddenN3])),\n",
        "    'out': tf.Variable(tf.random_normal([DAE_hiddenN3, inputN]))\n",
        "    }\n",
        "  biasesDAE = {\n",
        "    'b1': tf.Variable(tf.random_normal([DAE_hiddenN1])),\n",
        "    'b2': tf.Variable(tf.random_normal([DAE_hiddenN2])),\n",
        "    'b3': tf.Variable(tf.random_normal([DAE_hiddenN3])),\n",
        "    'out': tf.Variable(tf.random_normal([inputN]))\n",
        "    }\n",
        "\n",
        "predDAE = DAE_NN(DAE_x_noise, weightsDAE, biasesDAE)\n",
        "\n",
        "costDAE = tf.reduce_mean(tf.compat.v1.losses.log_loss(DAE_x, predDAE))\n",
        "\n",
        "predNN = NN(x, weightsNN, biasesNN)\n",
        "predPL = NN(x, weightsPL, biasesPL)\n",
        "predPL1 = NN(PLx, weightsPL, biasesPL)\n",
        "\n",
        "costNN = tf.reduce_mean(tf.nn.sigmoid_cross_entropy_with_logits(logits=predNN,\n",
        "                                                                labels=y))\n",
        "\n",
        "costPL = tf.add(tf.reduce_mean(tf.nn.sigmoid_cross_entropy_with_logits(logits=predPL,\n",
        "                                                                       labels=y)),\n",
        "                (alpha_t * tf.reduce_mean(tf.nn.sigmoid_cross_entropy_with_logits(logits=predPL1,\n",
        "                                                                                labels=PLy))))\n"
      ],
      "execution_count": 6,
      "outputs": [
        {
          "output_type": "stream",
          "text": [
            "WARNING:tensorflow:From /usr/local/lib/python3.6/dist-packages/tensorflow_core/python/ops/losses/losses_impl.py:121: where (from tensorflow.python.ops.array_ops) is deprecated and will be removed in a future version.\n",
            "Instructions for updating:\n",
            "Use tf.where in 2.0, which has the same broadcast rule as np.where\n"
          ],
          "name": "stdout"
        },
        {
          "output_type": "display_data",
          "data": {
            "text/plain": [
              "<Figure size 432x288 with 0 Axes>"
            ]
          },
          "metadata": {
            "tags": []
          }
        }
      ]
    },
    {
      "cell_type": "code",
      "metadata": {
        "id": "a5eiumAAA-Ta",
        "colab_type": "code",
        "colab": {}
      },
      "source": [
        "##### Define optimizer #####\n",
        "\n",
        "optimizerNN = tf.train.MomentumOptimizer(learning_rate = (1-p_t)*epsilon_t,\n",
        "                                        momentum = -p_t/(1-p_t)).minimize(costNN)\n",
        "optimizerPL = tf.train.MomentumOptimizer(learning_rate = (1-p_t)*epsilon_t,\n",
        "                                        momentum = -p_t/(1-p_t)).minimize(costNN)\n",
        "optimizerDAE = tf.train.AdamOptimizer().minimize(costDAE)                                       \n",
        "\n",
        "# Initializing the variables\n",
        "init = tf.global_variables_initializer()"
      ],
      "execution_count": 0,
      "outputs": []
    },
    {
      "cell_type": "code",
      "metadata": {
        "id": "pyo4LmXnBFTI",
        "colab_type": "code",
        "colab": {}
      },
      "source": [
        "def DAE_preprocessing():\n",
        "  begin = time.time()\n",
        "  for epoch in range(50):\n",
        "    total_loss = 0\n",
        "\n",
        "    x_all = np.concatenate([x_train, x_PL, x_test], axis = 0)\n",
        "    x_all_noise = making_noise(x_all, destruction_proportion)\n",
        "    index = np.arange(x_all.shape[0])\n",
        "    np.random.shuffle(index)\n",
        "    total_batch = int(x_all.shape[0] / batch_sizeDAE)\n",
        "\n",
        "    batches_X = np.array_split(x_all[index], total_batch)\n",
        "    batches_X_noise = np.array_split(x_all_noise[index], total_batch)\n",
        "    for i in range(total_batch):\n",
        "      batch_x, batch_x_noise = batches_X[i], batches_X_noise[i]\n",
        "      _, l = sess.run([optimizerDAE, costDAE], feed_dict={DAE_x: batch_x,\n",
        "                                                          DAE_x_noise: batch_x_noise})\n",
        "      total_loss += l\n",
        "    print(\"Epoch {} | time = {:.4f} | MSE loss = {:.4f}\".format(epoch, time.time() - begin, total_loss))\n",
        "\n",
        "sess = tf.InteractiveSession()\n",
        "sess.run(tf.global_variables_initializer())"
      ],
      "execution_count": 0,
      "outputs": []
    },
    {
      "cell_type": "code",
      "metadata": {
        "id": "bpM71d5qBHPc",
        "colab_type": "code",
        "colab": {
          "base_uri": "https://localhost:8080/",
          "height": 1000
        },
        "outputId": "cad5bff3-bfb6-456a-e3d9-4afd012e97dc"
      },
      "source": [
        "##### DAE #####\n",
        "\n",
        "DAE_preprocessing()\n",
        "x_pred = sess.run(predDAE, feed_dict = {DAE_x: x_train, DAE_x_noise: x_train_noise})\n",
        "f, a = plt.subplots(3, 10, figsize=(10, 3))\n",
        "plt.axis('off')\n",
        "for i in range(10):\n",
        "    a[0][i].imshow(np.reshape(x_train[i], (28, 28)), cmap='Greys',  interpolation='nearest')\n",
        "    a[1][i].imshow(np.reshape(x_train_noise[i], (28, 28)), cmap='Greys',  interpolation='nearest')\n",
        "    a[2][i].imshow(np.reshape(x_pred[i], (28, 28)), cmap='Greys',  interpolation='nearest')\n",
        "plt.show()\n",
        "x_PL = sess.run(predDAE, feed_dict = {DAE_x: x_PL, DAE_x_noise: x_PL_noise})\n",
        "x_test = sess.run(predDAE, feed_dict = {DAE_x: x_test, DAE_x_noise: x_test_noise})\n",
        "x_train = x_pred\n",
        "sess.close()"
      ],
      "execution_count": 9,
      "outputs": [
        {
          "output_type": "stream",
          "text": [
            "Epoch 0 | time = 2.8510 | MSE loss = 230.8968\n",
            "Epoch 1 | time = 5.4493 | MSE loss = 67.0024\n",
            "Epoch 2 | time = 7.8732 | MSE loss = 66.6228\n",
            "Epoch 3 | time = 10.2844 | MSE loss = 66.3919\n",
            "Epoch 4 | time = 12.6324 | MSE loss = 64.8179\n",
            "Epoch 5 | time = 15.0106 | MSE loss = 62.4422\n",
            "Epoch 6 | time = 17.3840 | MSE loss = 59.9002\n",
            "Epoch 7 | time = 19.7428 | MSE loss = 57.1617\n",
            "Epoch 8 | time = 22.1145 | MSE loss = 55.0436\n",
            "Epoch 9 | time = 24.5576 | MSE loss = 53.4256\n",
            "Epoch 10 | time = 26.9031 | MSE loss = 52.2176\n",
            "Epoch 11 | time = 29.3143 | MSE loss = 51.2974\n",
            "Epoch 12 | time = 31.7061 | MSE loss = 50.5574\n",
            "Epoch 13 | time = 34.0857 | MSE loss = 49.8635\n",
            "Epoch 14 | time = 36.4362 | MSE loss = 49.2509\n",
            "Epoch 15 | time = 38.8361 | MSE loss = 48.7031\n",
            "Epoch 16 | time = 41.1755 | MSE loss = 48.2343\n",
            "Epoch 17 | time = 43.5589 | MSE loss = 47.7705\n",
            "Epoch 18 | time = 45.9651 | MSE loss = 47.3443\n",
            "Epoch 19 | time = 48.3205 | MSE loss = 46.9084\n",
            "Epoch 20 | time = 50.7102 | MSE loss = 46.4755\n",
            "Epoch 21 | time = 53.0873 | MSE loss = 46.0468\n",
            "Epoch 22 | time = 55.4415 | MSE loss = 45.6583\n",
            "Epoch 23 | time = 57.7960 | MSE loss = 45.3021\n",
            "Epoch 24 | time = 60.2490 | MSE loss = 44.9958\n",
            "Epoch 25 | time = 62.6249 | MSE loss = 44.7218\n",
            "Epoch 26 | time = 65.0322 | MSE loss = 44.4099\n",
            "Epoch 27 | time = 67.4332 | MSE loss = 44.1534\n",
            "Epoch 28 | time = 69.8368 | MSE loss = 43.8801\n",
            "Epoch 29 | time = 72.2467 | MSE loss = 43.5799\n",
            "Epoch 30 | time = 74.6621 | MSE loss = 43.3168\n",
            "Epoch 31 | time = 77.0012 | MSE loss = 43.0432\n",
            "Epoch 32 | time = 79.3655 | MSE loss = 42.7829\n",
            "Epoch 33 | time = 81.7657 | MSE loss = 42.5015\n",
            "Epoch 34 | time = 84.1737 | MSE loss = 42.2142\n",
            "Epoch 35 | time = 86.5357 | MSE loss = 41.9163\n",
            "Epoch 36 | time = 88.9441 | MSE loss = 41.6267\n",
            "Epoch 37 | time = 91.2791 | MSE loss = 41.3286\n",
            "Epoch 38 | time = 93.6325 | MSE loss = 41.0549\n",
            "Epoch 39 | time = 96.0026 | MSE loss = 40.7583\n",
            "Epoch 40 | time = 98.3706 | MSE loss = 40.4590\n",
            "Epoch 41 | time = 100.7327 | MSE loss = 40.1568\n",
            "Epoch 42 | time = 103.1272 | MSE loss = 39.8892\n",
            "Epoch 43 | time = 105.4999 | MSE loss = 39.6084\n",
            "Epoch 44 | time = 107.8804 | MSE loss = 39.3177\n",
            "Epoch 45 | time = 110.2682 | MSE loss = 39.0589\n",
            "Epoch 46 | time = 112.6352 | MSE loss = 38.7791\n",
            "Epoch 47 | time = 115.0320 | MSE loss = 38.5003\n",
            "Epoch 48 | time = 117.4191 | MSE loss = 38.2395\n",
            "Epoch 49 | time = 119.8100 | MSE loss = 37.9964\n"
          ],
          "name": "stdout"
        },
        {
          "output_type": "display_data",
          "data": {
            "image/png": "[encoded data removed]",
            "text/plain": [
              "<Figure size 720x216 with 30 Axes>"
            ]
          },
          "metadata": {
            "tags": []
          }
        }
      ]
    },
    {
      "cell_type": "code",
      "metadata": {
        "id": "kMCK6a8YBZxM",
        "colab_type": "code",
        "colab": {}
      },
      "source": [
        "##### Define benchmark functions #####\n",
        "\n",
        "def accuracytestNN():\n",
        "    # Test model\n",
        "    correct_prediction = tf.equal(tf.argmax(predNN, 1), tf.argmax(y, 1))\n",
        "    # Calculate accuracy\n",
        "    accuracy = tf.reduce_mean(tf.cast(correct_prediction, \"float\"))\n",
        "    # To keep sizes compatible with model\n",
        "    return accuracy.eval({x: x_test, y: mnist.test.labels})\n",
        "\n",
        "\n",
        "def accuracytestPL():\n",
        "    # Test model\n",
        "    correct_prediction = tf.equal(tf.argmax(predPL, 1), tf.argmax(y, 1))\n",
        "    # Calculate accuracy\n",
        "    accuracy = tf.reduce_mean(tf.cast(correct_prediction, \"float\"))\n",
        "    # To keep sizes compatible with model\n",
        "    return accuracy.eval({x: x_test, y: mnist.test.labels})\n"
      ],
      "execution_count": 0,
      "outputs": []
    },
    {
      "cell_type": "code",
      "metadata": {
        "id": "0Tp-Z4toBaoI",
        "colab_type": "code",
        "colab": {}
      },
      "source": [
        "def dropNN_PL_DAE():\n",
        "  ### Neural Network parameters\n",
        "  iteration_list = []\n",
        "  neural_network_accuracy_list = []\n",
        "  pseudo_label_accuarcy_list = []\n",
        "  neural_network_accuracy = 0\n",
        "  pseudo_label_accuarcy = 0\n",
        "  iteration = 0\n",
        "  x_PL_reduced = x_PL[0:256*3]\n",
        "  with tf.Session() as sess:\n",
        "    sess.run(init)\n",
        "    begin=time.time()\n",
        "    # Training cycle\n",
        "    for epoch in range(trainingEpochs):\n",
        "        avg_costNN = 0.\n",
        "        avg_costPL = 0.\n",
        "        total_batch = int(100 / batchSize)\n",
        "        # Loop over all batches\n",
        "        index = np.arange(x_train.shape[0])\n",
        "        np.random.shuffle(index)\n",
        "        batches_X = np.array_split(x_train[index], total_batch)\n",
        "        batches_y = np.array_split(y_train[index], total_batch)\n",
        "        index = np.arange(x_PL_reduced.shape[0])\n",
        "        np.random.shuffle(index)\n",
        "        batches_X_PL = np.array_split(x_PL_reduced[index], total_batch)\n",
        "        for i in range(total_batch):\n",
        "            batch_x, batch_y = batches_X[i], batches_y[i]\n",
        "            if epoch > T:\n",
        "              p = pf\n",
        "            else:\n",
        "              p = epoch/T*pf + (1-epoch/T)*pi\n",
        "\n",
        "            _, cNN = sess.run([optimizerNN, costNN], feed_dict={x: batch_x,\n",
        "                                                                y: batch_y,\n",
        "                                                                p_t : p,\n",
        "                                                                epsilon_t : learningRate*(k**epoch)\n",
        "                                                                })\n",
        "            if epoch < T1:\n",
        "                a = 0\n",
        "            elif epoch < T2:\n",
        "                a = ((epoch - T1) / (T2 - T1)) * af\n",
        "            else :\n",
        "                a = af\n",
        "            \n",
        "\n",
        "            # Pseudolabel\n",
        "            batch_xpred = batches_X_PL[i]\n",
        "            batch_ypred = sess.run([predPL], feed_dict={x: batch_xpred})\n",
        "            batch_ypred = batch_ypred[0]\n",
        "            batch_ypred = batch_ypred.argmax(1)\n",
        "            batch_ypre = np.zeros((batch_xpred.shape[0], 10))\n",
        "            for ii in range(PLbatchSize):\n",
        "                batch_ypre[ii, batch_ypred[ii]] = 1\n",
        "\n",
        "            _, cPL = sess.run([optimizerPL, costPL], feed_dict={x: batch_x,\n",
        "                                                                y: batch_y,\n",
        "                                                                PLx: batch_xpred,\n",
        "                                                                PLy: batch_ypre,\n",
        "                                                                p_t : p,\n",
        "                                                                epsilon_t : learningRate*(k**epoch),\n",
        "                                                                alpha_t: a})\n",
        "            iteration += 1\n",
        "            # Compute average loss\n",
        "            avg_costNN += cNN / total_batch\n",
        "            avg_costPL += cPL / total_batch\n",
        "\n",
        "        if epoch % 100 == 0:\n",
        "            neural_network_accuracy = accuracytestNN()\n",
        "            pseudo_label_accuarcy = accuracytestPL()\n",
        "            print(\"Epoch {} | time = {:.4f} | DropNN+DAE acc = {:.4f} | DropNN+PL+DAE acc = {:.4f} \"\n",
        "                  .format(epoch, time.time() - begin,\n",
        "                          neural_network_accuracy, pseudo_label_accuarcy))\n",
        "\n",
        "            iteration_list = np.append(iteration_list, iteration)\n",
        "            neural_network_accuracy_list = np.append(neural_network_accuracy_list, neural_network_accuracy)\n",
        "            pseudo_label_accuarcy_list = np.append(pseudo_label_accuarcy_list, pseudo_label_accuarcy)\n",
        "\n",
        "        plt.plot(iteration_list, pseudo_label_accuarcy_list, iteration_list, neural_network_accuracy_list, 'r--')\n",
        "    print(\"Optimization Finished!\")\n",
        "    print(\"DropoutNN+DAE:\", accuracytestNN())\n",
        "    print(\"+PL+DAE:\", accuracytestPL())\n",
        "    plt.show()\n"
      ],
      "execution_count": 0,
      "outputs": []
    },
    {
      "cell_type": "code",
      "metadata": {
        "id": "96KtwpcWBmxH",
        "colab_type": "code",
        "colab": {
          "base_uri": "https://localhost:8080/",
          "height": 826
        },
        "outputId": "76f042de-ae4e-4b15-d4c2-85d195999c17"
      },
      "source": [
        "dropNN_PL_DAE()"
      ],
      "execution_count": 14,
      "outputs": [
        {
          "output_type": "stream",
          "text": [
            "Epoch 0 | time = 0.1800 | DropNN+DAE acc = 0.1623 | DropNN+PL+DAE acc = 0.0649 \n",
            "Epoch 100 | time = 2.2741 | DropNN+DAE acc = 0.0892 | DropNN+PL+DAE acc = 0.0649 \n",
            "Epoch 200 | time = 4.4621 | DropNN+DAE acc = 0.0980 | DropNN+PL+DAE acc = 0.0649 \n",
            "Epoch 300 | time = 6.5478 | DropNN+DAE acc = 0.0980 | DropNN+PL+DAE acc = 0.0649 \n",
            "Epoch 400 | time = 8.6591 | DropNN+DAE acc = 0.0980 | DropNN+PL+DAE acc = 0.0649 \n",
            "Epoch 500 | time = 10.8038 | DropNN+DAE acc = 0.0980 | DropNN+PL+DAE acc = 0.0649 \n",
            "Epoch 600 | time = 12.9205 | DropNN+DAE acc = 0.0980 | DropNN+PL+DAE acc = 0.0649 \n",
            "Epoch 700 | time = 15.0597 | DropNN+DAE acc = 0.0980 | DropNN+PL+DAE acc = 0.0649 \n",
            "Epoch 800 | time = 17.1660 | DropNN+DAE acc = 0.0980 | DropNN+PL+DAE acc = 0.0649 \n",
            "Epoch 900 | time = 19.4479 | DropNN+DAE acc = 0.0980 | DropNN+PL+DAE acc = 0.0649 \n",
            "Epoch 1000 | time = 21.5674 | DropNN+DAE acc = 0.0980 | DropNN+PL+DAE acc = 0.0649 \n",
            "Epoch 1100 | time = 23.7342 | DropNN+DAE acc = 0.0980 | DropNN+PL+DAE acc = 0.0649 \n",
            "Epoch 1200 | time = 25.9339 | DropNN+DAE acc = 0.0980 | DropNN+PL+DAE acc = 0.0649 \n",
            "Epoch 1300 | time = 28.1284 | DropNN+DAE acc = 0.0980 | DropNN+PL+DAE acc = 0.0649 \n",
            "Epoch 1400 | time = 30.3294 | DropNN+DAE acc = 0.0980 | DropNN+PL+DAE acc = 0.0649 \n",
            "Epoch 1500 | time = 32.5662 | DropNN+DAE acc = 0.0980 | DropNN+PL+DAE acc = 0.0649 \n",
            "Epoch 1600 | time = 34.7738 | DropNN+DAE acc = 0.0980 | DropNN+PL+DAE acc = 0.0649 \n",
            "Epoch 1700 | time = 37.0049 | DropNN+DAE acc = 0.0980 | DropNN+PL+DAE acc = 0.0649 \n",
            "Epoch 1800 | time = 39.4569 | DropNN+DAE acc = 0.0980 | DropNN+PL+DAE acc = 0.0649 \n",
            "Epoch 1900 | time = 41.7099 | DropNN+DAE acc = 0.0980 | DropNN+PL+DAE acc = 0.0649 \n",
            "Epoch 2000 | time = 43.9539 | DropNN+DAE acc = 0.0980 | DropNN+PL+DAE acc = 0.0649 \n",
            "Epoch 2100 | time = 46.2400 | DropNN+DAE acc = 0.0980 | DropNN+PL+DAE acc = 0.0649 \n",
            "Epoch 2200 | time = 48.5682 | DropNN+DAE acc = 0.0980 | DropNN+PL+DAE acc = 0.0649 \n",
            "Epoch 2300 | time = 50.8981 | DropNN+DAE acc = 0.0980 | DropNN+PL+DAE acc = 0.0649 \n",
            "Epoch 2400 | time = 53.2131 | DropNN+DAE acc = 0.0980 | DropNN+PL+DAE acc = 0.0649 \n",
            "Epoch 2500 | time = 55.5677 | DropNN+DAE acc = 0.0980 | DropNN+PL+DAE acc = 0.0649 \n",
            "Epoch 2600 | time = 57.9264 | DropNN+DAE acc = 0.0980 | DropNN+PL+DAE acc = 0.0649 \n",
            "Epoch 2700 | time = 60.3007 | DropNN+DAE acc = 0.0980 | DropNN+PL+DAE acc = 0.0649 \n",
            "Epoch 2800 | time = 62.7194 | DropNN+DAE acc = 0.0980 | DropNN+PL+DAE acc = 0.0649 \n",
            "Epoch 2900 | time = 65.3474 | DropNN+DAE acc = 0.0980 | DropNN+PL+DAE acc = 0.0649 \n",
            "Optimization Finished!\n",
            "DropoutNN+DAE: 0.098\n",
            "+PL+DAE: 0.0649\n"
          ],
          "name": "stdout"
        },
        {
          "output_type": "display_data",
          "data": {
            "image/png": "[encoded data removed]",
            "text/plain": [
              "<Figure size 432x288 with 1 Axes>"
            ]
          },
          "metadata": {
            "tags": []
          }
        }
      ]
    }
  ]
}