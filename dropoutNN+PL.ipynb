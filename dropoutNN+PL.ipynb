{
  "nbformat": 4,
  "nbformat_minor": 0,
  "metadata": {
    "colab": {
      "name": "dropoutNN+PL.ipynb",
      "provenance": [],
      "collapsed_sections": [],
      "include_colab_link": true
    },
    "kernelspec": {
      "name": "python3",
      "display_name": "Python 3"
    },
    "accelerator": "GPU"
  },
  "cells": [
    {
      "cell_type": "markdown",
      "metadata": {
        "id": "view-in-github",
        "colab_type": "text"
      },
      "source": [
        "<a href=\"https://colab.research.google.com/github/hoangdungnguyen/PL_deeplearning/blob/master/dropoutNN%2BPL.ipynb\" target=\"_parent\"><img src=\"https://colab.research.google.com/assets/colab-badge.svg\" alt=\"Open In Colab\"/></a>"
      ]
    },
    {
      "cell_type": "code",
      "metadata": {
        "id": "QM9Ss1TPOLmr",
        "colab_type": "code",
        "colab": {}
      },
      "source": [
        "import os\n",
        "import time\n",
        "import tensorflow as tf\n",
        "import numpy as np\n",
        "import pandas as pd\n",
        "\n",
        "import matplotlib.pyplot as plt\n",
        "\n",
        "from tensorflow.examples.tutorials.mnist import input_data\n",
        "from sklearn.model_selection import StratifiedShuffleSplit\n",
        "\n",
        "mnist = input_data.read_data_sets(\"\", one_hot=True)\n"
      ],
      "execution_count": 0,
      "outputs": []
    },
    {
      "cell_type": "code",
      "metadata": {
        "id": "Asrl80IK22fL",
        "colab_type": "code",
        "outputId": "aa3fbc1a-1326-4524-ef5d-47564e9905e0",
        "colab": {
          "base_uri": "https://localhost:8080/",
          "height": 162
        }
      },
      "source": [
        "stratSplit = StratifiedShuffleSplit(test_size=100, random_state=2812, n_splits=1)\n",
        "stratSplit.get_n_splits(mnist.train.images, np.argmax(mnist.train.labels, axis = 1))\n",
        "for train_index, test_index in stratSplit.split(X = mnist.train.images,y = mnist.train.labels):\n",
        "  x_train = mnist.train.images[test_index]\n",
        "  y_train = mnist.train.labels[test_index]\n",
        "  x_PL = mnist.train.images[train_index]\n",
        "\n",
        "print('Labeled data size :', x_train.shape)\n",
        "print('Unlabeled data size :', x_PL.shape)\n",
        "print('Proportion of class label in train data: ')\n",
        "pd.DataFrame(np.unique(np.argmax(y_train,1), return_counts = True))"
      ],
      "execution_count": 0,
      "outputs": [
        {
          "output_type": "stream",
          "text": [
            "Labeled data size : (100, 784)\n",
            "Unlabeled data size : (54900, 784)\n",
            "Proportion of class label in train data: \n"
          ],
          "name": "stdout"
        },
        {
          "output_type": "execute_result",
          "data": {
            "text/html": [
              "<div>\n",
              "<style scoped>\n",
              "    .dataframe tbody tr th:only-of-type {\n",
              "        vertical-align: middle;\n",
              "    }\n",
              "\n",
              "    .dataframe tbody tr th {\n",
              "        vertical-align: top;\n",
              "    }\n",
              "\n",
              "    .dataframe thead th {\n",
              "        text-align: right;\n",
              "    }\n",
              "</style>\n",
              "<table border=\"1\" class=\"dataframe\">\n",
              "  <thead>\n",
              "    <tr style=\"text-align: right;\">\n",
              "      <th></th>\n",
              "      <th>0</th>\n",
              "      <th>1</th>\n",
              "      <th>2</th>\n",
              "      <th>3</th>\n",
              "      <th>4</th>\n",
              "      <th>5</th>\n",
              "      <th>6</th>\n",
              "      <th>7</th>\n",
              "      <th>8</th>\n",
              "      <th>9</th>\n",
              "    </tr>\n",
              "  </thead>\n",
              "  <tbody>\n",
              "    <tr>\n",
              "      <th>0</th>\n",
              "      <td>0</td>\n",
              "      <td>1</td>\n",
              "      <td>2</td>\n",
              "      <td>3</td>\n",
              "      <td>4</td>\n",
              "      <td>5</td>\n",
              "      <td>6</td>\n",
              "      <td>7</td>\n",
              "      <td>8</td>\n",
              "      <td>9</td>\n",
              "    </tr>\n",
              "    <tr>\n",
              "      <th>1</th>\n",
              "      <td>10</td>\n",
              "      <td>11</td>\n",
              "      <td>10</td>\n",
              "      <td>10</td>\n",
              "      <td>10</td>\n",
              "      <td>9</td>\n",
              "      <td>10</td>\n",
              "      <td>10</td>\n",
              "      <td>10</td>\n",
              "      <td>10</td>\n",
              "    </tr>\n",
              "  </tbody>\n",
              "</table>\n",
              "</div>"
            ],
            "text/plain": [
              "    0   1   2   3   4  5   6   7   8   9\n",
              "0   0   1   2   3   4  5   6   7   8   9\n",
              "1  10  11  10  10  10  9  10  10  10  10"
            ]
          },
          "metadata": {
            "tags": []
          },
          "execution_count": 2
        }
      ]
    },
    {
      "cell_type": "code",
      "metadata": {
        "id": "j-f4BgzeOg_n",
        "colab_type": "code",
        "outputId": "421eed7c-b690-434c-959c-392adf29614d",
        "colab": {
          "base_uri": "https://localhost:8080/",
          "height": 34
        }
      },
      "source": [
        "tf.test.is_gpu_available()"
      ],
      "execution_count": 0,
      "outputs": [
        {
          "output_type": "execute_result",
          "data": {
            "text/plain": [
              "True"
            ]
          },
          "metadata": {
            "tags": []
          },
          "execution_count": 3
        }
      ]
    },
    {
      "cell_type": "code",
      "metadata": {
        "id": "n04njpWsPKeU",
        "colab_type": "code",
        "colab": {}
      },
      "source": [
        "##### Define hyper-parameters #####\n",
        "\n",
        "# Dropout parameters\n",
        "dropoutRate_0 = 0.\n",
        "dropoutRate_1 = 0.5 #ref\n",
        "\n",
        "# NN parameters\n",
        "inputN = 784 #default\n",
        "hiddenN = 5000 #ref \n",
        "outputN = 10 #default\n",
        "\n",
        "# DAE_NN parameters\n",
        "DAE_hiddenN1 = 256 # ref\n",
        "DAE_hiddenN2 = 128\n",
        "DAE_hiddenN3 = 256\n",
        "destruction_proportion = 0.5 # ref\n",
        "trainingEpochsDAE = 50\n",
        "batch_sizeDAE = 256\n",
        "\n",
        "# iteraction parameters\n",
        "trainingEpochs = 3000 #ref\n",
        "batchSize = 32 # ref\n",
        "PLbatchSize = 256 #ref\n",
        "\n",
        "# balancing coefficient\n",
        "T1 = 100 #ref\n",
        "T2 = 600 #ref\n",
        "a = 0. #ref\n",
        "af = 3. #ref\n",
        "\n",
        "T1_DAE = 200 #ref\n",
        "T2_DAE = 800 #ref\n",
        "\n",
        "# SGD with dynamic momentum\n",
        "learningRate = 1.5 # ref\n",
        "T = 500 #ref\n",
        "k = 0.998 #ref\n",
        "pi = 0.5 #ref\n",
        "pf = 0.99 #ref\n"
      ],
      "execution_count": 0,
      "outputs": []
    },
    {
      "cell_type": "code",
      "metadata": {
        "id": "rndsoUSePQgv",
        "colab_type": "code",
        "outputId": "9ebd63e4-ef19-4c65-f350-4028b409f85c",
        "colab": {
          "base_uri": "https://localhost:8080/",
          "height": 105
        }
      },
      "source": [
        "##### Define NN architecture ####\n",
        "\n",
        "x = tf.placeholder(\"float\", [None, inputN])\n",
        "y = tf.placeholder(\"float\", [None, outputN])\n",
        "PLx = tf.placeholder(\"float\", [None, inputN])\n",
        "PLy = tf.placeholder(\"float\", [None, outputN])\n",
        "DAE_x = tf.placeholder(\"float\", [None, inputN])\n",
        "DAE_x_noise = tf.placeholder(\"float\", [None, inputN])\n",
        "alpha_t = tf.placeholder(\"float\", )\n",
        "p_t = tf.placeholder(\"float\",)\n",
        "epsilon_t = tf.placeholder(\"float\",)\n",
        "plt.clf()\n",
        "\n",
        "def NN(x, w, b):\n",
        "    # Hidden layer 1\n",
        "    HL = tf.add(tf.matmul(x, w['h1']), b['b1'])\n",
        "    HL = tf.nn.relu(HL)\n",
        "    HL = tf.nn.dropout(HL, rate = dropoutRate_1)\n",
        "    # Output layer\n",
        "    out_layer =tf.matmul(HL, w['out']) + b['out']\n",
        "\n",
        "    return out_layer\n",
        "\n",
        "def DAE_NN(DAE_x_noise, w, b):\n",
        "  # Hidden layer 1\n",
        "  HL1 = tf.nn.sigmoid(tf.add(tf.matmul(DAE_x_noise, w['h1']), b['b1']))\n",
        "  #HL1 = tf.nn.dropout(HL1, rate = dropoutRate_1)\n",
        "  # Hidden layer 2\n",
        "  HL2 = tf.nn.sigmoid(tf.add(tf.matmul(HL1, w['h2']), b['b2']))\n",
        "  #HL2 = tf.nn.dropout(HL2, rate = dropoutRate_1)\n",
        "  # Hidden layer 3\n",
        "  HL3 = tf.nn.sigmoid(tf.add(tf.matmul(HL2, w['h3']), b['b3']))\n",
        "  #HL3 = tf.nn.dropout(HL3, rate = dropoutRate_1)\n",
        "  # Output layer\n",
        "  out_layer = tf.nn.sigmoid(tf.add(tf.matmul(HL3, w['out']), b['out']))\n",
        "  \n",
        "  return out_layer\n",
        "\n",
        "\n",
        "# initialize weights and biases\n",
        "with tf.variable_scope('NN') :\n",
        "  weightsNN = {\n",
        "    'h1': tf.Variable(tf.random_normal([inputN, hiddenN])),\n",
        "    'out': tf.Variable(tf.random_normal([hiddenN, outputN]))\n",
        "    }\n",
        "\n",
        "  biasesNN = {\n",
        "    'b1': tf.Variable(tf.random_normal([hiddenN])),\n",
        "    'out': tf.Variable(tf.random_normal([outputN]))\n",
        "    }\n",
        "\n",
        "with tf.variable_scope('PL') :\n",
        "  weightsPL = {\n",
        "    'h1': tf.Variable(tf.random_normal([inputN, hiddenN])),\n",
        "    'out': tf.Variable(tf.random_normal([hiddenN, outputN]))\n",
        "    }\n",
        "  biasesPL = {\n",
        "    'b1': tf.Variable(tf.random_normal([hiddenN])),\n",
        "    'out': tf.Variable(tf.random_normal([outputN]))\n",
        "    }\n",
        "\n",
        "with tf.variable_scope('DAE') :\n",
        "  weightsDAE = {\n",
        "    'h1': tf.Variable(tf.random_normal([inputN, DAE_hiddenN1])),\n",
        "    'h2': tf.Variable(tf.random_normal([DAE_hiddenN1, DAE_hiddenN2])),\n",
        "    'h3': tf.Variable(tf.random_normal([DAE_hiddenN2, DAE_hiddenN3])),\n",
        "    'out': tf.Variable(tf.random_normal([DAE_hiddenN3, inputN]))\n",
        "    }\n",
        "  biasesDAE = {\n",
        "    'b1': tf.Variable(tf.random_normal([DAE_hiddenN1])),\n",
        "    'b2': tf.Variable(tf.random_normal([DAE_hiddenN2])),\n",
        "    'b3': tf.Variable(tf.random_normal([DAE_hiddenN3])),\n",
        "    'out': tf.Variable(tf.random_normal([inputN]))\n",
        "    }\n",
        "\n",
        "predDAE = DAE_NN(DAE_x_noise, weightsDAE, biasesDAE)\n",
        "\n",
        "costDAE = tf.reduce_mean(tf.compat.v1.losses.log_loss(DAE_x, predDAE))\n",
        "\n",
        "predNN = NN(x, weightsNN, biasesNN)\n",
        "predPL = NN(x, weightsPL, biasesPL)\n",
        "predPL1 = NN(PLx, weightsPL, biasesPL)\n",
        "\n",
        "costNN = tf.reduce_mean(tf.nn.sigmoid_cross_entropy_with_logits(logits=predNN,\n",
        "                                                                labels=y))\n",
        "\n",
        "costPL = tf.add(tf.reduce_mean(tf.nn.sigmoid_cross_entropy_with_logits(logits=predPL,\n",
        "                                                                       labels=y)),\n",
        "                (alpha_t * tf.reduce_mean(tf.nn.sigmoid_cross_entropy_with_logits(logits=predPL1,\n",
        "                                                                                labels=PLy))))\n",
        "\n"
      ],
      "execution_count": 0,
      "outputs": [
        {
          "output_type": "stream",
          "text": [
            "WARNING:tensorflow:From /usr/local/lib/python3.6/dist-packages/tensorflow_core/python/ops/losses/losses_impl.py:121: where (from tensorflow.python.ops.array_ops) is deprecated and will be removed in a future version.\n",
            "Instructions for updating:\n",
            "Use tf.where in 2.0, which has the same broadcast rule as np.where\n"
          ],
          "name": "stdout"
        },
        {
          "output_type": "display_data",
          "data": {
            "text/plain": [
              "<Figure size 432x288 with 0 Axes>"
            ]
          },
          "metadata": {
            "tags": []
          }
        }
      ]
    },
    {
      "cell_type": "code",
      "metadata": {
        "id": "lIfay6Tfvw44",
        "colab_type": "code",
        "colab": {}
      },
      "source": [
        "##### Define optimizer #####\n",
        "\n",
        "optimizerNN = tf.train.MomentumOptimizer(learning_rate = (1-p_t)*epsilon_t,\n",
        "                                        momentum = -p_t/(1-p_t)).minimize(costNN)\n",
        "optimizerPL = tf.train.MomentumOptimizer(learning_rate = (1-p_t)*epsilon_t,\n",
        "                                        momentum = -p_t/(1-p_t)).minimize(costNN)\n",
        "\n",
        "# Initializing the variables\n",
        "init = tf.global_variables_initializer()"
      ],
      "execution_count": 0,
      "outputs": []
    },
    {
      "cell_type": "code",
      "metadata": {
        "id": "NfDjGzIan4Ac",
        "colab_type": "code",
        "colab": {}
      },
      "source": [
        "##### Define benchmark functions #####\n",
        "\n",
        "def accuracytestNN():\n",
        "    # Test model\n",
        "    correct_prediction = tf.equal(tf.argmax(predNN, 1), tf.argmax(y, 1))\n",
        "    # Calculate accuracy\n",
        "    accuracy = tf.reduce_mean(tf.cast(correct_prediction, \"float\"))\n",
        "    # To keep sizes compatible with model\n",
        "    return accuracy.eval({x: mnist.test.images, y: mnist.test.labels})\n",
        "\n",
        "\n",
        "def accuracytestPL():\n",
        "    # Test model\n",
        "    correct_prediction = tf.equal(tf.argmax(predPL, 1), tf.argmax(y, 1))\n",
        "    # Calculate accuracy\n",
        "    accuracy = tf.reduce_mean(tf.cast(correct_prediction, \"float\"))\n",
        "    # To keep sizes compatible with model\n",
        "    return accuracy.eval({x: mnist.test.images, y: mnist.test.labels})\n"
      ],
      "execution_count": 0,
      "outputs": []
    },
    {
      "cell_type": "code",
      "metadata": {
        "id": "-fAOV-ggPTJB",
        "colab_type": "code",
        "colab": {}
      },
      "source": [
        "def dropNN_PL():\n",
        "  ### Neural Network parameters\n",
        "  iteration_list = []\n",
        "  neural_network_accuracy_list = []\n",
        "  pseudo_label_accuarcy_list = []\n",
        "  neural_network_accuracy = 0\n",
        "  pseudo_label_accuarcy = 0\n",
        "  iteration = 0\n",
        "  with tf.Session() as sess:\n",
        "    sess.run(init)\n",
        "    begin=time.time()\n",
        "    # Training cycle\n",
        "    for epoch in range(trainingEpochs):\n",
        "        avg_costNN = 0.\n",
        "        avg_costPL = 0.\n",
        "        total_batch = int(100 / batchSize)\n",
        "        # Loop over all batches\n",
        "        index = np.arange(x_train.shape[0])\n",
        "        np.random.shuffle(index)\n",
        "        batches_X = np.array_split(x_train[index], total_batch)\n",
        "        batches_y = np.array_split(y_train[index], total_batch)\n",
        "        index = np.arange(x_PL.shape[0])\n",
        "        np.random.shuffle(index)\n",
        "        batches_X_PL = np.array_split(x_PL[index], total_batch)\n",
        "        for i in range(total_batch):\n",
        "            batch_x, batch_y = batches_X[i], batches_y[i]\n",
        "            if epoch > T:\n",
        "              p = pf\n",
        "            else:\n",
        "              p = epoch/T*pf + (1-epoch/T)*pi\n",
        "\n",
        "            _, cNN = sess.run([optimizerNN, costNN], feed_dict={x: batch_x,\n",
        "                                                                y: batch_y,\n",
        "                                                                p_t : p,\n",
        "                                                                epsilon_t : learningRate*(k**epoch)\n",
        "                                                                })\n",
        "            if epoch < T1:\n",
        "                a = 0\n",
        "            elif epoch < T2:\n",
        "                a = ((epoch - T1) / (T2 - T1)) * af\n",
        "            else :\n",
        "                a = af\n",
        "            \n",
        "\n",
        "            # Pseudolabel\n",
        "            batch_xpred = batches_X_PL[i]\n",
        "            batch_ypred = sess.run([predPL], feed_dict={x: batch_xpred})\n",
        "            batch_ypred = batch_ypred[0]\n",
        "            batch_ypred = batch_ypred.argmax(1)\n",
        "            batch_ypre = np.zeros((batch_xpred.shape[0], 10))\n",
        "            for ii in range(PLbatchSize):\n",
        "                batch_ypre[ii, batch_ypred[ii]] = 1\n",
        "\n",
        "            _, cPL = sess.run([optimizerPL, costPL], feed_dict={x: batch_x,\n",
        "                                                                y: batch_y,\n",
        "                                                                PLx: batch_xpred,\n",
        "                                                                PLy: batch_ypre,\n",
        "                                                                p_t : p,\n",
        "                                                                epsilon_t : learningRate*(k**epoch),\n",
        "                                                                alpha_t: a})\n",
        "            iteration += 1\n",
        "            # Compute average loss\n",
        "            avg_costNN += cNN / total_batch\n",
        "            avg_costPL += cPL / total_batch\n",
        "\n",
        "        if epoch % 100 == 0:\n",
        "            neural_network_accuracy = accuracytestNN()\n",
        "            pseudo_label_accuarcy = accuracytestPL()\n",
        "            print(\"Epoch {} | time = {:.4f} | DropNN acc = {:.4f} | DropNN+PL acc = {:.4f} \"\n",
        "                  .format(epoch, time.time() - begin,\n",
        "                          neural_network_accuracy, pseudo_label_accuarcy))\n",
        "\n",
        "            iteration_list = np.append(iteration_list, iteration)\n",
        "            neural_network_accuracy_list = np.append(neural_network_accuracy_list, neural_network_accuracy)\n",
        "            pseudo_label_accuarcy_list = np.append(pseudo_label_accuarcy_list, pseudo_label_accuarcy)\n",
        "\n",
        "        plt.plot(iteration_list, pseudo_label_accuarcy_list, iteration_list, neural_network_accuracy_list, 'r--')\n",
        "    print(\"Optimization Finished!\")\n",
        "    print(\"Neural Network accuracy:\", accuracytestNN())\n",
        "    print(\"+PL:\", accuracytestPL())\n",
        "    plt.show()"
      ],
      "execution_count": 0,
      "outputs": []
    },
    {
      "cell_type": "code",
      "metadata": {
        "id": "6eZUTnBX8qrZ",
        "colab_type": "code",
        "outputId": "579c512d-d851-4c52-a0ac-fb9904429d8d",
        "colab": {
          "base_uri": "https://localhost:8080/",
          "height": 826
        }
      },
      "source": [
        "dropNN_PL()"
      ],
      "execution_count": 16,
      "outputs": [
        {
          "output_type": "stream",
          "text": [
            "Epoch 0 | time = 0.5472 | DropNN acc = 0.2174 | DropNN+PL acc = 0.1021 \n",
            "Epoch 100 | time = 31.0627 | DropNN acc = 0.0892 | DropNN+PL acc = 0.1047 \n",
            "Epoch 200 | time = 61.7149 | DropNN acc = 0.0980 | DropNN+PL acc = 0.1021 \n",
            "Epoch 300 | time = 92.2135 | DropNN acc = 0.0980 | DropNN+PL acc = 0.1018 \n",
            "Epoch 400 | time = 122.7676 | DropNN acc = 0.0980 | DropNN+PL acc = 0.1100 \n",
            "Epoch 500 | time = 153.3870 | DropNN acc = 0.0980 | DropNN+PL acc = 0.1067 \n",
            "Epoch 600 | time = 184.0832 | DropNN acc = 0.0980 | DropNN+PL acc = 0.1032 \n",
            "Epoch 700 | time = 214.7156 | DropNN acc = 0.0980 | DropNN+PL acc = 0.1080 \n",
            "Epoch 800 | time = 245.5348 | DropNN acc = 0.0980 | DropNN+PL acc = 0.1025 \n",
            "Epoch 900 | time = 276.2127 | DropNN acc = 0.0980 | DropNN+PL acc = 0.1061 \n",
            "Epoch 1000 | time = 306.9373 | DropNN acc = 0.0980 | DropNN+PL acc = 0.1007 \n",
            "Epoch 1100 | time = 337.6623 | DropNN acc = 0.0980 | DropNN+PL acc = 0.1068 \n",
            "Epoch 1200 | time = 368.4486 | DropNN acc = 0.0980 | DropNN+PL acc = 0.0973 \n",
            "Epoch 1300 | time = 399.1574 | DropNN acc = 0.0980 | DropNN+PL acc = 0.1027 \n",
            "Epoch 1400 | time = 429.9437 | DropNN acc = 0.0980 | DropNN+PL acc = 0.1065 \n",
            "Epoch 1500 | time = 460.7343 | DropNN acc = 0.0980 | DropNN+PL acc = 0.1024 \n",
            "Epoch 1600 | time = 491.7391 | DropNN acc = 0.0980 | DropNN+PL acc = 0.1005 \n",
            "Epoch 1700 | time = 522.5609 | DropNN acc = 0.0980 | DropNN+PL acc = 0.1037 \n",
            "Epoch 1800 | time = 553.3496 | DropNN acc = 0.0980 | DropNN+PL acc = 0.1062 \n",
            "Epoch 1900 | time = 584.1856 | DropNN acc = 0.0980 | DropNN+PL acc = 0.1058 \n",
            "Epoch 2000 | time = 615.0577 | DropNN acc = 0.0980 | DropNN+PL acc = 0.0991 \n",
            "Epoch 2100 | time = 645.9558 | DropNN acc = 0.0980 | DropNN+PL acc = 0.1074 \n",
            "Epoch 2200 | time = 676.8608 | DropNN acc = 0.0980 | DropNN+PL acc = 0.1049 \n",
            "Epoch 2300 | time = 707.7546 | DropNN acc = 0.0980 | DropNN+PL acc = 0.1048 \n",
            "Epoch 2400 | time = 738.7415 | DropNN acc = 0.0980 | DropNN+PL acc = 0.1002 \n",
            "Epoch 2500 | time = 769.7084 | DropNN acc = 0.0980 | DropNN+PL acc = 0.1077 \n",
            "Epoch 2600 | time = 800.9377 | DropNN acc = 0.0980 | DropNN+PL acc = 0.1049 \n",
            "Epoch 2700 | time = 831.9168 | DropNN acc = 0.0980 | DropNN+PL acc = 0.1037 \n",
            "Epoch 2800 | time = 862.9133 | DropNN acc = 0.0980 | DropNN+PL acc = 0.1053 \n",
            "Epoch 2900 | time = 893.8942 | DropNN acc = 0.0980 | DropNN+PL acc = 0.1050 \n",
            "Optimization Finished!\n",
            "Neural Network accuracy: 0.098\n",
            "+PL: 0.1026\n"
          ],
          "name": "stdout"
        },
        {
          "output_type": "display_data",
          "data": {
            "image/png": "[encoded data removed]",
            "text/plain": [
              "<Figure size 432x288 with 1 Axes>"
            ]
          },
          "metadata": {
            "tags": []
          }
        }
      ]
    }
  ]
}