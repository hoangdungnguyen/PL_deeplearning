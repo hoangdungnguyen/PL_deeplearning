{
  "nbformat": 4,
  "nbformat_minor": 0,
  "metadata": {
    "kernelspec": {
      "name": "python3",
      "display_name": "Python 3"
    },
    "language_info": {
      "codemirror_mode": {
        "name": "ipython",
        "version": 3
      },
      "file_extension": ".py",
      "mimetype": "text/x-python",
      "name": "python",
      "nbconvert_exporter": "python",
      "pygments_lexer": "ipython3",
      "version": "3.7.3"
    },
    "colab": {
      "name": "CNNdropout_PL_DAE.ipynb",
      "provenance": [],
      "collapsed_sections": []
    },
    "accelerator": "GPU",
    "widgets": {
      "application/vnd.jupyter.widget-state+json": {
        "aa236440eecf42ea83c6d5729a783171": {
          "model_module": "@jupyter-widgets/controls",
          "model_name": "HBoxModel",
          "state": {
            "_view_name": "HBoxView",
            "_dom_classes": [],
            "_model_name": "HBoxModel",
            "_view_module": "@jupyter-widgets/controls",
            "_model_module_version": "1.5.0",
            "_view_count": null,
            "_view_module_version": "1.5.0",
            "box_style": "",
            "layout": "IPY_MODEL_4f9aac691a3a43a2898c39e9960afffb",
            "_model_module": "@jupyter-widgets/controls",
            "children": [
              "IPY_MODEL_e4ed50c5e04148fdad6a54e67501d477",
              "IPY_MODEL_12ed6fdad4eb49c2bbb9578007501d2e"
            ]
          }
        },
        "4f9aac691a3a43a2898c39e9960afffb": {
          "model_module": "@jupyter-widgets/base",
          "model_name": "LayoutModel",
          "state": {
            "_view_name": "LayoutView",
            "grid_template_rows": null,
            "right": null,
            "justify_content": null,
            "_view_module": "@jupyter-widgets/base",
            "overflow": null,
            "_model_module_version": "1.2.0",
            "_view_count": null,
            "flex_flow": null,
            "width": null,
            "min_width": null,
            "border": null,
            "align_items": null,
            "bottom": null,
            "_model_module": "@jupyter-widgets/base",
            "top": null,
            "grid_column": null,
            "overflow_y": null,
            "overflow_x": null,
            "grid_auto_flow": null,
            "grid_area": null,
            "grid_template_columns": null,
            "flex": null,
            "_model_name": "LayoutModel",
            "justify_items": null,
            "grid_row": null,
            "max_height": null,
            "align_content": null,
            "visibility": null,
            "align_self": null,
            "height": null,
            "min_height": null,
            "padding": null,
            "grid_auto_rows": null,
            "grid_gap": null,
            "max_width": null,
            "order": null,
            "_view_module_version": "1.2.0",
            "grid_template_areas": null,
            "object_position": null,
            "object_fit": null,
            "grid_auto_columns": null,
            "margin": null,
            "display": null,
            "left": null
          }
        },
        "e4ed50c5e04148fdad6a54e67501d477": {
          "model_module": "@jupyter-widgets/controls",
          "model_name": "IntProgressModel",
          "state": {
            "_view_name": "ProgressView",
            "style": "IPY_MODEL_d38d4509df444a7baf6ff4ef6ba2a4be",
            "_dom_classes": [],
            "description": "",
            "_model_name": "IntProgressModel",
            "bar_style": "success",
            "max": 100,
            "_view_module": "@jupyter-widgets/controls",
            "_model_module_version": "1.5.0",
            "value": 100,
            "_view_count": null,
            "_view_module_version": "1.5.0",
            "orientation": "horizontal",
            "min": 0,
            "description_tooltip": null,
            "_model_module": "@jupyter-widgets/controls",
            "layout": "IPY_MODEL_8507f92ae40241109a61ff165a4f52db"
          }
        },
        "12ed6fdad4eb49c2bbb9578007501d2e": {
          "model_module": "@jupyter-widgets/controls",
          "model_name": "HTMLModel",
          "state": {
            "_view_name": "HTMLView",
            "style": "IPY_MODEL_e0f776208cf943a398029da6f1c7bcbb",
            "_dom_classes": [],
            "description": "",
            "_model_name": "HTMLModel",
            "placeholder": "​",
            "_view_module": "@jupyter-widgets/controls",
            "_model_module_version": "1.5.0",
            "value": "100% 100/100 [18:04&lt;00:00, 11.00s/it]",
            "_view_count": null,
            "_view_module_version": "1.5.0",
            "description_tooltip": null,
            "_model_module": "@jupyter-widgets/controls",
            "layout": "IPY_MODEL_52a08591102645878db30506aff23cd5"
          }
        },
        "d38d4509df444a7baf6ff4ef6ba2a4be": {
          "model_module": "@jupyter-widgets/controls",
          "model_name": "ProgressStyleModel",
          "state": {
            "_view_name": "StyleView",
            "_model_name": "ProgressStyleModel",
            "description_width": "",
            "_view_module": "@jupyter-widgets/base",
            "_model_module_version": "1.5.0",
            "_view_count": null,
            "_view_module_version": "1.2.0",
            "bar_color": null,
            "_model_module": "@jupyter-widgets/controls"
          }
        },
        "8507f92ae40241109a61ff165a4f52db": {
          "model_module": "@jupyter-widgets/base",
          "model_name": "LayoutModel",
          "state": {
            "_view_name": "LayoutView",
            "grid_template_rows": null,
            "right": null,
            "justify_content": null,
            "_view_module": "@jupyter-widgets/base",
            "overflow": null,
            "_model_module_version": "1.2.0",
            "_view_count": null,
            "flex_flow": null,
            "width": null,
            "min_width": null,
            "border": null,
            "align_items": null,
            "bottom": null,
            "_model_module": "@jupyter-widgets/base",
            "top": null,
            "grid_column": null,
            "overflow_y": null,
            "overflow_x": null,
            "grid_auto_flow": null,
            "grid_area": null,
            "grid_template_columns": null,
            "flex": null,
            "_model_name": "LayoutModel",
            "justify_items": null,
            "grid_row": null,
            "max_height": null,
            "align_content": null,
            "visibility": null,
            "align_self": null,
            "height": null,
            "min_height": null,
            "padding": null,
            "grid_auto_rows": null,
            "grid_gap": null,
            "max_width": null,
            "order": null,
            "_view_module_version": "1.2.0",
            "grid_template_areas": null,
            "object_position": null,
            "object_fit": null,
            "grid_auto_columns": null,
            "margin": null,
            "display": null,
            "left": null
          }
        },
        "e0f776208cf943a398029da6f1c7bcbb": {
          "model_module": "@jupyter-widgets/controls",
          "model_name": "DescriptionStyleModel",
          "state": {
            "_view_name": "StyleView",
            "_model_name": "DescriptionStyleModel",
            "description_width": "",
            "_view_module": "@jupyter-widgets/base",
            "_model_module_version": "1.5.0",
            "_view_count": null,
            "_view_module_version": "1.2.0",
            "_model_module": "@jupyter-widgets/controls"
          }
        },
        "52a08591102645878db30506aff23cd5": {
          "model_module": "@jupyter-widgets/base",
          "model_name": "LayoutModel",
          "state": {
            "_view_name": "LayoutView",
            "grid_template_rows": null,
            "right": null,
            "justify_content": null,
            "_view_module": "@jupyter-widgets/base",
            "overflow": null,
            "_model_module_version": "1.2.0",
            "_view_count": null,
            "flex_flow": null,
            "width": null,
            "min_width": null,
            "border": null,
            "align_items": null,
            "bottom": null,
            "_model_module": "@jupyter-widgets/base",
            "top": null,
            "grid_column": null,
            "overflow_y": null,
            "overflow_x": null,
            "grid_auto_flow": null,
            "grid_area": null,
            "grid_template_columns": null,
            "flex": null,
            "_model_name": "LayoutModel",
            "justify_items": null,
            "grid_row": null,
            "max_height": null,
            "align_content": null,
            "visibility": null,
            "align_self": null,
            "height": null,
            "min_height": null,
            "padding": null,
            "grid_auto_rows": null,
            "grid_gap": null,
            "max_width": null,
            "order": null,
            "_view_module_version": "1.2.0",
            "grid_template_areas": null,
            "object_position": null,
            "object_fit": null,
            "grid_auto_columns": null,
            "margin": null,
            "display": null,
            "left": null
          }
        },
        "307582819d02419bbe348506f60a8c6b": {
          "model_module": "@jupyter-widgets/controls",
          "model_name": "HBoxModel",
          "state": {
            "_view_name": "HBoxView",
            "_dom_classes": [],
            "_model_name": "HBoxModel",
            "_view_module": "@jupyter-widgets/controls",
            "_model_module_version": "1.5.0",
            "_view_count": null,
            "_view_module_version": "1.5.0",
            "box_style": "",
            "layout": "IPY_MODEL_3cbc2224d4414ec3bc88b66e45e9739a",
            "_model_module": "@jupyter-widgets/controls",
            "children": [
              "IPY_MODEL_daa4d0b5ed174b21979d7af34146d711",
              "IPY_MODEL_ce998c915bde4650836d50c40b18850e"
            ]
          }
        },
        "3cbc2224d4414ec3bc88b66e45e9739a": {
          "model_module": "@jupyter-widgets/base",
          "model_name": "LayoutModel",
          "state": {
            "_view_name": "LayoutView",
            "grid_template_rows": null,
            "right": null,
            "justify_content": null,
            "_view_module": "@jupyter-widgets/base",
            "overflow": null,
            "_model_module_version": "1.2.0",
            "_view_count": null,
            "flex_flow": null,
            "width": null,
            "min_width": null,
            "border": null,
            "align_items": null,
            "bottom": null,
            "_model_module": "@jupyter-widgets/base",
            "top": null,
            "grid_column": null,
            "overflow_y": null,
            "overflow_x": null,
            "grid_auto_flow": null,
            "grid_area": null,
            "grid_template_columns": null,
            "flex": null,
            "_model_name": "LayoutModel",
            "justify_items": null,
            "grid_row": null,
            "max_height": null,
            "align_content": null,
            "visibility": null,
            "align_self": null,
            "height": null,
            "min_height": null,
            "padding": null,
            "grid_auto_rows": null,
            "grid_gap": null,
            "max_width": null,
            "order": null,
            "_view_module_version": "1.2.0",
            "grid_template_areas": null,
            "object_position": null,
            "object_fit": null,
            "grid_auto_columns": null,
            "margin": null,
            "display": null,
            "left": null
          }
        },
        "daa4d0b5ed174b21979d7af34146d711": {
          "model_module": "@jupyter-widgets/controls",
          "model_name": "IntProgressModel",
          "state": {
            "_view_name": "ProgressView",
            "style": "IPY_MODEL_1b60ef9936ea4e8092e10bda156067f6",
            "_dom_classes": [],
            "description": "",
            "_model_name": "IntProgressModel",
            "bar_style": "success",
            "max": 200,
            "_view_module": "@jupyter-widgets/controls",
            "_model_module_version": "1.5.0",
            "value": 200,
            "_view_count": null,
            "_view_module_version": "1.5.0",
            "orientation": "horizontal",
            "min": 0,
            "description_tooltip": null,
            "_model_module": "@jupyter-widgets/controls",
            "layout": "IPY_MODEL_4b4f9e3ed105475a9f0bd73c11546806"
          }
        },
        "ce998c915bde4650836d50c40b18850e": {
          "model_module": "@jupyter-widgets/controls",
          "model_name": "HTMLModel",
          "state": {
            "_view_name": "HTMLView",
            "style": "IPY_MODEL_2f8977f71bbf4f8eaf77ad9483b619cf",
            "_dom_classes": [],
            "description": "",
            "_model_name": "HTMLModel",
            "placeholder": "​",
            "_view_module": "@jupyter-widgets/controls",
            "_model_module_version": "1.5.0",
            "value": "100% 200/200 [01:22&lt;00:00,  1.90it/s]",
            "_view_count": null,
            "_view_module_version": "1.5.0",
            "description_tooltip": null,
            "_model_module": "@jupyter-widgets/controls",
            "layout": "IPY_MODEL_4ab9b04832d3499a8678f30a1316f55c"
          }
        },
        "1b60ef9936ea4e8092e10bda156067f6": {
          "model_module": "@jupyter-widgets/controls",
          "model_name": "ProgressStyleModel",
          "state": {
            "_view_name": "StyleView",
            "_model_name": "ProgressStyleModel",
            "description_width": "",
            "_view_module": "@jupyter-widgets/base",
            "_model_module_version": "1.5.0",
            "_view_count": null,
            "_view_module_version": "1.2.0",
            "bar_color": null,
            "_model_module": "@jupyter-widgets/controls"
          }
        },
        "4b4f9e3ed105475a9f0bd73c11546806": {
          "model_module": "@jupyter-widgets/base",
          "model_name": "LayoutModel",
          "state": {
            "_view_name": "LayoutView",
            "grid_template_rows": null,
            "right": null,
            "justify_content": null,
            "_view_module": "@jupyter-widgets/base",
            "overflow": null,
            "_model_module_version": "1.2.0",
            "_view_count": null,
            "flex_flow": null,
            "width": null,
            "min_width": null,
            "border": null,
            "align_items": null,
            "bottom": null,
            "_model_module": "@jupyter-widgets/base",
            "top": null,
            "grid_column": null,
            "overflow_y": null,
            "overflow_x": null,
            "grid_auto_flow": null,
            "grid_area": null,
            "grid_template_columns": null,
            "flex": null,
            "_model_name": "LayoutModel",
            "justify_items": null,
            "grid_row": null,
            "max_height": null,
            "align_content": null,
            "visibility": null,
            "align_self": null,
            "height": null,
            "min_height": null,
            "padding": null,
            "grid_auto_rows": null,
            "grid_gap": null,
            "max_width": null,
            "order": null,
            "_view_module_version": "1.2.0",
            "grid_template_areas": null,
            "object_position": null,
            "object_fit": null,
            "grid_auto_columns": null,
            "margin": null,
            "display": null,
            "left": null
          }
        },
        "2f8977f71bbf4f8eaf77ad9483b619cf": {
          "model_module": "@jupyter-widgets/controls",
          "model_name": "DescriptionStyleModel",
          "state": {
            "_view_name": "StyleView",
            "_model_name": "DescriptionStyleModel",
            "description_width": "",
            "_view_module": "@jupyter-widgets/base",
            "_model_module_version": "1.5.0",
            "_view_count": null,
            "_view_module_version": "1.2.0",
            "_model_module": "@jupyter-widgets/controls"
          }
        },
        "4ab9b04832d3499a8678f30a1316f55c": {
          "model_module": "@jupyter-widgets/base",
          "model_name": "LayoutModel",
          "state": {
            "_view_name": "LayoutView",
            "grid_template_rows": null,
            "right": null,
            "justify_content": null,
            "_view_module": "@jupyter-widgets/base",
            "overflow": null,
            "_model_module_version": "1.2.0",
            "_view_count": null,
            "flex_flow": null,
            "width": null,
            "min_width": null,
            "border": null,
            "align_items": null,
            "bottom": null,
            "_model_module": "@jupyter-widgets/base",
            "top": null,
            "grid_column": null,
            "overflow_y": null,
            "overflow_x": null,
            "grid_auto_flow": null,
            "grid_area": null,
            "grid_template_columns": null,
            "flex": null,
            "_model_name": "LayoutModel",
            "justify_items": null,
            "grid_row": null,
            "max_height": null,
            "align_content": null,
            "visibility": null,
            "align_self": null,
            "height": null,
            "min_height": null,
            "padding": null,
            "grid_auto_rows": null,
            "grid_gap": null,
            "max_width": null,
            "order": null,
            "_view_module_version": "1.2.0",
            "grid_template_areas": null,
            "object_position": null,
            "object_fit": null,
            "grid_auto_columns": null,
            "margin": null,
            "display": null,
            "left": null
          }
        },
        "76dbeef018af44b4aedc1de07c6c66b7": {
          "model_module": "@jupyter-widgets/controls",
          "model_name": "HBoxModel",
          "state": {
            "_view_name": "HBoxView",
            "_dom_classes": [],
            "_model_name": "HBoxModel",
            "_view_module": "@jupyter-widgets/controls",
            "_model_module_version": "1.5.0",
            "_view_count": null,
            "_view_module_version": "1.5.0",
            "box_style": "",
            "layout": "IPY_MODEL_72833b0f326e4a96b1c7bbc2c485fb23",
            "_model_module": "@jupyter-widgets/controls",
            "children": [
              "IPY_MODEL_ee016dadd8ec47c8a678ef7b3d655c85",
              "IPY_MODEL_bf1bcb8b7e76402c963e5de77e23fcb9"
            ]
          }
        },
        "72833b0f326e4a96b1c7bbc2c485fb23": {
          "model_module": "@jupyter-widgets/base",
          "model_name": "LayoutModel",
          "state": {
            "_view_name": "LayoutView",
            "grid_template_rows": null,
            "right": null,
            "justify_content": null,
            "_view_module": "@jupyter-widgets/base",
            "overflow": null,
            "_model_module_version": "1.2.0",
            "_view_count": null,
            "flex_flow": null,
            "width": null,
            "min_width": null,
            "border": null,
            "align_items": null,
            "bottom": null,
            "_model_module": "@jupyter-widgets/base",
            "top": null,
            "grid_column": null,
            "overflow_y": null,
            "overflow_x": null,
            "grid_auto_flow": null,
            "grid_area": null,
            "grid_template_columns": null,
            "flex": null,
            "_model_name": "LayoutModel",
            "justify_items": null,
            "grid_row": null,
            "max_height": null,
            "align_content": null,
            "visibility": null,
            "align_self": null,
            "height": null,
            "min_height": null,
            "padding": null,
            "grid_auto_rows": null,
            "grid_gap": null,
            "max_width": null,
            "order": null,
            "_view_module_version": "1.2.0",
            "grid_template_areas": null,
            "object_position": null,
            "object_fit": null,
            "grid_auto_columns": null,
            "margin": null,
            "display": null,
            "left": null
          }
        },
        "ee016dadd8ec47c8a678ef7b3d655c85": {
          "model_module": "@jupyter-widgets/controls",
          "model_name": "IntProgressModel",
          "state": {
            "_view_name": "ProgressView",
            "style": "IPY_MODEL_77b28d49ab234d3288ca4361305b6f57",
            "_dom_classes": [],
            "description": "",
            "_model_name": "IntProgressModel",
            "bar_style": "success",
            "max": 500,
            "_view_module": "@jupyter-widgets/controls",
            "_model_module_version": "1.5.0",
            "value": 500,
            "_view_count": null,
            "_view_module_version": "1.5.0",
            "orientation": "horizontal",
            "min": 0,
            "description_tooltip": null,
            "_model_module": "@jupyter-widgets/controls",
            "layout": "IPY_MODEL_ca97296a5a6f4485976431b4ac22f3f7"
          }
        },
        "bf1bcb8b7e76402c963e5de77e23fcb9": {
          "model_module": "@jupyter-widgets/controls",
          "model_name": "HTMLModel",
          "state": {
            "_view_name": "HTMLView",
            "style": "IPY_MODEL_807b1a7475bd48bcbf814d02b9bed45a",
            "_dom_classes": [],
            "description": "",
            "_model_name": "HTMLModel",
            "placeholder": "​",
            "_view_module": "@jupyter-widgets/controls",
            "_model_module_version": "1.5.0",
            "value": "100% 500/500 [2:04:41&lt;00:00, 15.74s/it]",
            "_view_count": null,
            "_view_module_version": "1.5.0",
            "description_tooltip": null,
            "_model_module": "@jupyter-widgets/controls",
            "layout": "IPY_MODEL_d31151deaa594acdbd9b572df15a465a"
          }
        },
        "77b28d49ab234d3288ca4361305b6f57": {
          "model_module": "@jupyter-widgets/controls",
          "model_name": "ProgressStyleModel",
          "state": {
            "_view_name": "StyleView",
            "_model_name": "ProgressStyleModel",
            "description_width": "",
            "_view_module": "@jupyter-widgets/base",
            "_model_module_version": "1.5.0",
            "_view_count": null,
            "_view_module_version": "1.2.0",
            "bar_color": null,
            "_model_module": "@jupyter-widgets/controls"
          }
        },
        "ca97296a5a6f4485976431b4ac22f3f7": {
          "model_module": "@jupyter-widgets/base",
          "model_name": "LayoutModel",
          "state": {
            "_view_name": "LayoutView",
            "grid_template_rows": null,
            "right": null,
            "justify_content": null,
            "_view_module": "@jupyter-widgets/base",
            "overflow": null,
            "_model_module_version": "1.2.0",
            "_view_count": null,
            "flex_flow": null,
            "width": null,
            "min_width": null,
            "border": null,
            "align_items": null,
            "bottom": null,
            "_model_module": "@jupyter-widgets/base",
            "top": null,
            "grid_column": null,
            "overflow_y": null,
            "overflow_x": null,
            "grid_auto_flow": null,
            "grid_area": null,
            "grid_template_columns": null,
            "flex": null,
            "_model_name": "LayoutModel",
            "justify_items": null,
            "grid_row": null,
            "max_height": null,
            "align_content": null,
            "visibility": null,
            "align_self": null,
            "height": null,
            "min_height": null,
            "padding": null,
            "grid_auto_rows": null,
            "grid_gap": null,
            "max_width": null,
            "order": null,
            "_view_module_version": "1.2.0",
            "grid_template_areas": null,
            "object_position": null,
            "object_fit": null,
            "grid_auto_columns": null,
            "margin": null,
            "display": null,
            "left": null
          }
        },
        "807b1a7475bd48bcbf814d02b9bed45a": {
          "model_module": "@jupyter-widgets/controls",
          "model_name": "DescriptionStyleModel",
          "state": {
            "_view_name": "StyleView",
            "_model_name": "DescriptionStyleModel",
            "description_width": "",
            "_view_module": "@jupyter-widgets/base",
            "_model_module_version": "1.5.0",
            "_view_count": null,
            "_view_module_version": "1.2.0",
            "_model_module": "@jupyter-widgets/controls"
          }
        },
        "d31151deaa594acdbd9b572df15a465a": {
          "model_module": "@jupyter-widgets/base",
          "model_name": "LayoutModel",
          "state": {
            "_view_name": "LayoutView",
            "grid_template_rows": null,
            "right": null,
            "justify_content": null,
            "_view_module": "@jupyter-widgets/base",
            "overflow": null,
            "_model_module_version": "1.2.0",
            "_view_count": null,
            "flex_flow": null,
            "width": null,
            "min_width": null,
            "border": null,
            "align_items": null,
            "bottom": null,
            "_model_module": "@jupyter-widgets/base",
            "top": null,
            "grid_column": null,
            "overflow_y": null,
            "overflow_x": null,
            "grid_auto_flow": null,
            "grid_area": null,
            "grid_template_columns": null,
            "flex": null,
            "_model_name": "LayoutModel",
            "justify_items": null,
            "grid_row": null,
            "max_height": null,
            "align_content": null,
            "visibility": null,
            "align_self": null,
            "height": null,
            "min_height": null,
            "padding": null,
            "grid_auto_rows": null,
            "grid_gap": null,
            "max_width": null,
            "order": null,
            "_view_module_version": "1.2.0",
            "grid_template_areas": null,
            "object_position": null,
            "object_fit": null,
            "grid_auto_columns": null,
            "margin": null,
            "display": null,
            "left": null
          }
        }
      }
    }
  },
  "cells": [
    {
      "cell_type": "code",
      "metadata": {
        "Collapsed": "false",
        "id": "yngvQZtwj6En",
        "colab_type": "code",
        "outputId": "49187373-c075-490f-8e80-91f6718af073",
        "colab": {
          "base_uri": "https://localhost:8080/",
          "height": 519
        }
      },
      "source": [
        "!pip install MulticoreTSNE\n",
        "%matplotlib inline\n",
        "from MulticoreTSNE import MulticoreTSNE as TSNE\n",
        "from matplotlib import pyplot as plt\n",
        "import torch\n",
        "from torchvision import datasets, transforms\n",
        "from torch import nn\n",
        "import torch.nn.functional as F\n",
        "import numpy as np\n",
        "import pandas as pd\n",
        "import time\n",
        "import gc\n",
        "\n",
        "torch.manual_seed(42)\n",
        "np.random.seed(42)\n",
        "torch.backends.cudnn.deterministic = True\n",
        "torch.backends.cudnn.benchmark = False\n",
        "\n",
        "from tensorflow.examples.tutorials.mnist import input_data\n",
        "from sklearn.model_selection import StratifiedShuffleSplit\n",
        "from tqdm import tqdm_notebook\n",
        "\n",
        "\n",
        "mnist = input_data.read_data_sets(\"\", one_hot=True)"
      ],
      "execution_count": 1,
      "outputs": [
        {
          "output_type": "stream",
          "text": [
            "Requirement already satisfied: MulticoreTSNE in /usr/local/lib/python3.6/dist-packages (0.1)\n",
            "Requirement already satisfied: numpy in /usr/local/lib/python3.6/dist-packages (from MulticoreTSNE) (1.17.5)\n",
            "Requirement already satisfied: cffi in /usr/local/lib/python3.6/dist-packages (from MulticoreTSNE) (1.13.2)\n",
            "Requirement already satisfied: pycparser in /usr/local/lib/python3.6/dist-packages (from cffi->MulticoreTSNE) (2.19)\n"
          ],
          "name": "stdout"
        },
        {
          "output_type": "display_data",
          "data": {
            "text/html": [
              "<p style=\"color: red;\">\n",
              "The default version of TensorFlow in Colab will soon switch to TensorFlow 2.x.<br>\n",
              "We recommend you <a href=\"https://www.tensorflow.org/guide/migrate\" target=\"_blank\">upgrade</a> now \n",
              "or ensure your notebook will continue to use TensorFlow 1.x via the <code>%tensorflow_version 1.x</code> magic:\n",
              "<a href=\"https://colab.research.google.com/notebooks/tensorflow_version.ipynb\" target=\"_blank\">more info</a>.</p>\n"
            ],
            "text/plain": [
              "<IPython.core.display.HTML object>"
            ]
          },
          "metadata": {
            "tags": []
          }
        },
        {
          "output_type": "stream",
          "text": [
            "WARNING:tensorflow:From <ipython-input-1-591d1b8b8321>:24: read_data_sets (from tensorflow.contrib.learn.python.learn.datasets.mnist) is deprecated and will be removed in a future version.\n",
            "Instructions for updating:\n",
            "Please use alternatives such as official/mnist/dataset.py from tensorflow/models.\n",
            "WARNING:tensorflow:From /usr/local/lib/python3.6/dist-packages/tensorflow_core/contrib/learn/python/learn/datasets/mnist.py:260: maybe_download (from tensorflow.contrib.learn.python.learn.datasets.base) is deprecated and will be removed in a future version.\n",
            "Instructions for updating:\n",
            "Please write your own downloading logic.\n",
            "WARNING:tensorflow:From /usr/local/lib/python3.6/dist-packages/tensorflow_core/contrib/learn/python/learn/datasets/mnist.py:262: extract_images (from tensorflow.contrib.learn.python.learn.datasets.mnist) is deprecated and will be removed in a future version.\n",
            "Instructions for updating:\n",
            "Please use tf.data to implement this functionality.\n",
            "Extracting train-images-idx3-ubyte.gz\n",
            "WARNING:tensorflow:From /usr/local/lib/python3.6/dist-packages/tensorflow_core/contrib/learn/python/learn/datasets/mnist.py:267: extract_labels (from tensorflow.contrib.learn.python.learn.datasets.mnist) is deprecated and will be removed in a future version.\n",
            "Instructions for updating:\n",
            "Please use tf.data to implement this functionality.\n",
            "Extracting train-labels-idx1-ubyte.gz\n",
            "WARNING:tensorflow:From /usr/local/lib/python3.6/dist-packages/tensorflow_core/contrib/learn/python/learn/datasets/mnist.py:110: dense_to_one_hot (from tensorflow.contrib.learn.python.learn.datasets.mnist) is deprecated and will be removed in a future version.\n",
            "Instructions for updating:\n",
            "Please use tf.one_hot on tensors.\n",
            "Extracting t10k-images-idx3-ubyte.gz\n",
            "Extracting t10k-labels-idx1-ubyte.gz\n",
            "WARNING:tensorflow:From /usr/local/lib/python3.6/dist-packages/tensorflow_core/contrib/learn/python/learn/datasets/mnist.py:290: DataSet.__init__ (from tensorflow.contrib.learn.python.learn.datasets.mnist) is deprecated and will be removed in a future version.\n",
            "Instructions for updating:\n",
            "Please use alternatives such as official/mnist/dataset.py from tensorflow/models.\n"
          ],
          "name": "stdout"
        }
      ]
    },
    {
      "cell_type": "code",
      "metadata": {
        "id": "uWVCadRNtAOV",
        "colab_type": "code",
        "colab": {}
      },
      "source": [
        "##### Define hyper-parameters #####\n",
        "\n",
        "# Dropout parameters\n",
        "dropoutRate_0 = 0.\n",
        "dropoutRate_1 = 0.5 #ref\n",
        "\n",
        "# NN parameters\n",
        "inputN = 784\n",
        "hiddenN = 392\n",
        "hiddenN2 = 256\n",
        "hiddenN3 = 128\n",
        "outputN = 10\n",
        "\n",
        "\n",
        "# iteraction parameters\n",
        "num_labelled = 100\n",
        "trainingEpochs = 200\n",
        "PLtrainingEpochs = 500\n",
        "train_BS = 32 # ref\n",
        "unlabel_BS = 256 #ref \n",
        "\n",
        "# balancing coefficient\n",
        "T1 = 200 #ref\n",
        "T2 = 800 #ref\n",
        "a = 0. #ref\n",
        "af = 3. #ref\n",
        "\n",
        "# SGD with dynamic momentum\n",
        "learningRate = 1.5 # ref\n",
        "T = 500 #ref\n",
        "k = 0.998 #ref\n",
        "pi = 0.5 #ref\n",
        "pf = 0.99 #ref\n",
        "\n",
        "# DAE\n",
        "corruption_proba = 0.5\n",
        "\n",
        "# loading data\n",
        "x_test = mnist.test.images\n",
        "y_test = mnist.test.labels\n",
        "x_trainall = mnist.train.images\n",
        "y_trainall = mnist.train.labels\n",
        "\n",
        "x_trainall = torch.from_numpy(x_trainall).type(torch.FloatTensor)\n",
        "y_trainall = torch.from_numpy(y_trainall).type(torch.FloatTensor)\n",
        "trainall = torch.utils.data.TensorDataset(x_trainall, y_trainall)\n",
        "trainall_loader = torch.utils.data.DataLoader(trainall, batch_size = 1000, shuffle = True, num_workers = 8)"
      ],
      "execution_count": 0,
      "outputs": []
    },
    {
      "cell_type": "code",
      "metadata": {
        "id": "Uk4eXForbo64",
        "colab_type": "code",
        "colab": {}
      },
      "source": [
        "##### Create noisy observation ####\n",
        "def making_noise(x, prob):\n",
        "  if type(x) == np.ndarray :\n",
        "    x = torch.from_numpy(x).type(torch.FloatTensor)\n",
        "  dim1, dim2 = x.shape\n",
        "  corrupted_factor = np.concatenate([np.zeros([dim1, int(dim2*prob)]), np.ones([dim1, dim2- int(dim2*prob)])], axis = 1)\n",
        "  np.apply_along_axis(np.random.shuffle,1,corrupted_factor)\n",
        "  return x*torch.from_numpy(corrupted_factor).type(torch.FloatTensor)"
      ],
      "execution_count": 0,
      "outputs": []
    },
    {
      "cell_type": "code",
      "metadata": {
        "id": "pzxQuF7MWgh9",
        "colab_type": "code",
        "colab": {}
      },
      "source": [
        "class ConvDenoiser(nn.Module):\n",
        "      def __init__(self):\n",
        "        super(ConvDenoiser, self).__init__()\n",
        "        ## encode layer ##\n",
        "        self.fc1 = nn.Linear(784,1000)\n",
        "        ## decode layer\n",
        "        self.fc2 = nn.Linear(1000,784)\n",
        "\n",
        "      def forward(self, x):\n",
        "        x = F.tanh(self.fc1(x))\n",
        "        x = F.sigmoid(self.fc2(x))\n",
        "        return x"
      ],
      "execution_count": 0,
      "outputs": []
    },
    {
      "cell_type": "markdown",
      "metadata": {
        "id": "6cUtMgHgJtko",
        "colab_type": "text"
      },
      "source": [
        ""
      ]
    },
    {
      "cell_type": "code",
      "metadata": {
        "id": "_nrsnvxxml_R",
        "colab_type": "code",
        "colab": {}
      },
      "source": [
        "def DAE(model, train_loader):\n",
        " \n",
        "    optimizer = torch.optim.Adam(model.parameters(), lr=0.01)\n",
        "    n_epochs = 100\n",
        "    begin = time.time()\n",
        "    for epoch in tqdm_notebook(range(n_epochs)):\n",
        "        # monitor training loss\n",
        "        train_loss = 0.0\n",
        "        for X_batch,_ in train_loader :\n",
        "            \n",
        "            X_batch_noise = making_noise(X_batch, corruption_proba)\n",
        "                    \n",
        "            optimizer.zero_grad()\n",
        "            outputs = model(X_batch_noise)\n",
        "            # calculate the loss\n",
        "            # the \"target\" is still the original, not-noisy images\n",
        "            loss = F.binary_cross_entropy(outputs, X_batch)\n",
        "            loss.backward()\n",
        "            optimizer.step()\n",
        "            train_loss += loss.item()*X_batch.size(0)\n",
        "        if (epoch+1)% 10 == 0 or epoch ==0:\n",
        "            train_loss = train_loss/len(train_loader)\n",
        "            print('Epoch: {} : Time = {:.2f} | Train Loss = {:.3f}'.\n",
        "                  format(epoch+1, time.time() - begin,train_loss))"
      ],
      "execution_count": 0,
      "outputs": []
    },
    {
      "cell_type": "code",
      "metadata": {
        "id": "7s4Phy0uml9o",
        "colab_type": "code",
        "outputId": "fde7c19e-e446-4735-fb01-6e172dc16133",
        "colab": {
          "base_uri": "https://localhost:8080/",
          "height": 318,
          "referenced_widgets": [
            "aa236440eecf42ea83c6d5729a783171",
            "4f9aac691a3a43a2898c39e9960afffb",
            "e4ed50c5e04148fdad6a54e67501d477",
            "12ed6fdad4eb49c2bbb9578007501d2e",
            "d38d4509df444a7baf6ff4ef6ba2a4be",
            "8507f92ae40241109a61ff165a4f52db",
            "e0f776208cf943a398029da6f1c7bcbb",
            "52a08591102645878db30506aff23cd5"
          ]
        }
      },
      "source": [
        "DAE_model = ConvDenoiser()\n",
        "DAE(DAE_model, trainall_loader)"
      ],
      "execution_count": 6,
      "outputs": [
        {
          "output_type": "display_data",
          "data": {
            "application/vnd.jupyter.widget-view+json": {
              "model_id": "aa236440eecf42ea83c6d5729a783171",
              "version_minor": 0,
              "version_major": 2
            },
            "text/plain": [
              "HBox(children=(IntProgress(value=0), HTML(value='')))"
            ]
          },
          "metadata": {
            "tags": []
          }
        },
        {
          "output_type": "stream",
          "text": [
            "/usr/local/lib/python3.6/dist-packages/torch/nn/functional.py:1340: UserWarning: nn.functional.tanh is deprecated. Use torch.tanh instead.\n",
            "  warnings.warn(\"nn.functional.tanh is deprecated. Use torch.tanh instead.\")\n",
            "/usr/local/lib/python3.6/dist-packages/torch/nn/functional.py:1351: UserWarning: nn.functional.sigmoid is deprecated. Use torch.sigmoid instead.\n",
            "  warnings.warn(\"nn.functional.sigmoid is deprecated. Use torch.sigmoid instead.\")\n"
          ],
          "name": "stderr"
        },
        {
          "output_type": "stream",
          "text": [
            "Epoch: 1 : Time = 10.91 | Train Loss = 235.039\n",
            "Epoch: 10 : Time = 107.60 | Train Loss = 98.612\n",
            "Epoch: 20 : Time = 214.77 | Train Loss = 92.467\n",
            "Epoch: 30 : Time = 321.20 | Train Loss = 90.824\n",
            "Epoch: 40 : Time = 429.69 | Train Loss = 90.145\n",
            "Epoch: 50 : Time = 538.22 | Train Loss = 89.487\n",
            "Epoch: 60 : Time = 647.76 | Train Loss = 89.363\n",
            "Epoch: 70 : Time = 758.32 | Train Loss = 88.926\n",
            "Epoch: 80 : Time = 867.68 | Train Loss = 88.755\n",
            "Epoch: 90 : Time = 975.81 | Train Loss = 88.695\n",
            "Epoch: 100 : Time = 1084.93 | Train Loss = 88.621\n",
            "\n"
          ],
          "name": "stdout"
        }
      ]
    },
    {
      "cell_type": "code",
      "metadata": {
        "id": "oQP7Ltq-r6aZ",
        "colab_type": "code",
        "outputId": "d0b260bc-0244-455b-f3ce-2bedc80d438d",
        "colab": {
          "base_uri": "https://localhost:8080/",
          "height": 280
        }
      },
      "source": [
        "x_test_noise = making_noise(x_test[0:100], corruption_proba)\n",
        "x_test_DAE = DAE_model(x_test_noise)\n",
        "x_test_DAE = x_test_DAE.detach().numpy()\n",
        "x_test_noise = x_test_noise.numpy()\n",
        "f, a = plt.subplots(3, 10, figsize=(10, 3))\n",
        "plt.axis('off')\n",
        "for i in range(10):\n",
        "    a[0][i].imshow(np.reshape(x_test[i], (28, 28)), cmap='Greys',  interpolation='nearest')\n",
        "    a[1][i].imshow(x_test_noise[i].reshape(28, 28), cmap='Greys',  interpolation='nearest')\n",
        "    a[2][i].imshow(x_test_DAE[i].reshape(28, 28), cmap='Greys',  interpolation='nearest')\n",
        "plt.show()\n"
      ],
      "execution_count": 7,
      "outputs": [
        {
          "output_type": "stream",
          "text": [
            "/usr/local/lib/python3.6/dist-packages/torch/nn/functional.py:1340: UserWarning: nn.functional.tanh is deprecated. Use torch.tanh instead.\n",
            "  warnings.warn(\"nn.functional.tanh is deprecated. Use torch.tanh instead.\")\n",
            "/usr/local/lib/python3.6/dist-packages/torch/nn/functional.py:1351: UserWarning: nn.functional.sigmoid is deprecated. Use torch.sigmoid instead.\n",
            "  warnings.warn(\"nn.functional.sigmoid is deprecated. Use torch.sigmoid instead.\")\n"
          ],
          "name": "stderr"
        },
        {
          "output_type": "display_data",
          "data": {
            "image/png": "[encoded data removed]",
            "text/plain": [
              "<Figure size 720x216 with 30 Axes>"
            ]
          },
          "metadata": {
            "tags": []
          }
        }
      ]
    },
    {
      "cell_type": "code",
      "metadata": {
        "id": "gu_0-uKZml5p",
        "colab_type": "code",
        "colab": {}
      },
      "source": [
        "def autoencoder_data(tensor_data):\n",
        "  return DAE_model(making_noise(tensor_data, corruption_proba))\n"
      ],
      "execution_count": 0,
      "outputs": []
    },
    {
      "cell_type": "code",
      "metadata": {
        "id": "C_R3AWdSmlxu",
        "colab_type": "code",
        "outputId": "49753ec2-82b6-473a-f022-d965ae4d479e",
        "colab": {
          "base_uri": "https://localhost:8080/",
          "height": 101
        }
      },
      "source": [
        "x_test = autoencoder_data(x_test)\n",
        "y_test = mnist.test.labels\n",
        "test_BS = len(x_test)// (num_labelled//train_BS)\n",
        "\n",
        "y_test = torch.from_numpy(y_test.argmax(1)).type(torch.LongTensor) \n",
        "test = torch.utils.data.TensorDataset(x_test, y_test)\n",
        "test_loader = torch.utils.data.DataLoader(test, batch_size = test_BS, shuffle = True, num_workers = 8)\n",
        "\n",
        "del x_test, y_test, x_trainall, y_trainall, trainall, trainall_loader\n",
        "gc.collect()"
      ],
      "execution_count": 9,
      "outputs": [
        {
          "output_type": "stream",
          "text": [
            "/usr/local/lib/python3.6/dist-packages/torch/nn/functional.py:1340: UserWarning: nn.functional.tanh is deprecated. Use torch.tanh instead.\n",
            "  warnings.warn(\"nn.functional.tanh is deprecated. Use torch.tanh instead.\")\n",
            "/usr/local/lib/python3.6/dist-packages/torch/nn/functional.py:1351: UserWarning: nn.functional.sigmoid is deprecated. Use torch.sigmoid instead.\n",
            "  warnings.warn(\"nn.functional.sigmoid is deprecated. Use torch.sigmoid instead.\")\n"
          ],
          "name": "stderr"
        },
        {
          "output_type": "execute_result",
          "data": {
            "text/plain": [
              "153"
            ]
          },
          "metadata": {
            "tags": []
          },
          "execution_count": 9
        }
      ]
    },
    {
      "cell_type": "code",
      "metadata": {
        "id": "83o1b5H4mwUY",
        "colab_type": "code",
        "outputId": "4fa16dbe-a01e-4c21-e5e4-5019efbfd76b",
        "colab": {
          "base_uri": "https://localhost:8080/",
          "height": 216
        }
      },
      "source": [
        "def random_data_generator(nb_PLdata = False):\n",
        "  stratSplit = StratifiedShuffleSplit(test_size=100, n_splits=1)\n",
        "  stratSplit.get_n_splits(mnist.train.images, np.argmax(mnist.train.labels, axis = 1))\n",
        "  for train_index, test_index in stratSplit.split(X = mnist.train.images,y = mnist.train.labels):\n",
        "    x_train = mnist.train.images[test_index]\n",
        "    y_train = mnist.train.labels[test_index]\n",
        "    if nb_PLdata == False :\n",
        "      x_PL = mnist.train.images[train_index]\n",
        "    else:\n",
        "      x_PL = mnist.train.images[train_index][0:nb_PLdata]\n",
        "  return x_train, y_train, x_PL\n",
        "\n",
        "x_train_viewtest, y_train_viewtest, x_PL_viewtest = random_data_generator()\n",
        "print('Labeled data size :', x_train_viewtest.shape)\n",
        "print('Unlabeled data size :', x_PL_viewtest.shape)\n",
        "print('Proportion of class label in train data: ')\n",
        "\n",
        "print(pd.DataFrame(np.unique(np.argmax(y_train_viewtest,1), return_counts = True)).to_string())\n",
        "\n",
        "f, a = plt.subplots(1, 10, figsize=(10, 3))\n",
        "for i in range(10):\n",
        "    a[i].imshow(np.reshape(x_train_viewtest[i], (28, 28)), cmap='Greys',  interpolation='nearest')\n",
        "plt.show()\n",
        "\n",
        "print(y_train_viewtest[0:10].argmax(1))"
      ],
      "execution_count": 10,
      "outputs": [
        {
          "output_type": "stream",
          "text": [
            "Labeled data size : (100, 784)\n",
            "Unlabeled data size : (54900, 784)\n",
            "Proportion of class label in train data: \n",
            "    0   1   2   3   4  5   6   7   8   9\n",
            "0   0   1   2   3   4  5   6   7   8   9\n",
            "1  10  11  10  10  10  9  10  10  10  10\n"
          ],
          "name": "stdout"
        },
        {
          "output_type": "display_data",
          "data": {
            "image/png": "[encoded data removed]",
            "text/plain": [
              "<Figure size 720x216 with 10 Axes>"
            ]
          },
          "metadata": {
            "tags": []
          }
        },
        {
          "output_type": "stream",
          "text": [
            "[6 2 3 0 3 4 1 0 1 2]\n"
          ],
          "name": "stdout"
        }
      ]
    },
    {
      "cell_type": "code",
      "metadata": {
        "id": "KX5IlKj1ti85",
        "colab_type": "code",
        "colab": {}
      },
      "source": [
        "def data_build(nb_PLdata = False):\n",
        "  x_train, y_train, x_PL = random_data_generator(nb_PLdata)\n",
        "  x_train = torch.from_numpy(x_train).type(torch.FloatTensor)\n",
        "  y_train = torch.from_numpy(y_train.argmax(1)).type(torch.LongTensor) \n",
        "\n",
        "  x_PL = torch.from_numpy(x_PL).type(torch.FloatTensor)\n",
        "\n",
        "  train = torch.utils.data.TensorDataset(x_train, y_train)\n",
        "  train_loader = torch.utils.data.DataLoader(train, batch_size = train_BS, shuffle = True, num_workers = 8)\n",
        "\n",
        "  unlabeled = torch.utils.data.TensorDataset(x_PL)\n",
        "  unlabeled_loader = torch.utils.data.DataLoader(unlabeled, batch_size = unlabel_BS, shuffle = True, num_workers = 8)\n",
        "\n",
        "  return train_loader, unlabeled_loader"
      ],
      "execution_count": 0,
      "outputs": []
    },
    {
      "cell_type": "code",
      "metadata": {
        "Collapsed": "false",
        "id": "AuYdQcJcj6Fu",
        "colab_type": "code",
        "colab": {}
      },
      "source": [
        "class Net(nn.Module):\n",
        "        def __init__(self):\n",
        "            super(Net, self).__init__()\n",
        "    \n",
        "            self.fc1 = nn.Linear(inputN, hiddenN)\n",
        "            self.fc2 = nn.Linear(hiddenN, hiddenN2)\n",
        "            self.fc3 = nn.Linear(hiddenN2, hiddenN3)\n",
        "            self.fc4 = nn.Linear(hiddenN3, outputN)\n",
        "            self.log_softmax = nn.LogSoftmax(dim = 1)\n",
        "\n",
        "        def forward(self, x):\n",
        "            x = F.relu(self.fc1(x))\n",
        "            x = F.dropout(x, training=self.training)\n",
        "            x = F.relu(self.fc2(x))\n",
        "            x = F.dropout(x, training=self.training)\n",
        "            x = F.relu(self.fc3(x))\n",
        "            x = F.dropout(x, training=self.training)\n",
        "            x = F.relu(self.fc4(x))\n",
        "            x = self.log_softmax(x)\n",
        "            return x"
      ],
      "execution_count": 0,
      "outputs": []
    },
    {
      "cell_type": "markdown",
      "metadata": {
        "Collapsed": "false",
        "id": "2cvfdyVhj6F3",
        "colab_type": "text"
      },
      "source": [
        "Now let's define a function to evaluate the network and get loss and accuracy values. "
      ]
    },
    {
      "cell_type": "code",
      "metadata": {
        "Collapsed": "false",
        "id": "wCvmeOTqj6F7",
        "colab_type": "code",
        "colab": {}
      },
      "source": [
        "def evaluate(model, test_loader):\n",
        "    model.eval()\n",
        "    correct = 0 \n",
        "    loss = 0\n",
        "    with torch.no_grad():\n",
        "        for data, labels in test_loader:\n",
        "            data = data.cuda()\n",
        "            output = model(data)\n",
        "            predicted = torch.max(output,1)[1]\n",
        "            correct += (predicted == labels.cuda()).sum()\n",
        "            loss += F.nll_loss(output, labels.cuda()).item()\n",
        "\n",
        "    return (float(correct)/len(test)) *100, (loss/len(test_loader))"
      ],
      "execution_count": 0,
      "outputs": []
    },
    {
      "cell_type": "markdown",
      "metadata": {
        "Collapsed": "false",
        "id": "9asmPXfJj6GD",
        "colab_type": "text"
      },
      "source": [
        "First, let's train the model on the labeled set for 300 epochs"
      ]
    },
    {
      "cell_type": "code",
      "metadata": {
        "Collapsed": "false",
        "id": "CcQG6ZuVj6GG",
        "colab_type": "code",
        "colab": {}
      },
      "source": [
        "def train_supervised(model, train_loader, test_loader, verbose_step = 10):\n",
        "    test_acc_list = []\n",
        "    test_loss_list = []\n",
        "    optimizer = torch.optim.SGD( model.parameters(), lr = 0.1)\n",
        "    model.train()\n",
        "    begin = time.time()\n",
        "    for epoch in tqdm_notebook(range(trainingEpochs)):\n",
        "        correct = 0\n",
        "        running_loss = 0\n",
        "        for batch_idx, (X_batch, y_batch) in enumerate(train_loader):\n",
        "            X_batch, y_batch = autoencoder_data(X_batch).cuda(), y_batch.cuda()\n",
        "            \n",
        "            output = model(X_batch)\n",
        "            labeled_loss = F.cross_entropy(output, y_batch)\n",
        "                       \n",
        "            optimizer.zero_grad()\n",
        "            labeled_loss.backward()\n",
        "            optimizer.step()\n",
        "            running_loss += labeled_loss.item()\n",
        "        \n",
        "        if (epoch+1) %verbose_step == 0 or epoch ==0:\n",
        "            test_acc, test_loss = evaluate(model, test_loader)\n",
        "            test_acc_list.append(test_acc)\n",
        "            test_loss_list.append(test_loss)\n",
        "            print('Epoch: {} : Time = {:.2f} | Train Loss = {:.3f} | Test Acc = {:.3f} | Test Loss= {:.3f} '.\n",
        "                  format(epoch+1,time.time()-begin, running_loss/(10 * num_labelled), test_acc, test_loss))\n",
        "            model.train()\n",
        "    return test_acc_list, test_loss_list    "
      ],
      "execution_count": 0,
      "outputs": []
    },
    {
      "cell_type": "code",
      "metadata": {
        "Collapsed": "false",
        "id": "fLlyWPC0j6Gn",
        "colab_type": "code",
        "colab": {}
      },
      "source": [
        "def alpha_weight(epoch):\n",
        "    if epoch < T1:\n",
        "        return 0.0\n",
        "    elif epoch > T2:\n",
        "        return af\n",
        "    else:\n",
        "         return ((epoch-T1) / (T2-T1))*af"
      ],
      "execution_count": 0,
      "outputs": []
    },
    {
      "cell_type": "code",
      "metadata": {
        "Collapsed": "false",
        "id": "_9XslnBPj6Gz",
        "colab_type": "code",
        "colab": {}
      },
      "source": [
        "def semisup_train(model, train_loader, unlabeled_loader, test_loader, verbose_step = 10):\n",
        "    alpha_list = []\n",
        "    test_acc_list = []\n",
        "    test_loss_list = []\n",
        "    begin = time.time()\n",
        "    optimizer = torch.optim.SGD(model.parameters(), lr = 0.1,)\n",
        "    \n",
        "    # Instead of using current epoch we use a \"step\" variable to calculate alpha_weight\n",
        "    # This helps the model converge faster\n",
        "    step = 0 \n",
        "\n",
        "    model.train()\n",
        "    for epoch in tqdm_notebook(range(PLtrainingEpochs)):\n",
        "        for batch_idx, x_unlabeled in enumerate(unlabeled_loader):\n",
        "            \n",
        "            \n",
        "            # Forward Pass to get the pseudo labels\n",
        "            x_unlabeled = autoencoder_data(x_unlabeled[0]).cuda()\n",
        "            model.eval()\n",
        "            output_unlabeled = model(x_unlabeled)\n",
        "            _, pseudo_labeled = torch.max(output_unlabeled, 1)\n",
        "            model.train()\n",
        "            \n",
        "            # Now calculate the unlabeled loss using the pseudo label\n",
        "            output = model(x_unlabeled)\n",
        "            unlabeled_loss = alpha_weight(step) * F.cross_entropy(output, pseudo_labeled)   \n",
        "            \n",
        "            # Backpropogate\n",
        "            optimizer.zero_grad()\n",
        "            unlabeled_loss.backward()\n",
        "            optimizer.step()\n",
        "\n",
        "            # For every 50 unlabeled batches train one epoch on labeled data \n",
        "            if batch_idx % 50 == 0:\n",
        "              for batch_idx, (X_batch, y_batch) in enumerate(train_loader):\n",
        "                  X_batch = autoencoder_data(X_batch).cuda()\n",
        "                  y_batch = y_batch.cuda()\n",
        "                  output = model(X_batch)\n",
        "                  labeled_loss = F.cross_entropy(output, y_batch)\n",
        "\n",
        "                  optimizer.zero_grad()\n",
        "                  labeled_loss.backward()\n",
        "                  optimizer.step()\n",
        "                \n",
        "              # Now we increment step by 1\n",
        "              step += 1\n",
        "                \n",
        "        if (epoch+1) %verbose_step == 0 or epoch ==0:  \n",
        "            test_acc, test_loss =evaluate(model, test_loader)\n",
        "            print('Epoch: {} : Time = {:.2f} | Alpha Weight = {:.3f} | Test Acc = {:.3f} | Test Loss = {:.3f} '.\n",
        "                  format(epoch+1, time.time()- begin, alpha_weight(step), test_acc, test_loss))\n",
        "        \n",
        "            \"\"\" LOGGING VALUES \"\"\"\n",
        "            alpha_list.append(alpha_weight(step))\n",
        "            test_acc_list.append(test_acc)\n",
        "            test_loss_list.append(test_loss)\n",
        "        \"\"\" ************** \"\"\"\n",
        "        model.train()\n",
        "    return alpha_list, test_acc_list, test_loss_list\n",
        " "
      ],
      "execution_count": 0,
      "outputs": []
    },
    {
      "cell_type": "code",
      "metadata": {
        "Collapsed": "false",
        "id": "f_zYEwLhj6G4",
        "colab_type": "code",
        "colab": {}
      },
      "source": [
        "def run_function(verbose_supervised = 20, verbose_unsupervised = 50) :\n",
        "    train_loader, unlabeled_loader = data_build()\n",
        "    print('===== Supervised training =====')\n",
        "    net = Net().cuda() \n",
        "    NN_acc, NN_loss = train_supervised(net, train_loader, test_loader, verbose_supervised)\n",
        "\n",
        "    print('===== Semi-supervised training =====')\n",
        "\n",
        "    net = Net().cuda()\n",
        "    alpha_list, PL_acc, PL_loss = semisup_train(net, train_loader, unlabeled_loader, test_loader, verbose_unsupervised)\n",
        "\n",
        "    print('===== Conclusion =====')\n",
        "    print('Supervised accuracy = ', NN_acc[-1])\n",
        "    print('+PL accuracy = ', PL_acc[-1])\n",
        "    return NN_acc, NN_loss, alpha_list, PL_acc, PL_loss"
      ],
      "execution_count": 0,
      "outputs": []
    },
    {
      "cell_type": "code",
      "metadata": {
        "id": "BIrLjhEnHcm1",
        "colab_type": "code",
        "outputId": "b62872c2-e2be-4fa9-e3a5-7c23efc85b11",
        "colab": {
          "base_uri": "https://localhost:8080/",
          "height": 602,
          "referenced_widgets": [
            "307582819d02419bbe348506f60a8c6b",
            "3cbc2224d4414ec3bc88b66e45e9739a",
            "daa4d0b5ed174b21979d7af34146d711",
            "ce998c915bde4650836d50c40b18850e",
            "1b60ef9936ea4e8092e10bda156067f6",
            "4b4f9e3ed105475a9f0bd73c11546806",
            "2f8977f71bbf4f8eaf77ad9483b619cf",
            "4ab9b04832d3499a8678f30a1316f55c",
            "76dbeef018af44b4aedc1de07c6c66b7",
            "72833b0f326e4a96b1c7bbc2c485fb23",
            "ee016dadd8ec47c8a678ef7b3d655c85",
            "bf1bcb8b7e76402c963e5de77e23fcb9",
            "77b28d49ab234d3288ca4361305b6f57",
            "ca97296a5a6f4485976431b4ac22f3f7",
            "807b1a7475bd48bcbf814d02b9bed45a",
            "d31151deaa594acdbd9b572df15a465a"
          ]
        }
      },
      "source": [
        "NN_acc, NN_loss, alpha_list, PL_acc, PL_loss = run_function()"
      ],
      "execution_count": 19,
      "outputs": [
        {
          "output_type": "stream",
          "text": [
            "===== Supervised training =====\n"
          ],
          "name": "stdout"
        },
        {
          "output_type": "display_data",
          "data": {
            "application/vnd.jupyter.widget-view+json": {
              "model_id": "307582819d02419bbe348506f60a8c6b",
              "version_minor": 0,
              "version_major": 2
            },
            "text/plain": [
              "HBox(children=(IntProgress(value=0, max=200), HTML(value='')))"
            ]
          },
          "metadata": {
            "tags": []
          }
        },
        {
          "output_type": "stream",
          "text": [
            "/usr/local/lib/python3.6/dist-packages/torch/nn/functional.py:1340: UserWarning: nn.functional.tanh is deprecated. Use torch.tanh instead.\n",
            "  warnings.warn(\"nn.functional.tanh is deprecated. Use torch.tanh instead.\")\n",
            "/usr/local/lib/python3.6/dist-packages/torch/nn/functional.py:1351: UserWarning: nn.functional.sigmoid is deprecated. Use torch.sigmoid instead.\n",
            "  warnings.warn(\"nn.functional.sigmoid is deprecated. Use torch.sigmoid instead.\")\n"
          ],
          "name": "stderr"
        },
        {
          "output_type": "stream",
          "text": [
            "Epoch: 1 : Time = 0.91 | Train Loss = 0.009 | Test Acc = 10.210 | Test Loss= 2.304 \n",
            "Epoch: 20 : Time = 8.59 | Train Loss = 0.009 | Test Acc = 27.090 | Test Loss= 2.275 \n",
            "Epoch: 40 : Time = 16.76 | Train Loss = 0.007 | Test Acc = 44.200 | Test Loss= 2.045 \n",
            "Epoch: 60 : Time = 25.02 | Train Loss = 0.005 | Test Acc = 53.520 | Test Loss= 1.821 \n",
            "Epoch: 80 : Time = 33.20 | Train Loss = 0.003 | Test Acc = 55.540 | Test Loss= 1.841 \n",
            "Epoch: 100 : Time = 41.35 | Train Loss = 0.002 | Test Acc = 74.430 | Test Loss= 0.633 \n",
            "Epoch: 120 : Time = 49.58 | Train Loss = 0.001 | Test Acc = 71.920 | Test Loss= 1.036 \n",
            "Epoch: 140 : Time = 57.76 | Train Loss = 0.000 | Test Acc = 77.590 | Test Loss= 1.070 \n",
            "Epoch: 160 : Time = 65.92 | Train Loss = 0.002 | Test Acc = 74.490 | Test Loss= 0.661 \n",
            "Epoch: 180 : Time = 74.12 | Train Loss = 0.000 | Test Acc = 77.630 | Test Loss= 1.478 \n",
            "Epoch: 200 : Time = 82.37 | Train Loss = 0.000 | Test Acc = 78.180 | Test Loss= 0.692 \n",
            "===== Semi-supervised training =====\n"
          ],
          "name": "stdout"
        },
        {
          "output_type": "display_data",
          "data": {
            "application/vnd.jupyter.widget-view+json": {
              "model_id": "76dbeef018af44b4aedc1de07c6c66b7",
              "version_minor": 0,
              "version_major": 2
            },
            "text/plain": [
              "HBox(children=(IntProgress(value=0, max=500), HTML(value='')))"
            ]
          },
          "metadata": {
            "tags": []
          }
        },
        {
          "output_type": "stream",
          "text": [
            "Epoch: 1 : Time = 12.04 | Alpha Weight = 0.000 | Test Acc = 20.860 | Test Loss = 2.307 \n",
            "Epoch: 50 : Time = 593.08 | Alpha Weight = 0.250 | Test Acc = 82.630 | Test Loss = 0.664 \n",
            "Epoch: 100 : Time = 1219.07 | Alpha Weight = 1.500 | Test Acc = 84.240 | Test Loss = 1.059 \n",
            "Epoch: 150 : Time = 1889.92 | Alpha Weight = 2.750 | Test Acc = 80.560 | Test Loss = 1.688 \n",
            "Epoch: 200 : Time = 2559.57 | Alpha Weight = 3.000 | Test Acc = 75.310 | Test Loss = 1.883 \n",
            "Epoch: 250 : Time = 3247.90 | Alpha Weight = 3.000 | Test Acc = 69.360 | Test Loss = 1.928 \n",
            "Epoch: 300 : Time = 3980.51 | Alpha Weight = 3.000 | Test Acc = 42.730 | Test Loss = 10.640 \n",
            "Epoch: 350 : Time = 4762.97 | Alpha Weight = 3.000 | Test Acc = 19.340 | Test Loss = 4.705 \n",
            "Epoch: 400 : Time = 5641.96 | Alpha Weight = 3.000 | Test Acc = 27.910 | Test Loss = 4.578 \n",
            "Epoch: 450 : Time = 6697.05 | Alpha Weight = 3.000 | Test Acc = 20.540 | Test Loss = 7.437 \n",
            "Epoch: 500 : Time = 7481.99 | Alpha Weight = 3.000 | Test Acc = 20.830 | Test Loss = 7.036 \n",
            "===== Conclusion =====\n",
            "Supervised accuracy =  78.18\n",
            "+PL accuracy =  20.830000000000002\n"
          ],
          "name": "stdout"
        }
      ]
    },
    {
      "cell_type": "code",
      "metadata": {
        "id": "gFh83nbPQ89z",
        "colab_type": "code",
        "colab": {
          "base_uri": "https://localhost:8080/",
          "height": 282
        },
        "outputId": "4dcef181-c91f-433e-f23c-f51ebf3cc8e1"
      },
      "source": [
        "plt.clf()\n",
        "plt.plot(np.append(1,np.arange(20,201,20)), NN_acc)\n",
        "plt.plot(np.append(1,np.arange(50,501,50)), PL_acc)"
      ],
      "execution_count": 20,
      "outputs": [
        {
          "output_type": "execute_result",
          "data": {
            "text/plain": [
              "[<matplotlib.lines.Line2D at 0x7f89862a06d8>]"
            ]
          },
          "metadata": {
            "tags": []
          },
          "execution_count": 20
        },
        {
          "output_type": "display_data",
          "data": {
            "image/png": "[encoded data removed]",
            "text/plain": [
              "<Figure size 432x288 with 1 Axes>"
            ]
          },
          "metadata": {
            "tags": []
          }
        }
      ]
    },
    {
      "cell_type": "code",
      "metadata": {
        "id": "ex9VG3oURgmp",
        "colab_type": "code",
        "colab": {
          "base_uri": "https://localhost:8080/",
          "height": 282
        },
        "outputId": "cb008a8b-2192-4af7-b842-cced03ee5d08"
      },
      "source": [
        "plt.clf()\n",
        "plt.plot(np.append(1,np.arange(20,201,20)), NN_loss)\n",
        "plt.plot(np.append(1,np.arange(50,501,50)), PL_loss)"
      ],
      "execution_count": 21,
      "outputs": [
        {
          "output_type": "execute_result",
          "data": {
            "text/plain": [
              "[<matplotlib.lines.Line2D at 0x7f8986632518>]"
            ]
          },
          "metadata": {
            "tags": []
          },
          "execution_count": 21
        },
        {
          "output_type": "display_data",
          "data": {
            "image/png": "[encoded data removed]",
            "text/plain": [
              "<Figure size 432x288 with 1 Axes>"
            ]
          },
          "metadata": {
            "tags": []
          }
        }
      ]
    }
  ]
}