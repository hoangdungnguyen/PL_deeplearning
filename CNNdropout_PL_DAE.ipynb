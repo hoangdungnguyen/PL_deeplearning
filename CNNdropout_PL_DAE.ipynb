{
  "nbformat": 4,
  "nbformat_minor": 0,
  "metadata": {
    "kernelspec": {
      "name": "python3",
      "display_name": "Python 3"
    },
    "language_info": {
      "codemirror_mode": {
        "name": "ipython",
        "version": 3
      },
      "file_extension": ".py",
      "mimetype": "text/x-python",
      "name": "python",
      "nbconvert_exporter": "python",
      "pygments_lexer": "ipython3",
      "version": "3.7.3"
    },
    "colab": {
      "name": "CNNdropout_PL_DAE.ipynb",
      "provenance": [],
      "collapsed_sections": [],
      "include_colab_link": true
    },
    "accelerator": "GPU",
    "widgets": {
      "application/vnd.jupyter.widget-state+json": {
        "d4e7e44235b1424ba2a3f447280fcabd": {
          "model_module": "@jupyter-widgets/controls",
          "model_name": "HBoxModel",
          "state": {
            "_view_name": "HBoxView",
            "_dom_classes": [],
            "_model_name": "HBoxModel",
            "_view_module": "@jupyter-widgets/controls",
            "_model_module_version": "1.5.0",
            "_view_count": null,
            "_view_module_version": "1.5.0",
            "box_style": "",
            "layout": "IPY_MODEL_93ac5afc70cb4179ac661154f358331c",
            "_model_module": "@jupyter-widgets/controls",
            "children": [
              "IPY_MODEL_563e1a9e3ed94df186e9a229ae3e0af5",
              "IPY_MODEL_ce4440330e5a433db25054e51bf37e24"
            ]
          }
        },
        "93ac5afc70cb4179ac661154f358331c": {
          "model_module": "@jupyter-widgets/base",
          "model_name": "LayoutModel",
          "state": {
            "_view_name": "LayoutView",
            "grid_template_rows": null,
            "right": null,
            "justify_content": null,
            "_view_module": "@jupyter-widgets/base",
            "overflow": null,
            "_model_module_version": "1.2.0",
            "_view_count": null,
            "flex_flow": null,
            "width": null,
            "min_width": null,
            "border": null,
            "align_items": null,
            "bottom": null,
            "_model_module": "@jupyter-widgets/base",
            "top": null,
            "grid_column": null,
            "overflow_y": null,
            "overflow_x": null,
            "grid_auto_flow": null,
            "grid_area": null,
            "grid_template_columns": null,
            "flex": null,
            "_model_name": "LayoutModel",
            "justify_items": null,
            "grid_row": null,
            "max_height": null,
            "align_content": null,
            "visibility": null,
            "align_self": null,
            "height": null,
            "min_height": null,
            "padding": null,
            "grid_auto_rows": null,
            "grid_gap": null,
            "max_width": null,
            "order": null,
            "_view_module_version": "1.2.0",
            "grid_template_areas": null,
            "object_position": null,
            "object_fit": null,
            "grid_auto_columns": null,
            "margin": null,
            "display": null,
            "left": null
          }
        },
        "563e1a9e3ed94df186e9a229ae3e0af5": {
          "model_module": "@jupyter-widgets/controls",
          "model_name": "IntProgressModel",
          "state": {
            "_view_name": "ProgressView",
            "style": "IPY_MODEL_18ffeb6cc0c84964b6de60b6812acebf",
            "_dom_classes": [],
            "description": "",
            "_model_name": "IntProgressModel",
            "bar_style": "success",
            "max": 100,
            "_view_module": "@jupyter-widgets/controls",
            "_model_module_version": "1.5.0",
            "value": 100,
            "_view_count": null,
            "_view_module_version": "1.5.0",
            "orientation": "horizontal",
            "min": 0,
            "description_tooltip": null,
            "_model_module": "@jupyter-widgets/controls",
            "layout": "IPY_MODEL_522b1de2732848bb85bef6824929319d"
          }
        },
        "ce4440330e5a433db25054e51bf37e24": {
          "model_module": "@jupyter-widgets/controls",
          "model_name": "HTMLModel",
          "state": {
            "_view_name": "HTMLView",
            "style": "IPY_MODEL_a6d87c21de174d5f98ab8fb68a866b82",
            "_dom_classes": [],
            "description": "",
            "_model_name": "HTMLModel",
            "placeholder": "​",
            "_view_module": "@jupyter-widgets/controls",
            "_model_module_version": "1.5.0",
            "value": "100% 100/100 [16:46&lt;00:00, 10.08s/it]",
            "_view_count": null,
            "_view_module_version": "1.5.0",
            "description_tooltip": null,
            "_model_module": "@jupyter-widgets/controls",
            "layout": "IPY_MODEL_e579ea3643d048d49a3ff0e0ed2bdb92"
          }
        },
        "18ffeb6cc0c84964b6de60b6812acebf": {
          "model_module": "@jupyter-widgets/controls",
          "model_name": "ProgressStyleModel",
          "state": {
            "_view_name": "StyleView",
            "_model_name": "ProgressStyleModel",
            "description_width": "",
            "_view_module": "@jupyter-widgets/base",
            "_model_module_version": "1.5.0",
            "_view_count": null,
            "_view_module_version": "1.2.0",
            "bar_color": null,
            "_model_module": "@jupyter-widgets/controls"
          }
        },
        "522b1de2732848bb85bef6824929319d": {
          "model_module": "@jupyter-widgets/base",
          "model_name": "LayoutModel",
          "state": {
            "_view_name": "LayoutView",
            "grid_template_rows": null,
            "right": null,
            "justify_content": null,
            "_view_module": "@jupyter-widgets/base",
            "overflow": null,
            "_model_module_version": "1.2.0",
            "_view_count": null,
            "flex_flow": null,
            "width": null,
            "min_width": null,
            "border": null,
            "align_items": null,
            "bottom": null,
            "_model_module": "@jupyter-widgets/base",
            "top": null,
            "grid_column": null,
            "overflow_y": null,
            "overflow_x": null,
            "grid_auto_flow": null,
            "grid_area": null,
            "grid_template_columns": null,
            "flex": null,
            "_model_name": "LayoutModel",
            "justify_items": null,
            "grid_row": null,
            "max_height": null,
            "align_content": null,
            "visibility": null,
            "align_self": null,
            "height": null,
            "min_height": null,
            "padding": null,
            "grid_auto_rows": null,
            "grid_gap": null,
            "max_width": null,
            "order": null,
            "_view_module_version": "1.2.0",
            "grid_template_areas": null,
            "object_position": null,
            "object_fit": null,
            "grid_auto_columns": null,
            "margin": null,
            "display": null,
            "left": null
          }
        },
        "a6d87c21de174d5f98ab8fb68a866b82": {
          "model_module": "@jupyter-widgets/controls",
          "model_name": "DescriptionStyleModel",
          "state": {
            "_view_name": "StyleView",
            "_model_name": "DescriptionStyleModel",
            "description_width": "",
            "_view_module": "@jupyter-widgets/base",
            "_model_module_version": "1.5.0",
            "_view_count": null,
            "_view_module_version": "1.2.0",
            "_model_module": "@jupyter-widgets/controls"
          }
        },
        "e579ea3643d048d49a3ff0e0ed2bdb92": {
          "model_module": "@jupyter-widgets/base",
          "model_name": "LayoutModel",
          "state": {
            "_view_name": "LayoutView",
            "grid_template_rows": null,
            "right": null,
            "justify_content": null,
            "_view_module": "@jupyter-widgets/base",
            "overflow": null,
            "_model_module_version": "1.2.0",
            "_view_count": null,
            "flex_flow": null,
            "width": null,
            "min_width": null,
            "border": null,
            "align_items": null,
            "bottom": null,
            "_model_module": "@jupyter-widgets/base",
            "top": null,
            "grid_column": null,
            "overflow_y": null,
            "overflow_x": null,
            "grid_auto_flow": null,
            "grid_area": null,
            "grid_template_columns": null,
            "flex": null,
            "_model_name": "LayoutModel",
            "justify_items": null,
            "grid_row": null,
            "max_height": null,
            "align_content": null,
            "visibility": null,
            "align_self": null,
            "height": null,
            "min_height": null,
            "padding": null,
            "grid_auto_rows": null,
            "grid_gap": null,
            "max_width": null,
            "order": null,
            "_view_module_version": "1.2.0",
            "grid_template_areas": null,
            "object_position": null,
            "object_fit": null,
            "grid_auto_columns": null,
            "margin": null,
            "display": null,
            "left": null
          }
        },
        "5d48ccab11a54a068e11739c6dbc1281": {
          "model_module": "@jupyter-widgets/controls",
          "model_name": "HBoxModel",
          "state": {
            "_view_name": "HBoxView",
            "_dom_classes": [],
            "_model_name": "HBoxModel",
            "_view_module": "@jupyter-widgets/controls",
            "_model_module_version": "1.5.0",
            "_view_count": null,
            "_view_module_version": "1.5.0",
            "box_style": "",
            "layout": "IPY_MODEL_923ae418608041fb9a71185f30b71861",
            "_model_module": "@jupyter-widgets/controls",
            "children": [
              "IPY_MODEL_e9db896682e24d74bc6693879789d103",
              "IPY_MODEL_56cbd4f5f7244755b86e354f4d2f801b"
            ]
          }
        },
        "923ae418608041fb9a71185f30b71861": {
          "model_module": "@jupyter-widgets/base",
          "model_name": "LayoutModel",
          "state": {
            "_view_name": "LayoutView",
            "grid_template_rows": null,
            "right": null,
            "justify_content": null,
            "_view_module": "@jupyter-widgets/base",
            "overflow": null,
            "_model_module_version": "1.2.0",
            "_view_count": null,
            "flex_flow": null,
            "width": null,
            "min_width": null,
            "border": null,
            "align_items": null,
            "bottom": null,
            "_model_module": "@jupyter-widgets/base",
            "top": null,
            "grid_column": null,
            "overflow_y": null,
            "overflow_x": null,
            "grid_auto_flow": null,
            "grid_area": null,
            "grid_template_columns": null,
            "flex": null,
            "_model_name": "LayoutModel",
            "justify_items": null,
            "grid_row": null,
            "max_height": null,
            "align_content": null,
            "visibility": null,
            "align_self": null,
            "height": null,
            "min_height": null,
            "padding": null,
            "grid_auto_rows": null,
            "grid_gap": null,
            "max_width": null,
            "order": null,
            "_view_module_version": "1.2.0",
            "grid_template_areas": null,
            "object_position": null,
            "object_fit": null,
            "grid_auto_columns": null,
            "margin": null,
            "display": null,
            "left": null
          }
        },
        "e9db896682e24d74bc6693879789d103": {
          "model_module": "@jupyter-widgets/controls",
          "model_name": "IntProgressModel",
          "state": {
            "_view_name": "ProgressView",
            "style": "IPY_MODEL_aa1a2ba57c78457db1e94be61a51ee71",
            "_dom_classes": [],
            "description": "",
            "_model_name": "IntProgressModel",
            "bar_style": "success",
            "max": 200,
            "_view_module": "@jupyter-widgets/controls",
            "_model_module_version": "1.5.0",
            "value": 200,
            "_view_count": null,
            "_view_module_version": "1.5.0",
            "orientation": "horizontal",
            "min": 0,
            "description_tooltip": null,
            "_model_module": "@jupyter-widgets/controls",
            "layout": "IPY_MODEL_c269fccf56774fa2b284f5e14c3c7736"
          }
        },
        "56cbd4f5f7244755b86e354f4d2f801b": {
          "model_module": "@jupyter-widgets/controls",
          "model_name": "HTMLModel",
          "state": {
            "_view_name": "HTMLView",
            "style": "IPY_MODEL_e883ba7b59c1463fa24b4aedd343dc55",
            "_dom_classes": [],
            "description": "",
            "_model_name": "HTMLModel",
            "placeholder": "​",
            "_view_module": "@jupyter-widgets/controls",
            "_model_module_version": "1.5.0",
            "value": "100% 200/200 [01:32&lt;00:00,  1.70it/s]",
            "_view_count": null,
            "_view_module_version": "1.5.0",
            "description_tooltip": null,
            "_model_module": "@jupyter-widgets/controls",
            "layout": "IPY_MODEL_1f13234d23e0455aa36f026054c1f894"
          }
        },
        "aa1a2ba57c78457db1e94be61a51ee71": {
          "model_module": "@jupyter-widgets/controls",
          "model_name": "ProgressStyleModel",
          "state": {
            "_view_name": "StyleView",
            "_model_name": "ProgressStyleModel",
            "description_width": "",
            "_view_module": "@jupyter-widgets/base",
            "_model_module_version": "1.5.0",
            "_view_count": null,
            "_view_module_version": "1.2.0",
            "bar_color": null,
            "_model_module": "@jupyter-widgets/controls"
          }
        },
        "c269fccf56774fa2b284f5e14c3c7736": {
          "model_module": "@jupyter-widgets/base",
          "model_name": "LayoutModel",
          "state": {
            "_view_name": "LayoutView",
            "grid_template_rows": null,
            "right": null,
            "justify_content": null,
            "_view_module": "@jupyter-widgets/base",
            "overflow": null,
            "_model_module_version": "1.2.0",
            "_view_count": null,
            "flex_flow": null,
            "width": null,
            "min_width": null,
            "border": null,
            "align_items": null,
            "bottom": null,
            "_model_module": "@jupyter-widgets/base",
            "top": null,
            "grid_column": null,
            "overflow_y": null,
            "overflow_x": null,
            "grid_auto_flow": null,
            "grid_area": null,
            "grid_template_columns": null,
            "flex": null,
            "_model_name": "LayoutModel",
            "justify_items": null,
            "grid_row": null,
            "max_height": null,
            "align_content": null,
            "visibility": null,
            "align_self": null,
            "height": null,
            "min_height": null,
            "padding": null,
            "grid_auto_rows": null,
            "grid_gap": null,
            "max_width": null,
            "order": null,
            "_view_module_version": "1.2.0",
            "grid_template_areas": null,
            "object_position": null,
            "object_fit": null,
            "grid_auto_columns": null,
            "margin": null,
            "display": null,
            "left": null
          }
        },
        "e883ba7b59c1463fa24b4aedd343dc55": {
          "model_module": "@jupyter-widgets/controls",
          "model_name": "DescriptionStyleModel",
          "state": {
            "_view_name": "StyleView",
            "_model_name": "DescriptionStyleModel",
            "description_width": "",
            "_view_module": "@jupyter-widgets/base",
            "_model_module_version": "1.5.0",
            "_view_count": null,
            "_view_module_version": "1.2.0",
            "_model_module": "@jupyter-widgets/controls"
          }
        },
        "1f13234d23e0455aa36f026054c1f894": {
          "model_module": "@jupyter-widgets/base",
          "model_name": "LayoutModel",
          "state": {
            "_view_name": "LayoutView",
            "grid_template_rows": null,
            "right": null,
            "justify_content": null,
            "_view_module": "@jupyter-widgets/base",
            "overflow": null,
            "_model_module_version": "1.2.0",
            "_view_count": null,
            "flex_flow": null,
            "width": null,
            "min_width": null,
            "border": null,
            "align_items": null,
            "bottom": null,
            "_model_module": "@jupyter-widgets/base",
            "top": null,
            "grid_column": null,
            "overflow_y": null,
            "overflow_x": null,
            "grid_auto_flow": null,
            "grid_area": null,
            "grid_template_columns": null,
            "flex": null,
            "_model_name": "LayoutModel",
            "justify_items": null,
            "grid_row": null,
            "max_height": null,
            "align_content": null,
            "visibility": null,
            "align_self": null,
            "height": null,
            "min_height": null,
            "padding": null,
            "grid_auto_rows": null,
            "grid_gap": null,
            "max_width": null,
            "order": null,
            "_view_module_version": "1.2.0",
            "grid_template_areas": null,
            "object_position": null,
            "object_fit": null,
            "grid_auto_columns": null,
            "margin": null,
            "display": null,
            "left": null
          }
        },
        "0e182709fd0b486ba314a9c587e4eeb1": {
          "model_module": "@jupyter-widgets/controls",
          "model_name": "HBoxModel",
          "state": {
            "_view_name": "HBoxView",
            "_dom_classes": [],
            "_model_name": "HBoxModel",
            "_view_module": "@jupyter-widgets/controls",
            "_model_module_version": "1.5.0",
            "_view_count": null,
            "_view_module_version": "1.5.0",
            "box_style": "",
            "layout": "IPY_MODEL_d4b081bfd4cd4a75b0f7fc35866a0b01",
            "_model_module": "@jupyter-widgets/controls",
            "children": [
              "IPY_MODEL_6d492b6356ee4c95a252046803b10d27",
              "IPY_MODEL_f04022641d3843b59ca758e0fdacc972"
            ]
          }
        },
        "d4b081bfd4cd4a75b0f7fc35866a0b01": {
          "model_module": "@jupyter-widgets/base",
          "model_name": "LayoutModel",
          "state": {
            "_view_name": "LayoutView",
            "grid_template_rows": null,
            "right": null,
            "justify_content": null,
            "_view_module": "@jupyter-widgets/base",
            "overflow": null,
            "_model_module_version": "1.2.0",
            "_view_count": null,
            "flex_flow": null,
            "width": null,
            "min_width": null,
            "border": null,
            "align_items": null,
            "bottom": null,
            "_model_module": "@jupyter-widgets/base",
            "top": null,
            "grid_column": null,
            "overflow_y": null,
            "overflow_x": null,
            "grid_auto_flow": null,
            "grid_area": null,
            "grid_template_columns": null,
            "flex": null,
            "_model_name": "LayoutModel",
            "justify_items": null,
            "grid_row": null,
            "max_height": null,
            "align_content": null,
            "visibility": null,
            "align_self": null,
            "height": null,
            "min_height": null,
            "padding": null,
            "grid_auto_rows": null,
            "grid_gap": null,
            "max_width": null,
            "order": null,
            "_view_module_version": "1.2.0",
            "grid_template_areas": null,
            "object_position": null,
            "object_fit": null,
            "grid_auto_columns": null,
            "margin": null,
            "display": null,
            "left": null
          }
        },
        "6d492b6356ee4c95a252046803b10d27": {
          "model_module": "@jupyter-widgets/controls",
          "model_name": "IntProgressModel",
          "state": {
            "_view_name": "ProgressView",
            "style": "IPY_MODEL_0bc0961815df498286b78e772138ddbd",
            "_dom_classes": [],
            "description": "",
            "_model_name": "IntProgressModel",
            "bar_style": "success",
            "max": 500,
            "_view_module": "@jupyter-widgets/controls",
            "_model_module_version": "1.5.0",
            "value": 500,
            "_view_count": null,
            "_view_module_version": "1.5.0",
            "orientation": "horizontal",
            "min": 0,
            "description_tooltip": null,
            "_model_module": "@jupyter-widgets/controls",
            "layout": "IPY_MODEL_47008eb97daf401e99c24163e9e4e9e2"
          }
        },
        "f04022641d3843b59ca758e0fdacc972": {
          "model_module": "@jupyter-widgets/controls",
          "model_name": "HTMLModel",
          "state": {
            "_view_name": "HTMLView",
            "style": "IPY_MODEL_d69da996393845d5958b36d13e128779",
            "_dom_classes": [],
            "description": "",
            "_model_name": "HTMLModel",
            "placeholder": "​",
            "_view_module": "@jupyter-widgets/controls",
            "_model_module_version": "1.5.0",
            "value": "100% 500/500 [1:45:38&lt;00:00, 12.77s/it]",
            "_view_count": null,
            "_view_module_version": "1.5.0",
            "description_tooltip": null,
            "_model_module": "@jupyter-widgets/controls",
            "layout": "IPY_MODEL_7f4040c97671480d969babfaacb1fa68"
          }
        },
        "0bc0961815df498286b78e772138ddbd": {
          "model_module": "@jupyter-widgets/controls",
          "model_name": "ProgressStyleModel",
          "state": {
            "_view_name": "StyleView",
            "_model_name": "ProgressStyleModel",
            "description_width": "",
            "_view_module": "@jupyter-widgets/base",
            "_model_module_version": "1.5.0",
            "_view_count": null,
            "_view_module_version": "1.2.0",
            "bar_color": null,
            "_model_module": "@jupyter-widgets/controls"
          }
        },
        "47008eb97daf401e99c24163e9e4e9e2": {
          "model_module": "@jupyter-widgets/base",
          "model_name": "LayoutModel",
          "state": {
            "_view_name": "LayoutView",
            "grid_template_rows": null,
            "right": null,
            "justify_content": null,
            "_view_module": "@jupyter-widgets/base",
            "overflow": null,
            "_model_module_version": "1.2.0",
            "_view_count": null,
            "flex_flow": null,
            "width": null,
            "min_width": null,
            "border": null,
            "align_items": null,
            "bottom": null,
            "_model_module": "@jupyter-widgets/base",
            "top": null,
            "grid_column": null,
            "overflow_y": null,
            "overflow_x": null,
            "grid_auto_flow": null,
            "grid_area": null,
            "grid_template_columns": null,
            "flex": null,
            "_model_name": "LayoutModel",
            "justify_items": null,
            "grid_row": null,
            "max_height": null,
            "align_content": null,
            "visibility": null,
            "align_self": null,
            "height": null,
            "min_height": null,
            "padding": null,
            "grid_auto_rows": null,
            "grid_gap": null,
            "max_width": null,
            "order": null,
            "_view_module_version": "1.2.0",
            "grid_template_areas": null,
            "object_position": null,
            "object_fit": null,
            "grid_auto_columns": null,
            "margin": null,
            "display": null,
            "left": null
          }
        },
        "d69da996393845d5958b36d13e128779": {
          "model_module": "@jupyter-widgets/controls",
          "model_name": "DescriptionStyleModel",
          "state": {
            "_view_name": "StyleView",
            "_model_name": "DescriptionStyleModel",
            "description_width": "",
            "_view_module": "@jupyter-widgets/base",
            "_model_module_version": "1.5.0",
            "_view_count": null,
            "_view_module_version": "1.2.0",
            "_model_module": "@jupyter-widgets/controls"
          }
        },
        "7f4040c97671480d969babfaacb1fa68": {
          "model_module": "@jupyter-widgets/base",
          "model_name": "LayoutModel",
          "state": {
            "_view_name": "LayoutView",
            "grid_template_rows": null,
            "right": null,
            "justify_content": null,
            "_view_module": "@jupyter-widgets/base",
            "overflow": null,
            "_model_module_version": "1.2.0",
            "_view_count": null,
            "flex_flow": null,
            "width": null,
            "min_width": null,
            "border": null,
            "align_items": null,
            "bottom": null,
            "_model_module": "@jupyter-widgets/base",
            "top": null,
            "grid_column": null,
            "overflow_y": null,
            "overflow_x": null,
            "grid_auto_flow": null,
            "grid_area": null,
            "grid_template_columns": null,
            "flex": null,
            "_model_name": "LayoutModel",
            "justify_items": null,
            "grid_row": null,
            "max_height": null,
            "align_content": null,
            "visibility": null,
            "align_self": null,
            "height": null,
            "min_height": null,
            "padding": null,
            "grid_auto_rows": null,
            "grid_gap": null,
            "max_width": null,
            "order": null,
            "_view_module_version": "1.2.0",
            "grid_template_areas": null,
            "object_position": null,
            "object_fit": null,
            "grid_auto_columns": null,
            "margin": null,
            "display": null,
            "left": null
          }
        }
      }
    }
  },
  "cells": [
    {
      "cell_type": "markdown",
      "metadata": {
        "id": "view-in-github",
        "colab_type": "text"
      },
      "source": [
        "<a href=\"https://colab.research.google.com/github/hoangdungnguyen/PL_deeplearning/blob/master/CNNdropout_PL_DAE.ipynb\" target=\"_parent\"><img src=\"https://colab.research.google.com/assets/colab-badge.svg\" alt=\"Open In Colab\"/></a>"
      ]
    },
    {
      "cell_type": "code",
      "metadata": {
        "Collapsed": "false",
        "id": "yngvQZtwj6En",
        "colab_type": "code",
        "colab": {}
      },
      "source": [
        "!pip install MulticoreTSNE\n",
        "%matplotlib inline\n",
        "from MulticoreTSNE import MulticoreTSNE as TSNE\n",
        "from matplotlib import pyplot as plt\n",
        "import torch\n",
        "from torchvision import datasets, transforms\n",
        "from torch import nn\n",
        "import torch.nn.functional as F\n",
        "import numpy as np\n",
        "import pandas as pd\n",
        "import time\n",
        "import gc\n",
        "\n",
        "torch.manual_seed(42)\n",
        "np.random.seed(42)\n",
        "torch.backends.cudnn.deterministic = True\n",
        "torch.backends.cudnn.benchmark = False\n",
        "\n",
        "from tensorflow.examples.tutorials.mnist import input_data\n",
        "from sklearn.model_selection import StratifiedShuffleSplit\n",
        "from tqdm import tqdm_notebook\n",
        "\n",
        "\n",
        "mnist = input_data.read_data_sets(\"\", one_hot=True)"
      ],
      "execution_count": 0,
      "outputs": []
    },
    {
      "cell_type": "code",
      "metadata": {
        "id": "uWVCadRNtAOV",
        "colab_type": "code",
        "colab": {}
      },
      "source": [
        "##### Define hyper-parameters #####\n",
        "\n",
        "# Dropout parameters\n",
        "dropoutRate_0 = 0.\n",
        "dropoutRate_1 = 0.5 #ref\n",
        "\n",
        "# NN parameters\n",
        "inputN = 784\n",
        "hiddenN = 392\n",
        "hiddenN2 = 256\n",
        "hiddenN3 = 128\n",
        "outputN = 10\n",
        "\n",
        "\n",
        "# iteraction parameters\n",
        "num_labelled = 100\n",
        "trainingEpochs = 200\n",
        "PLtrainingEpochs = 500\n",
        "train_BS = 32 # ref\n",
        "unlabel_BS = 256 #ref \n",
        "\n",
        "# balancing coefficient\n",
        "T1 = 200 #ref\n",
        "T2 = 800 #ref\n",
        "a = 0. #ref\n",
        "af = 3. #ref\n",
        "\n",
        "# SGD with dynamic momentum\n",
        "learningRate = 1.5 # ref\n",
        "T = 500 #ref\n",
        "k = 0.998 #ref\n",
        "pi = 0.5 #ref\n",
        "pf = 0.99 #ref\n",
        "\n",
        "# DAE\n",
        "corruption_proba = 0.5\n",
        "\n",
        "# loading data\n",
        "x_test = mnist.test.images\n",
        "y_test = mnist.test.labels\n",
        "x_trainall = mnist.train.images\n",
        "y_trainall = mnist.train.labels\n",
        "\n",
        "x_trainall = torch.from_numpy(x_trainall).type(torch.FloatTensor)\n",
        "y_trainall = torch.from_numpy(y_trainall).type(torch.FloatTensor)\n",
        "trainall = torch.utils.data.TensorDataset(x_trainall, y_trainall)\n",
        "trainall_loader = torch.utils.data.DataLoader(trainall, batch_size = 1000, shuffle = True, num_workers = 8)"
      ],
      "execution_count": 0,
      "outputs": []
    },
    {
      "cell_type": "code",
      "metadata": {
        "id": "Uk4eXForbo64",
        "colab_type": "code",
        "colab": {}
      },
      "source": [
        "##### Create noisy observation ####\n",
        "def making_noise(x, prob):\n",
        "  if type(x) == np.ndarray :\n",
        "    x = torch.from_numpy(x).type(torch.FloatTensor)\n",
        "  dim1, dim2 = x.shape\n",
        "  corrupted_factor = np.concatenate([np.zeros([dim1, int(dim2*prob)]), np.ones([dim1, dim2- int(dim2*prob)])], axis = 1)\n",
        "  np.apply_along_axis(np.random.shuffle,1,corrupted_factor)\n",
        "  return x*torch.from_numpy(corrupted_factor).type(torch.FloatTensor)"
      ],
      "execution_count": 0,
      "outputs": []
    },
    {
      "cell_type": "code",
      "metadata": {
        "id": "pzxQuF7MWgh9",
        "colab_type": "code",
        "colab": {}
      },
      "source": [
        "class ConvDenoiser(nn.Module):\n",
        "      def __init__(self):\n",
        "        super(ConvDenoiser, self).__init__()\n",
        "        ## encode layer ##\n",
        "        self.fc1 = nn.Linear(784,1000)\n",
        "        ## decode layer\n",
        "        self.fc2 = nn.Linear(1000,784)\n",
        "\n",
        "      def forward(self, x):\n",
        "        x = F.tanh(self.fc1(x))\n",
        "        x = F.sigmoid(self.fc2(x))\n",
        "        return x"
      ],
      "execution_count": 0,
      "outputs": []
    },
    {
      "cell_type": "markdown",
      "metadata": {
        "id": "6cUtMgHgJtko",
        "colab_type": "text"
      },
      "source": [
        ""
      ]
    },
    {
      "cell_type": "code",
      "metadata": {
        "id": "_nrsnvxxml_R",
        "colab_type": "code",
        "colab": {}
      },
      "source": [
        "def DAE(model, train_loader):\n",
        " \n",
        "    optimizer = torch.optim.Adam(model.parameters(), lr=0.01)\n",
        "    n_epochs = 100\n",
        "    begin = time.time()\n",
        "    for epoch in tqdm_notebook(range(n_epochs)):\n",
        "        # monitor training loss\n",
        "        train_loss = 0.0\n",
        "        for X_batch,_ in train_loader :\n",
        "            \n",
        "            X_batch_noise = making_noise(X_batch, corruption_proba)\n",
        "                    \n",
        "            optimizer.zero_grad()\n",
        "            outputs = model(X_batch_noise)\n",
        "            # calculate the loss\n",
        "            # the \"target\" is still the original, not-noisy images\n",
        "            loss = F.binary_cross_entropy(outputs, X_batch)\n",
        "            loss.backward()\n",
        "            optimizer.step()\n",
        "            train_loss += loss.item()*X_batch.size(0)\n",
        "        if (epoch+1)% 10 == 0 or epoch ==0:\n",
        "            train_loss = train_loss/len(train_loader)\n",
        "            print('Epoch: {} : Time = {:.2f} | Train Loss = {:.3f}'.\n",
        "                  format(epoch+1, time.time() - begin,train_loss))"
      ],
      "execution_count": 0,
      "outputs": []
    },
    {
      "cell_type": "code",
      "metadata": {
        "id": "7s4Phy0uml9o",
        "colab_type": "code",
        "colab": {
          "base_uri": "https://localhost:8080/",
          "height": 321,
          "referenced_widgets": [
            "d4e7e44235b1424ba2a3f447280fcabd",
            "93ac5afc70cb4179ac661154f358331c",
            "563e1a9e3ed94df186e9a229ae3e0af5",
            "ce4440330e5a433db25054e51bf37e24",
            "18ffeb6cc0c84964b6de60b6812acebf",
            "522b1de2732848bb85bef6824929319d",
            "a6d87c21de174d5f98ab8fb68a866b82",
            "e579ea3643d048d49a3ff0e0ed2bdb92"
          ]
        },
        "outputId": "7b116b2e-dce8-4ee3-d80c-ff1e601163af"
      },
      "source": [
        "DAE_model = ConvDenoiser()\n",
        "DAE(DAE_model, trainall_loader)"
      ],
      "execution_count": 21,
      "outputs": [
        {
          "output_type": "display_data",
          "data": {
            "application/vnd.jupyter.widget-view+json": {
              "model_id": "d4e7e44235b1424ba2a3f447280fcabd",
              "version_minor": 0,
              "version_major": 2
            },
            "text/plain": [
              "HBox(children=(IntProgress(value=0), HTML(value='')))"
            ]
          },
          "metadata": {
            "tags": []
          }
        },
        {
          "output_type": "stream",
          "text": [
            "/usr/local/lib/python3.6/dist-packages/torch/nn/functional.py:1340: UserWarning: nn.functional.tanh is deprecated. Use torch.tanh instead.\n",
            "  warnings.warn(\"nn.functional.tanh is deprecated. Use torch.tanh instead.\")\n",
            "/usr/local/lib/python3.6/dist-packages/torch/nn/functional.py:1351: UserWarning: nn.functional.sigmoid is deprecated. Use torch.sigmoid instead.\n",
            "  warnings.warn(\"nn.functional.sigmoid is deprecated. Use torch.sigmoid instead.\")\n"
          ],
          "name": "stderr"
        },
        {
          "output_type": "stream",
          "text": [
            "Epoch: 1 : Time = 10.16 | Train Loss = 232.705\n",
            "Epoch: 10 : Time = 100.05 | Train Loss = 98.832\n",
            "Epoch: 20 : Time = 199.93 | Train Loss = 92.381\n",
            "Epoch: 30 : Time = 299.57 | Train Loss = 90.797\n",
            "Epoch: 40 : Time = 399.71 | Train Loss = 89.993\n",
            "Epoch: 50 : Time = 500.32 | Train Loss = 89.568\n",
            "Epoch: 60 : Time = 600.47 | Train Loss = 89.251\n",
            "Epoch: 70 : Time = 701.12 | Train Loss = 89.033\n",
            "Epoch: 80 : Time = 803.29 | Train Loss = 88.636\n",
            "Epoch: 90 : Time = 905.25 | Train Loss = 88.576\n",
            "Epoch: 100 : Time = 1006.73 | Train Loss = 88.475\n",
            "\n"
          ],
          "name": "stdout"
        }
      ]
    },
    {
      "cell_type": "code",
      "metadata": {
        "id": "oQP7Ltq-r6aZ",
        "colab_type": "code",
        "colab": {
          "base_uri": "https://localhost:8080/",
          "height": 281
        },
        "outputId": "d4f3b8c0-d1a5-4d5a-a528-1365200e1fcf"
      },
      "source": [
        "x_test_noise = making_noise(x_test[0:100], corruption_proba)\n",
        "x_test_DAE = DAE_model(x_test_noise)\n",
        "x_test_DAE = x_test_DAE.detach().numpy()\n",
        "x_test_noise = x_test_noise.numpy()\n",
        "f, a = plt.subplots(3, 10, figsize=(10, 3))\n",
        "plt.axis('off')\n",
        "for i in range(10):\n",
        "    a[0][i].imshow(np.reshape(x_test[i], (28, 28)), cmap='Greys',  interpolation='nearest')\n",
        "    a[1][i].imshow(x_test_noise[i].reshape(28, 28), cmap='Greys',  interpolation='nearest')\n",
        "    a[2][i].imshow(x_test_DAE[i].reshape(28, 28), cmap='Greys',  interpolation='nearest')\n",
        "plt.show()\n"
      ],
      "execution_count": 22,
      "outputs": [
        {
          "output_type": "stream",
          "text": [
            "/usr/local/lib/python3.6/dist-packages/torch/nn/functional.py:1340: UserWarning: nn.functional.tanh is deprecated. Use torch.tanh instead.\n",
            "  warnings.warn(\"nn.functional.tanh is deprecated. Use torch.tanh instead.\")\n",
            "/usr/local/lib/python3.6/dist-packages/torch/nn/functional.py:1351: UserWarning: nn.functional.sigmoid is deprecated. Use torch.sigmoid instead.\n",
            "  warnings.warn(\"nn.functional.sigmoid is deprecated. Use torch.sigmoid instead.\")\n"
          ],
          "name": "stderr"
        },
        {
          "output_type": "display_data",
          "data": {
            "image/png": "[encoded data removed]",
            "text/plain": [
              "<Figure size 720x216 with 30 Axes>"
            ]
          },
          "metadata": {
            "tags": []
          }
        }
      ]
    },
    {
      "cell_type": "code",
      "metadata": {
        "id": "gu_0-uKZml5p",
        "colab_type": "code",
        "colab": {}
      },
      "source": [
        "def autoencoder_data(tensor_data):\n",
        "  return DAE_model(making_noise(tensor_data, corruption_proba))\n"
      ],
      "execution_count": 0,
      "outputs": []
    },
    {
      "cell_type": "code",
      "metadata": {
        "id": "C_R3AWdSmlxu",
        "colab_type": "code",
        "colab": {
          "base_uri": "https://localhost:8080/",
          "height": 102
        },
        "outputId": "93ca9005-58d7-44bd-e06d-978477ebc0a0"
      },
      "source": [
        "x_test = autoencoder_data(x_test)\n",
        "y_test = mnist.test.labels\n",
        "test_BS = len(x_test)// (num_labelled//train_BS)\n",
        "\n",
        "y_test = torch.from_numpy(y_test.argmax(1)).type(torch.LongTensor) \n",
        "test = torch.utils.data.TensorDataset(x_test, y_test)\n",
        "test_loader = torch.utils.data.DataLoader(test, batch_size = test_BS, shuffle = True, num_workers = 8)\n",
        "\n",
        "del x_test, y_test, x_trainall, y_trainall, trainall, trainall_loader\n",
        "gc.collect()"
      ],
      "execution_count": 24,
      "outputs": [
        {
          "output_type": "stream",
          "text": [
            "/usr/local/lib/python3.6/dist-packages/torch/nn/functional.py:1340: UserWarning: nn.functional.tanh is deprecated. Use torch.tanh instead.\n",
            "  warnings.warn(\"nn.functional.tanh is deprecated. Use torch.tanh instead.\")\n",
            "/usr/local/lib/python3.6/dist-packages/torch/nn/functional.py:1351: UserWarning: nn.functional.sigmoid is deprecated. Use torch.sigmoid instead.\n",
            "  warnings.warn(\"nn.functional.sigmoid is deprecated. Use torch.sigmoid instead.\")\n"
          ],
          "name": "stderr"
        },
        {
          "output_type": "execute_result",
          "data": {
            "text/plain": [
              "124"
            ]
          },
          "metadata": {
            "tags": []
          },
          "execution_count": 24
        }
      ]
    },
    {
      "cell_type": "code",
      "metadata": {
        "id": "83o1b5H4mwUY",
        "colab_type": "code",
        "colab": {
          "base_uri": "https://localhost:8080/",
          "height": 217
        },
        "outputId": "26c6521f-e613-4e9f-cc9f-883e956583fa"
      },
      "source": [
        "def random_data_generator(nb_PLdata = False):\n",
        "  stratSplit = StratifiedShuffleSplit(test_size=100, n_splits=1)\n",
        "  stratSplit.get_n_splits(mnist.train.images, np.argmax(mnist.train.labels, axis = 1))\n",
        "  for train_index, test_index in stratSplit.split(X = mnist.train.images,y = mnist.train.labels):\n",
        "    x_train = mnist.train.images[test_index]\n",
        "    y_train = mnist.train.labels[test_index]\n",
        "    if nb_PLdata == False :\n",
        "      x_PL = mnist.train.images[train_index]\n",
        "    else:\n",
        "      x_PL = mnist.train.images[train_index][0:nb_PLdata]\n",
        "  return x_train, y_train, x_PL\n",
        "\n",
        "x_train_viewtest, y_train_viewtest, x_PL_viewtest = random_data_generator()\n",
        "print('Labeled data size :', x_train_viewtest.shape)\n",
        "print('Unlabeled data size :', x_PL_viewtest.shape)\n",
        "print('Proportion of class label in train data: ')\n",
        "\n",
        "print(pd.DataFrame(np.unique(np.argmax(y_train_viewtest,1), return_counts = True)).to_string())\n",
        "\n",
        "f, a = plt.subplots(1, 10, figsize=(10, 3))\n",
        "for i in range(10):\n",
        "    a[i].imshow(np.reshape(x_train_viewtest[i], (28, 28)), cmap='Greys',  interpolation='nearest')\n",
        "plt.show()\n",
        "\n",
        "print(y_train_viewtest[0:10].argmax(1))"
      ],
      "execution_count": 26,
      "outputs": [
        {
          "output_type": "stream",
          "text": [
            "Labeled data size : (100, 784)\n",
            "Unlabeled data size : (54900, 784)\n",
            "Proportion of class label in train data: \n",
            "    0   1   2   3   4  5   6   7   8   9\n",
            "0   0   1   2   3   4  5   6   7   8   9\n",
            "1  10  11  10  10  10  9  10  10  10  10\n"
          ],
          "name": "stdout"
        },
        {
          "output_type": "display_data",
          "data": {
            "image/png": "[encoded data removed]",
            "text/plain": [
              "<Figure size 720x216 with 10 Axes>"
            ]
          },
          "metadata": {
            "tags": []
          }
        },
        {
          "output_type": "stream",
          "text": [
            "[5 4 2 5 9 4 7 2 1 1]\n"
          ],
          "name": "stdout"
        }
      ]
    },
    {
      "cell_type": "code",
      "metadata": {
        "id": "KX5IlKj1ti85",
        "colab_type": "code",
        "colab": {}
      },
      "source": [
        "def data_build(nb_PLdata = False):\n",
        "  x_train, y_train, x_PL = random_data_generator(nb_PLdata)\n",
        "  x_train = torch.from_numpy(x_train).type(torch.FloatTensor)\n",
        "  y_train = torch.from_numpy(y_train.argmax(1)).type(torch.LongTensor) \n",
        "\n",
        "  x_PL = torch.from_numpy(x_PL).type(torch.FloatTensor)\n",
        "\n",
        "  train = torch.utils.data.TensorDataset(x_train, y_train)\n",
        "  train_loader = torch.utils.data.DataLoader(train, batch_size = train_BS, shuffle = True, num_workers = 8)\n",
        "\n",
        "  unlabeled = torch.utils.data.TensorDataset(x_PL)\n",
        "  unlabeled_loader = torch.utils.data.DataLoader(unlabeled, batch_size = unlabel_BS, shuffle = True, num_workers = 8)\n",
        "\n",
        "  return train_loader, unlabeled_loader"
      ],
      "execution_count": 0,
      "outputs": []
    },
    {
      "cell_type": "code",
      "metadata": {
        "Collapsed": "false",
        "id": "AuYdQcJcj6Fu",
        "colab_type": "code",
        "colab": {}
      },
      "source": [
        "class Net(nn.Module):\n",
        "        def __init__(self):\n",
        "            super(Net, self).__init__()\n",
        "            self.conv1 = nn.Conv2d(1, 20, kernel_size=5)\n",
        "            self.conv2 = nn.Conv2d(20, 40, kernel_size=5)\n",
        "            self.conv2_drop = nn.Dropout2d(dropoutRate_1)\n",
        "            self.fc1 = nn.Linear(640, 150)\n",
        "            self.fc2 = nn.Linear(150, 10)\n",
        "            self.log_softmax = nn.LogSoftmax(dim = 1)\n",
        "\n",
        "        def forward(self, x):\n",
        "            x = x.view(-1,1,28,28)\n",
        "            x = F.relu(F.max_pool2d(self.conv1(x), 2))\n",
        "            x = F.relu(F.max_pool2d(self.conv2_drop(self.conv2(x)), 2))\n",
        "            x = x.view(-1, 640)\n",
        "            x = F.relu(self.fc1(x))\n",
        "            x = F.dropout(x, training=self.training)\n",
        "            x = F.relu(self.fc2(x))\n",
        "            x = self.log_softmax(x)\n",
        "            return x"
      ],
      "execution_count": 0,
      "outputs": []
    },
    {
      "cell_type": "markdown",
      "metadata": {
        "Collapsed": "false",
        "id": "2cvfdyVhj6F3",
        "colab_type": "text"
      },
      "source": [
        "Now let's define a function to evaluate the network and get loss and accuracy values. "
      ]
    },
    {
      "cell_type": "code",
      "metadata": {
        "Collapsed": "false",
        "id": "wCvmeOTqj6F7",
        "colab_type": "code",
        "colab": {}
      },
      "source": [
        "def evaluate(model, test_loader):\n",
        "    model.eval()\n",
        "    correct = 0 \n",
        "    loss = 0\n",
        "    with torch.no_grad():\n",
        "        for data, labels in test_loader:\n",
        "            data = data.cuda()\n",
        "            output = model(data)\n",
        "            predicted = torch.max(output,1)[1]\n",
        "            correct += (predicted == labels.cuda()).sum()\n",
        "            loss += F.nll_loss(output, labels.cuda()).item()\n",
        "\n",
        "    return (float(correct)/len(test)) *100, (loss/len(test_loader))"
      ],
      "execution_count": 0,
      "outputs": []
    },
    {
      "cell_type": "markdown",
      "metadata": {
        "Collapsed": "false",
        "id": "9asmPXfJj6GD",
        "colab_type": "text"
      },
      "source": [
        "First, let's train the model on the labeled set for 300 epochs"
      ]
    },
    {
      "cell_type": "code",
      "metadata": {
        "Collapsed": "false",
        "id": "CcQG6ZuVj6GG",
        "colab_type": "code",
        "colab": {}
      },
      "source": [
        "def train_supervised(model, train_loader, test_loader, verbose_step = 10):\n",
        "    test_acc_list = []\n",
        "    test_loss_list = []\n",
        "    optimizer = torch.optim.SGD( model.parameters(), lr = 0.1)\n",
        "    model.train()\n",
        "    begin = time.time()\n",
        "    for epoch in tqdm_notebook(range(trainingEpochs)):\n",
        "        correct = 0\n",
        "        running_loss = 0\n",
        "        for batch_idx, (X_batch, y_batch) in enumerate(train_loader):\n",
        "            X_batch, y_batch = autoencoder_data(X_batch).cuda(), y_batch.cuda()\n",
        "            \n",
        "            output = model(X_batch)\n",
        "            labeled_loss = F.cross_entropy(output, y_batch)\n",
        "                       \n",
        "            optimizer.zero_grad()\n",
        "            labeled_loss.backward()\n",
        "            optimizer.step()\n",
        "            running_loss += labeled_loss.item()\n",
        "        \n",
        "        if (epoch+1) %verbose_step == 0 or epoch ==0:\n",
        "            test_acc, test_loss = evaluate(model, test_loader)\n",
        "            test_acc_list.append(test_acc)\n",
        "            test_loss_list.append(test_loss)\n",
        "            print('Epoch: {} : Time = {:.2f} | Train Loss = {:.3f} | Test Acc = {:.3f} | Test Loss= {:.3f} '.\n",
        "                  format(epoch+1,time.time()-begin, running_loss/(10 * num_labelled), test_acc, test_loss))\n",
        "            model.train()\n",
        "    return test_acc_list, test_loss_list    "
      ],
      "execution_count": 0,
      "outputs": []
    },
    {
      "cell_type": "code",
      "metadata": {
        "Collapsed": "false",
        "id": "fLlyWPC0j6Gn",
        "colab_type": "code",
        "colab": {}
      },
      "source": [
        "def alpha_weight(epoch):\n",
        "    if epoch < T1:\n",
        "        return 0.0\n",
        "    elif epoch > T2:\n",
        "        return af\n",
        "    else:\n",
        "         return ((epoch-T1) / (T2-T1))*af"
      ],
      "execution_count": 0,
      "outputs": []
    },
    {
      "cell_type": "code",
      "metadata": {
        "Collapsed": "false",
        "id": "_9XslnBPj6Gz",
        "colab_type": "code",
        "colab": {}
      },
      "source": [
        "def semisup_train(model, train_loader, unlabeled_loader, test_loader, verbose_step = 10):\n",
        "    alpha_list = []\n",
        "    test_acc_list = []\n",
        "    test_loss_list = []\n",
        "    begin = time.time()\n",
        "    optimizer = torch.optim.SGD(model.parameters(), lr = 0.1,)\n",
        "    \n",
        "    # Instead of using current epoch we use a \"step\" variable to calculate alpha_weight\n",
        "    # This helps the model converge faster\n",
        "    step = 0 \n",
        "\n",
        "    model.train()\n",
        "    for epoch in tqdm_notebook(range(PLtrainingEpochs)):\n",
        "        for batch_idx, x_unlabeled in enumerate(unlabeled_loader):\n",
        "            \n",
        "            \n",
        "            # Forward Pass to get the pseudo labels\n",
        "            x_unlabeled = autoencoder_data(x_unlabeled[0]).cuda()\n",
        "            model.eval()\n",
        "            output_unlabeled = model(x_unlabeled)\n",
        "            _, pseudo_labeled = torch.max(output_unlabeled, 1)\n",
        "            model.train()\n",
        "            \n",
        "            # Now calculate the unlabeled loss using the pseudo label\n",
        "            output = model(x_unlabeled)\n",
        "            unlabeled_loss = alpha_weight(step) * F.cross_entropy(output, pseudo_labeled)   \n",
        "            \n",
        "            # Backpropogate\n",
        "            optimizer.zero_grad()\n",
        "            unlabeled_loss.backward()\n",
        "            optimizer.step()\n",
        "\n",
        "            # For every 50 unlabeled batches train one epoch on labeled data \n",
        "            if batch_idx % 50 == 0:\n",
        "              for batch_idx, (X_batch, y_batch) in enumerate(train_loader):\n",
        "                  X_batch = autoencoder_data(X_batch).cuda()\n",
        "                  y_batch = y_batch.cuda()\n",
        "                  output = model(X_batch)\n",
        "                  labeled_loss = F.cross_entropy(output, y_batch)\n",
        "\n",
        "                  optimizer.zero_grad()\n",
        "                  labeled_loss.backward()\n",
        "                  optimizer.step()\n",
        "                \n",
        "              # Now we increment step by 1\n",
        "              step += 1\n",
        "                \n",
        "        if (epoch+1) %verbose_step == 0 or epoch ==0:  \n",
        "            test_acc, test_loss =evaluate(model, test_loader)\n",
        "            print('Epoch: {} : Time = {:.2f} | Alpha Weight = {:.3f} | Test Acc = {:.3f} | Test Loss = {:.3f} '.\n",
        "                  format(epoch+1, time.time()- begin, alpha_weight(step), test_acc, test_loss))\n",
        "        \n",
        "            \"\"\" LOGGING VALUES \"\"\"\n",
        "            alpha_list.append(alpha_weight(step))\n",
        "            test_acc_list.append(test_acc)\n",
        "            test_loss_list.append(test_loss)\n",
        "        \"\"\" ************** \"\"\"\n",
        "        model.train()\n",
        "    return alpha_list, test_acc_list, test_loss_list\n",
        " "
      ],
      "execution_count": 0,
      "outputs": []
    },
    {
      "cell_type": "code",
      "metadata": {
        "Collapsed": "false",
        "id": "f_zYEwLhj6G4",
        "colab_type": "code",
        "colab": {}
      },
      "source": [
        "def run_function(verbose_supervised = 20, verbose_unsupervised = 50) :\n",
        "    train_loader, unlabeled_loader = data_build()\n",
        "    print('===== Supervised training =====')\n",
        "    net = Net().cuda() \n",
        "    NN_acc, NN_loss = train_supervised(net, train_loader, test_loader, verbose_supervised)\n",
        "\n",
        "    print('===== Semi-supervised training =====')\n",
        "\n",
        "    net = Net().cuda()\n",
        "    alpha_list, PL_acc, PL_loss = semisup_train(net, train_loader, unlabeled_loader, test_loader, verbose_unsupervised)\n",
        "\n",
        "    print('===== Conclusion =====')\n",
        "    print('Supervised accuracy = ', NN_acc[-1])\n",
        "    print('+PL accuracy = ', PL_acc[-1])\n",
        "    return NN_acc, NN_loss, alpha_list, PL_acc, PL_loss"
      ],
      "execution_count": 0,
      "outputs": []
    },
    {
      "cell_type": "code",
      "metadata": {
        "id": "BIrLjhEnHcm1",
        "colab_type": "code",
        "colab": {
          "base_uri": "https://localhost:8080/",
          "height": 608,
          "referenced_widgets": [
            "5d48ccab11a54a068e11739c6dbc1281",
            "923ae418608041fb9a71185f30b71861",
            "e9db896682e24d74bc6693879789d103",
            "56cbd4f5f7244755b86e354f4d2f801b",
            "aa1a2ba57c78457db1e94be61a51ee71",
            "c269fccf56774fa2b284f5e14c3c7736",
            "e883ba7b59c1463fa24b4aedd343dc55",
            "1f13234d23e0455aa36f026054c1f894",
            "0e182709fd0b486ba314a9c587e4eeb1",
            "d4b081bfd4cd4a75b0f7fc35866a0b01",
            "6d492b6356ee4c95a252046803b10d27",
            "f04022641d3843b59ca758e0fdacc972",
            "0bc0961815df498286b78e772138ddbd",
            "47008eb97daf401e99c24163e9e4e9e2",
            "d69da996393845d5958b36d13e128779",
            "7f4040c97671480d969babfaacb1fa68"
          ]
        },
        "outputId": "9a9df8dc-2b85-4799-c58f-f63345821962"
      },
      "source": [
        "NN_acc, NN_loss, alpha_list, PL_acc, PL_loss = run_function()"
      ],
      "execution_count": 37,
      "outputs": [
        {
          "output_type": "stream",
          "text": [
            "===== Supervised training =====\n"
          ],
          "name": "stdout"
        },
        {
          "output_type": "display_data",
          "data": {
            "application/vnd.jupyter.widget-view+json": {
              "model_id": "5d48ccab11a54a068e11739c6dbc1281",
              "version_minor": 0,
              "version_major": 2
            },
            "text/plain": [
              "HBox(children=(IntProgress(value=0, max=200), HTML(value='')))"
            ]
          },
          "metadata": {
            "tags": []
          }
        },
        {
          "output_type": "stream",
          "text": [
            "/usr/local/lib/python3.6/dist-packages/torch/nn/functional.py:1340: UserWarning: nn.functional.tanh is deprecated. Use torch.tanh instead.\n",
            "  warnings.warn(\"nn.functional.tanh is deprecated. Use torch.tanh instead.\")\n",
            "/usr/local/lib/python3.6/dist-packages/torch/nn/functional.py:1351: UserWarning: nn.functional.sigmoid is deprecated. Use torch.sigmoid instead.\n",
            "  warnings.warn(\"nn.functional.sigmoid is deprecated. Use torch.sigmoid instead.\")\n"
          ],
          "name": "stderr"
        },
        {
          "output_type": "stream",
          "text": [
            "Epoch: 1 : Time = 1.00 | Train Loss = 0.009 | Test Acc = 14.610 | Test Loss= 2.275 \n",
            "Epoch: 20 : Time = 9.70 | Train Loss = 0.007 | Test Acc = 36.180 | Test Loss= 1.807 \n",
            "Epoch: 40 : Time = 18.88 | Train Loss = 0.002 | Test Acc = 61.420 | Test Loss= 0.923 \n",
            "Epoch: 60 : Time = 28.03 | Train Loss = 0.002 | Test Acc = 70.160 | Test Loss= 1.050 \n",
            "Epoch: 80 : Time = 37.28 | Train Loss = 0.000 | Test Acc = 83.530 | Test Loss= 0.500 \n",
            "Epoch: 100 : Time = 46.39 | Train Loss = 0.001 | Test Acc = 72.160 | Test Loss= 0.877 \n",
            "Epoch: 120 : Time = 55.48 | Train Loss = 0.000 | Test Acc = 83.190 | Test Loss= 0.503 \n",
            "Epoch: 140 : Time = 64.74 | Train Loss = 0.000 | Test Acc = 84.760 | Test Loss= 0.534 \n",
            "Epoch: 160 : Time = 73.84 | Train Loss = 0.000 | Test Acc = 84.880 | Test Loss= 0.914 \n",
            "Epoch: 180 : Time = 82.96 | Train Loss = 0.000 | Test Acc = 84.060 | Test Loss= 0.657 \n",
            "Epoch: 200 : Time = 92.16 | Train Loss = 0.000 | Test Acc = 84.560 | Test Loss= 0.585 \n",
            "===== Semi-supervised training =====\n"
          ],
          "name": "stdout"
        },
        {
          "output_type": "display_data",
          "data": {
            "application/vnd.jupyter.widget-view+json": {
              "model_id": "0e182709fd0b486ba314a9c587e4eeb1",
              "version_minor": 0,
              "version_major": 2
            },
            "text/plain": [
              "HBox(children=(IntProgress(value=0, max=500), HTML(value='')))"
            ]
          },
          "metadata": {
            "tags": []
          }
        },
        {
          "output_type": "stream",
          "text": [
            "Epoch: 1 : Time = 13.65 | Alpha Weight = 0.000 | Test Acc = 24.350 | Test Loss = 2.257 \n",
            "Epoch: 50 : Time = 656.56 | Alpha Weight = 0.250 | Test Acc = 89.810 | Test Loss = 0.350 \n",
            "Epoch: 100 : Time = 1299.19 | Alpha Weight = 1.500 | Test Acc = 95.080 | Test Loss = 0.186 \n",
            "Epoch: 150 : Time = 1945.98 | Alpha Weight = 2.750 | Test Acc = 95.150 | Test Loss = 0.198 \n",
            "Epoch: 200 : Time = 2560.72 | Alpha Weight = 3.000 | Test Acc = 95.870 | Test Loss = 0.181 \n",
            "Epoch: 250 : Time = 3174.45 | Alpha Weight = 3.000 | Test Acc = 96.240 | Test Loss = 0.161 \n",
            "Epoch: 300 : Time = 3794.00 | Alpha Weight = 3.000 | Test Acc = 96.330 | Test Loss = 0.170 \n",
            "Epoch: 350 : Time = 4446.83 | Alpha Weight = 3.000 | Test Acc = 96.540 | Test Loss = 0.149 \n",
            "Epoch: 400 : Time = 5071.77 | Alpha Weight = 3.000 | Test Acc = 96.570 | Test Loss = 0.175 \n",
            "Epoch: 450 : Time = 5703.08 | Alpha Weight = 3.000 | Test Acc = 96.580 | Test Loss = 0.177 \n",
            "Epoch: 500 : Time = 6338.08 | Alpha Weight = 3.000 | Test Acc = 96.500 | Test Loss = 0.172 \n",
            "===== Conclusion =====\n",
            "Supervised accuracy =  84.56\n",
            "+PL accuracy =  96.5\n"
          ],
          "name": "stdout"
        }
      ]
    },
    {
      "cell_type": "code",
      "metadata": {
        "id": "gFh83nbPQ89z",
        "colab_type": "code",
        "colab": {
          "base_uri": "https://localhost:8080/",
          "height": 285
        },
        "outputId": "e8327661-736a-4f21-847d-51a8c85b0170"
      },
      "source": [
        "plt.clf()\n",
        "plt.plot(np.append(1,np.arange(20,201,20)), NN_acc)\n",
        "plt.plot(np.append(1,np.arange(50,501,50)), PL_acc)"
      ],
      "execution_count": 38,
      "outputs": [
        {
          "output_type": "execute_result",
          "data": {
            "text/plain": [
              "[<matplotlib.lines.Line2D at 0x7eff598d84a8>]"
            ]
          },
          "metadata": {
            "tags": []
          },
          "execution_count": 38
        },
        {
          "output_type": "display_data",
          "data": {
            "image/png": "[encoded data removed]",
            "text/plain": [
              "<Figure size 432x288 with 1 Axes>"
            ]
          },
          "metadata": {
            "tags": []
          }
        }
      ]
    },
    {
      "cell_type": "code",
      "metadata": {
        "id": "ex9VG3oURgmp",
        "colab_type": "code",
        "colab": {
          "base_uri": "https://localhost:8080/",
          "height": 282
        },
        "outputId": "b96b568f-1477-4978-a121-39825376e51a"
      },
      "source": [
        "plt.clf()\n",
        "plt.plot(np.append(1,np.arange(20,201,20)), NN_loss)\n",
        "plt.plot(np.append(1,np.arange(50,501,50)), PL_loss)"
      ],
      "execution_count": 39,
      "outputs": [
        {
          "output_type": "execute_result",
          "data": {
            "text/plain": [
              "[<matplotlib.lines.Line2D at 0x7eff592786d8>]"
            ]
          },
          "metadata": {
            "tags": []
          },
          "execution_count": 39
        },
        {
          "output_type": "display_data",
          "data": {
            "image/png": "[encoded data removed]",
            "text/plain": [
              "<Figure size 432x288 with 1 Axes>"
            ]
          },
          "metadata": {
            "tags": []
          }
        }
      ]
    },
    {
      "cell_type": "code",
      "metadata": {
        "id": "lHn8tWiL4zAA",
        "colab_type": "code",
        "colab": {
          "base_uri": "https://localhost:8080/",
          "height": 782
        },
        "outputId": "95d4b70f-bc1e-4a6b-9364-94860f280e3e"
      },
      "source": [
        "NN_acc, NN_loss, alpha_list, PL_acc, PL_loss"
      ],
      "execution_count": 40,
      "outputs": [
        {
          "output_type": "execute_result",
          "data": {
            "text/plain": [
              "([14.610000000000001,\n",
              "  36.18,\n",
              "  61.419999999999995,\n",
              "  70.16,\n",
              "  83.53,\n",
              "  72.16,\n",
              "  83.19,\n",
              "  84.76,\n",
              "  84.88,\n",
              "  84.06,\n",
              "  84.56],\n",
              " [2.2745020389556885,\n",
              "  1.8074588775634766,\n",
              "  0.9233312010765076,\n",
              "  1.0501343309879303,\n",
              "  0.4995579272508621,\n",
              "  0.876600444316864,\n",
              "  0.5029288679361343,\n",
              "  0.5337929725646973,\n",
              "  0.9139324873685837,\n",
              "  0.656648725271225,\n",
              "  0.5848487317562103],\n",
              " [0.0, 0.25, 1.5, 2.75, 3.0, 3.0, 3.0, 3.0, 3.0, 3.0, 3.0],\n",
              " [24.349999999999998,\n",
              "  89.81,\n",
              "  95.08,\n",
              "  95.15,\n",
              "  95.87,\n",
              "  96.24000000000001,\n",
              "  96.33,\n",
              "  96.54,\n",
              "  96.57,\n",
              "  96.58,\n",
              "  96.5],\n",
              " [2.2571439146995544,\n",
              "  0.3502715677022934,\n",
              "  0.18620305135846138,\n",
              "  0.19838492572307587,\n",
              "  0.18129358813166618,\n",
              "  0.1606612354516983,\n",
              "  0.16985952481627464,\n",
              "  0.14918514341115952,\n",
              "  0.17521362751722336,\n",
              "  0.17680175229907036,\n",
              "  0.17201731726527214])"
            ]
          },
          "metadata": {
            "tags": []
          },
          "execution_count": 40
        }
      ]
    }
  ]
}